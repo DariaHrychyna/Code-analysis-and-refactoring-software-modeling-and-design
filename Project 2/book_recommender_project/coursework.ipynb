{
 "nbformat": 4,
 "nbformat_minor": 0,
 "metadata": {
  "colab": {
   "provenance": [],
   "collapsed_sections": [
    "iUoj2AR5eN6C",
    "ox6YlP42Cjoe",
    "DclV1aYLDElk",
    "Qb-hfJc5DW8t",
    "vwDOXvSMJwLU"
   ],
   "mount_file_id": "1WX5etkRZvEXA3gierZQKyMyaBdXknXn_",
   "authorship_tag": "ABX9TyPCTVG6Qh2criSYUW/MO1ad"
  },
  "kernelspec": {
   "name": "python3",
   "language": "python",
   "display_name": "Python 3 (ipykernel)"
  },
  "language_info": {
   "name": "python"
  }
 },
 "cells": [
  {
   "cell_type": "code",
   "source": [
    "#from google.colab import drive\n",
    "#import sys\n",
    "#import importlib\n",
    "\n",
    "import pandas as pd\n",
    "import numpy as np\n",
    "#import os\n",
    "import pandas as pd\n",
    "import matplotlib.pyplot as plt\n",
    "import seaborn as sns\n"
   ],
   "metadata": {
    "id": "WU6YG8_UL209",
    "ExecuteTime": {
     "end_time": "2025-05-17T19:03:17.728553200Z",
     "start_time": "2025-05-17T19:03:17.708611600Z"
    }
   },
   "execution_count": 3,
   "outputs": []
  },
  {
   "cell_type": "markdown",
   "source": [
    "# ------------------------------------------ РОБОТА З GOOGLE DRIVE ------------------------------------------"
   ],
   "metadata": {
    "id": "erwdO2yqefjt"
   }
  },
  {
   "cell_type": "code",
   "source": [
    "# підключення або перепідключення до гугл диску (забезпечення повного підключення і з оновленими змінами)\n",
    "\n",
    "from google.colab import drive\n",
    "drive.flush_and_unmount() # відключення від гугл диску(якщо підключення було)\n",
    "drive.mount('/content/drive', force_remount=True) # підключаюся до гугл диску знову"
   ],
   "metadata": {
    "colab": {
     "base_uri": "https://localhost:8080/"
    },
    "id": "uetRwd_w4GJY",
    "executionInfo": {
     "status": "ok",
     "timestamp": 1747160416528,
     "user_tz": -180,
     "elapsed": 21164,
     "user": {
      "displayName": "Daria Hrychyna",
      "userId": "00581352827663716373"
     }
    },
    "outputId": "fcf974e0-e7be-4990-b005-f094d7af2420"
   },
   "execution_count": null,
   "outputs": [
    {
     "output_type": "stream",
     "name": "stdout",
     "text": [
      "Drive not mounted, so nothing to flush and unmount.\n",
      "Mounted at /content/drive\n"
     ]
    }
   ]
  },
  {
   "cell_type": "code",
   "source": [
    "# список файлів у моїй папці проекту в гугл диску і вивід перших кількох стрічок(для переконання, що отримано найновіші версії файлів)\n",
    "\n",
    "!ls -l \"/content/drive/MyDrive/Coursework/book_recommender_project\"\n",
    "!cat \"/content/drive/MyDrive/Coursework/book_recommender_project/processing/ratings_processing.py\" | tail -n 20"
   ],
   "metadata": {
    "colab": {
     "base_uri": "https://localhost:8080/"
    },
    "id": "x0iKdK0iEQqw",
    "executionInfo": {
     "status": "ok",
     "timestamp": 1747046960372,
     "user_tz": -180,
     "elapsed": 517,
     "user": {
      "displayName": "Daria Hrychyna",
      "userId": "00581352827663716373"
     }
    },
    "outputId": "35220491-71d3-4b82-f22f-b27ed795b850"
   },
   "execution_count": null,
   "outputs": [
    {
     "output_type": "stream",
     "name": "stdout",
     "text": [
      "total 4897\n",
      "-rw------- 1 root root 1109861 May 12 09:01 coursework_copy.ipynb\n",
      "-rw------- 1 root root  909455 May 12 10:48 coursework.ipynb\n",
      "drwx------ 2 root root    4096 May 12 10:33 data\n",
      "-rw------- 1 root root    1638 Apr 16 14:17 data_loader.py\n",
      "-rw------- 1 root root    1278 Apr 16 16:12 data_preprocessing.py\n",
      "-rw------- 1 root root       0 Apr 17 18:08 data_processing.py\n",
      "-rw------- 1 root root 1223135 May  7 16:53 from_github.ipynb\n",
      "-rw------- 1 root root    1443 Apr 16 14:10 main.py\n",
      "-rw------- 1 root root 1749113 Apr 23 16:08 old_coursework.ipynb\n",
      "drwx------ 3 root root    4096 Apr 17 17:28 processing\n",
      "drwx------ 2 root root    4096 Apr 13 16:02 __pycache__\n",
      "drwx------ 3 root root    4096 Apr 17 17:29 visualization\n",
      "import pandas as pd\n",
      "\n",
      "\n",
      "def merge_books_and_ratings(books_df, ratings_df):\n",
      "    return pd.merge(ratings_df, books_df, on=\"ISBN\")\n"
     ]
    }
   ]
  },
  {
   "cell_type": "code",
   "source": [
    "# додає шлях до мого проекту в список шляхів, де пайтон шукає модулі для імпорту. це треба щоб мати змогу імпортувати власні файли, ніби вони є частиною встановленого пакета\n",
    "\n",
    "import sys\n",
    "sys.path.append('/content/drive/MyDrive/Coursework/book_recommender_project')"
   ],
   "metadata": {
    "id": "Zxi_0yAq4GL2"
   },
   "execution_count": null,
   "outputs": []
  },
  {
   "cell_type": "markdown",
   "source": [
    " # ----------------------------------------- ОЗНАЙОМЛЕННЯ З ДАНИМИ -----------------------------------------"
   ],
   "metadata": {
    "id": "iUoj2AR5eN6C"
   }
  },
  {
   "cell_type": "code",
   "source": [
    "# вивід розмірностей і перші кілька рядків з csv файлів(таблиць)\n",
    "\n",
    "from main import show_data\n",
    "import importlib\n",
    "import main\n",
    "importlib.reload(main)\n",
    "\n",
    "show_data()"
   ],
   "metadata": {
    "colab": {
     "base_uri": "https://localhost:8080/"
    },
    "id": "4v5CRyQ34GOi",
    "executionInfo": {
     "status": "ok",
     "timestamp": 1747034193724,
     "user_tz": -180,
     "elapsed": 10179,
     "user": {
      "displayName": "Daria Hrychyna",
      "userId": "00581352827663716373"
     }
    },
    "outputId": "2eab8ae0-f999-43e0-e214-5c0fd25cb0f3",
    "ExecuteTime": {
     "end_time": "2025-05-17T19:02:19.942625400Z",
     "start_time": "2025-05-17T19:02:16.143735800Z"
    }
   },
   "execution_count": 1,
   "outputs": [
    {
     "name": "stdout",
     "output_type": "stream",
     "text": [
      "Завантажую дані...\n",
      "Завантаження книг...\n"
     ]
    },
    {
     "name": "stderr",
     "output_type": "stream",
     "text": [
      "D:\\Daria\\University\\3 course\\6 term\\book_recommender_project\\data_loader.py:11: DtypeWarning: Columns (3) have mixed types. Specify dtype option on import or set low_memory=False.\n",
      "  return pd.read_csv(os.path.join(DATA_DIR, 'Books.csv'), encoding='latin-1')\n"
     ]
    },
    {
     "name": "stdout",
     "output_type": "stream",
     "text": [
      "Кількість книг: 271360\n",
      "Завантаження рейтингів...\n",
      "Кількість рейтингів: 1149780\n",
      "Завантаження користувачів...\n",
      "Кількість користувачів: 278858\n",
      "Завантаження книг...\n"
     ]
    },
    {
     "name": "stderr",
     "output_type": "stream",
     "text": [
      "D:\\Daria\\University\\3 course\\6 term\\book_recommender_project\\data_loader.py:11: DtypeWarning: Columns (3) have mixed types. Specify dtype option on import or set low_memory=False.\n",
      "  return pd.read_csv(os.path.join(DATA_DIR, 'Books.csv'), encoding='latin-1')\n"
     ]
    },
    {
     "name": "stdout",
     "output_type": "stream",
     "text": [
      "Завантаження рейтингів...\n",
      "Завантаження користувачів...\n",
      "\n",
      "Дані про книги (розмірність: 271360 рядків, 8 стовпців): \n",
      "Перші кілька рядків даних про книги:\n",
      "+---+------------+----------------------------------------------------------------------------------------------------+----------------------+---------------------+----------------------------+--------------------------------------------------------------+--------------------------------------------------------------+--------------------------------------------------------------+\n",
      "|   |    ISBN    |                                             Book-Title                                             |     Book-Author      | Year-Of-Publication |         Publisher          |                         Image-URL-S                          |                         Image-URL-M                          |                         Image-URL-L                          |\n",
      "+---+------------+----------------------------------------------------------------------------------------------------+----------------------+---------------------+----------------------------+--------------------------------------------------------------+--------------------------------------------------------------+--------------------------------------------------------------+\n",
      "| 0 | 0195153448 |                                        Classical Mythology                                         |  Mark P. O. Morford  |        2002         |  Oxford University Press   | http://images.amazon.com/images/P/0195153448.01.THUMBZZZ.jpg | http://images.amazon.com/images/P/0195153448.01.MZZZZZZZ.jpg | http://images.amazon.com/images/P/0195153448.01.LZZZZZZZ.jpg |\n",
      "| 1 | 0002005018 |                                            Clara Callan                                            | Richard Bruce Wright |        2001         |   HarperFlamingo Canada    | http://images.amazon.com/images/P/0002005018.01.THUMBZZZ.jpg | http://images.amazon.com/images/P/0002005018.01.MZZZZZZZ.jpg | http://images.amazon.com/images/P/0002005018.01.LZZZZZZZ.jpg |\n",
      "| 2 | 0060973129 |                                        Decision in Normandy                                        |     Carlo D'Este     |        1991         |      HarperPerennial       | http://images.amazon.com/images/P/0060973129.01.THUMBZZZ.jpg | http://images.amazon.com/images/P/0060973129.01.MZZZZZZZ.jpg | http://images.amazon.com/images/P/0060973129.01.LZZZZZZZ.jpg |\n",
      "| 3 | 0374157065 | Flu: The Story of the Great Influenza Pandemic of 1918 and the Search for the Virus That Caused It |   Gina Bari Kolata   |        1999         |    Farrar Straus Giroux    | http://images.amazon.com/images/P/0374157065.01.THUMBZZZ.jpg | http://images.amazon.com/images/P/0374157065.01.MZZZZZZZ.jpg | http://images.amazon.com/images/P/0374157065.01.LZZZZZZZ.jpg |\n",
      "| 4 | 0393045218 |                                       The Mummies of Urumchi                                       |   E. J. W. Barber    |        1999         | W. W. Norton &amp; Company | http://images.amazon.com/images/P/0393045218.01.THUMBZZZ.jpg | http://images.amazon.com/images/P/0393045218.01.MZZZZZZZ.jpg | http://images.amazon.com/images/P/0393045218.01.LZZZZZZZ.jpg |\n",
      "+---+------------+----------------------------------------------------------------------------------------------------+----------------------+---------------------+----------------------------+--------------------------------------------------------------+--------------------------------------------------------------+--------------------------------------------------------------+\n",
      "\n",
      "Дані про рейтинги (розмірність: 1149780 рядків, 3 стовпців): \n",
      "Перші кілька рядків даних про рейтинги:\n",
      "+---+---------+------------+-------------+\n",
      "|   | User-ID |    ISBN    | Book-Rating |\n",
      "+---+---------+------------+-------------+\n",
      "| 0 | 276725  | 034545104X |      0      |\n",
      "| 1 | 276726  | 0155061224 |      5      |\n",
      "| 2 | 276727  | 0446520802 |      0      |\n",
      "| 3 | 276729  | 052165615X |      3      |\n",
      "| 4 | 276729  | 0521795028 |      6      |\n",
      "+---+---------+------------+-------------+\n",
      "\n",
      "Дані про користувачів (розмірність: 278858 рядків, 2 стовпців): \n",
      "Перші кілька рядків даних про користувачів:\n",
      "+---+---------+------------------------------------+\n",
      "|   | User-ID |              Location              |\n",
      "+---+---------+------------------------------------+\n",
      "| 0 |    1    |         nyc, new york, usa         |\n",
      "| 1 |    2    |     stockton, california, usa      |\n",
      "| 2 |    3    |  moscow, yukon territory, russia   |\n",
      "| 3 |    4    |     porto, v.n.gaia, portugal      |\n",
      "| 4 |    5    | farnborough, hants, united kingdom |\n",
      "+---+---------+------------------------------------+\n"
     ]
    }
   ]
  },
  {
   "cell_type": "code",
   "source": [
    "# вивід аналізу таблиць\n",
    "\n",
    "from main import analyzing_data\n",
    "import main\n",
    "analyzing_data()"
   ],
   "metadata": {
    "id": "6RcUFcNB4hI8",
    "executionInfo": {
     "status": "ok",
     "timestamp": 1747034212644,
     "user_tz": -180,
     "elapsed": 6110,
     "user": {
      "displayName": "Daria Hrychyna",
      "userId": "00581352827663716373"
     }
    },
    "colab": {
     "base_uri": "https://localhost:8080/"
    },
    "outputId": "94c26838-8ddb-446a-8f13-8e4b39ccb640",
    "ExecuteTime": {
     "end_time": "2025-05-17T19:04:11.409259300Z",
     "start_time": "2025-05-17T19:04:08.223153300Z"
    }
   },
   "execution_count": 4,
   "outputs": [
    {
     "name": "stdout",
     "output_type": "stream",
     "text": [
      "Завантаження книг...\n"
     ]
    },
    {
     "name": "stderr",
     "output_type": "stream",
     "text": [
      "D:\\Daria\\University\\3 course\\6 term\\book_recommender_project\\data_loader.py:11: DtypeWarning: Columns (3) have mixed types. Specify dtype option on import or set low_memory=False.\n",
      "  return pd.read_csv(os.path.join(DATA_DIR, 'Books.csv'), encoding='latin-1')\n"
     ]
    },
    {
     "name": "stdout",
     "output_type": "stream",
     "text": [
      "Завантаження рейтингів...\n",
      "Завантаження користувачів...\n",
      "\n",
      "------------------ Аналіз таблиці Books ------------------\n",
      "Розмірність: 271360 рядків, 8 стовпців\n",
      "\n",
      "Типи даних по стовпцях:\n",
      "+---------------------+--------+\n",
      "|      Стовпець       |  Тип   |\n",
      "+---------------------+--------+\n",
      "|        ISBN         | object |\n",
      "|     Book-Title      | object |\n",
      "|     Book-Author     | object |\n",
      "| Year-Of-Publication | object |\n",
      "|      Publisher      | object |\n",
      "|     Image-URL-S     | object |\n",
      "|     Image-URL-M     | object |\n",
      "|     Image-URL-L     | object |\n",
      "+---------------------+--------+\n",
      "\n",
      "Відсутні значення по стовпцях:\n",
      "+---------------------+----------------------+\n",
      "|      Стовпець       | Кількість пропущених |\n",
      "+---------------------+----------------------+\n",
      "|        ISBN         |          0           |\n",
      "|     Book-Title      |          0           |\n",
      "|     Book-Author     |          2           |\n",
      "| Year-Of-Publication |          0           |\n",
      "|      Publisher      |          2           |\n",
      "|     Image-URL-S     |          0           |\n",
      "|     Image-URL-M     |          0           |\n",
      "|     Image-URL-L     |          3           |\n",
      "+---------------------+----------------------+\n",
      "\n",
      "Кількість дублікатів:\n",
      "0\n",
      "\n",
      "Унікальні значення в кожному стовпці:\n",
      "+---------------------+----------------------+\n",
      "|      Стовпець       | Кількість унікальних |\n",
      "+---------------------+----------------------+\n",
      "|        ISBN         |        271360        |\n",
      "|     Book-Title      |        242135        |\n",
      "|     Book-Author     |        102022        |\n",
      "| Year-Of-Publication |         202          |\n",
      "|      Publisher      |        16807         |\n",
      "|     Image-URL-S     |        271044        |\n",
      "|     Image-URL-M     |        271044        |\n",
      "|     Image-URL-L     |        271041        |\n",
      "+---------------------+----------------------+\n",
      "\n",
      "------------------ Аналіз таблиці Ratings ------------------\n",
      "Розмірність: 1149780 рядків, 3 стовпців\n",
      "\n",
      "Типи даних по стовпцях:\n",
      "+-------------+--------+\n",
      "|  Стовпець   |  Тип   |\n",
      "+-------------+--------+\n",
      "|   User-ID   | int64  |\n",
      "|    ISBN     | object |\n",
      "| Book-Rating | int64  |\n",
      "+-------------+--------+\n",
      "\n",
      "Відсутні значення по стовпцях:\n",
      "+-------------+----------------------+\n",
      "|  Стовпець   | Кількість пропущених |\n",
      "+-------------+----------------------+\n",
      "|   User-ID   |          0           |\n",
      "|    ISBN     |          0           |\n",
      "| Book-Rating |          0           |\n",
      "+-------------+----------------------+\n",
      "\n",
      "Кількість дублікатів:\n",
      "0\n",
      "\n",
      "Унікальні значення в кожному стовпці:\n",
      "+-------------+----------------------+\n",
      "|  Стовпець   | Кількість унікальних |\n",
      "+-------------+----------------------+\n",
      "|   User-ID   |        105283        |\n",
      "|    ISBN     |        340556        |\n",
      "| Book-Rating |          11          |\n",
      "+-------------+----------------------+\n",
      "\n",
      "------------------ Аналіз таблиці Users ------------------\n",
      "Розмірність: 278858 рядків, 2 стовпців\n",
      "\n",
      "Типи даних по стовпцях:\n",
      "+----------+--------+\n",
      "| Стовпець |  Тип   |\n",
      "+----------+--------+\n",
      "| User-ID  | int64  |\n",
      "| Location | object |\n",
      "+----------+--------+\n",
      "\n",
      "Відсутні значення по стовпцях:\n",
      "+----------+----------------------+\n",
      "| Стовпець | Кількість пропущених |\n",
      "+----------+----------------------+\n",
      "| User-ID  |          0           |\n",
      "| Location |          0           |\n",
      "+----------+----------------------+\n",
      "\n",
      "Кількість дублікатів:\n",
      "0\n",
      "\n",
      "Унікальні значення в кожному стовпці:\n",
      "+----------+----------------------+\n",
      "| Стовпець | Кількість унікальних |\n",
      "+----------+----------------------+\n",
      "| User-ID  |        278858        |\n",
      "| Location |        57339         |\n",
      "+----------+----------------------+\n"
     ]
    }
   ]
  },
  {
   "cell_type": "markdown",
   "source": [
    "# ------------------------------------------ РОБОТА З ТАБЛИЦЕЮ Books ------------------------------------------"
   ],
   "metadata": {
    "id": "ox6YlP42Cjoe"
   }
  },
  {
   "cell_type": "markdown",
   "source": [
    "Тут я заповнила відсутні дані та відредагувала деякі дані в певних стовпцях"
   ],
   "metadata": {
    "id": "gFhSUqh6gpWE"
   }
  },
  {
   "cell_type": "code",
   "source": [
    "# вивід конктретних рядків з пропущеними значеннями в таблиці Books\n",
    "\n",
    "from processing.books_processing import find_missing_values_in_books\n",
    "\n",
    "import processing.books_processing as books_processing\n",
    "import data_loader\n",
    "import importlib\n",
    "\n",
    "importlib.reload(data_loader)\n",
    "importlib.reload(books_processing)\n",
    "\n",
    "books_processing.find_missing_values_in_books()"
   ],
   "metadata": {
    "id": "ye1lsbRe4hK8",
    "executionInfo": {
     "status": "ok",
     "timestamp": 1747045018464,
     "user_tz": -180,
     "elapsed": 6469,
     "user": {
      "displayName": "Daria Hrychyna",
      "userId": "00581352827663716373"
     }
    },
    "colab": {
     "base_uri": "https://localhost:8080/"
    },
    "outputId": "dda070a6-636e-4050-b779-8bda7acb9ab5",
    "ExecuteTime": {
     "end_time": "2025-05-17T19:04:40.353285400Z",
     "start_time": "2025-05-17T19:04:36.269681700Z"
    }
   },
   "execution_count": 5,
   "outputs": [
    {
     "name": "stdout",
     "output_type": "stream",
     "text": [
      "Завантажую дані...\n",
      "Завантаження книг...\n"
     ]
    },
    {
     "name": "stderr",
     "output_type": "stream",
     "text": [
      "D:\\Daria\\University\\3 course\\6 term\\book_recommender_project\\data_loader.py:11: DtypeWarning: Columns (3) have mixed types. Specify dtype option on import or set low_memory=False.\n",
      "  return pd.read_csv(os.path.join(DATA_DIR, 'Books.csv'), encoding='latin-1')\n"
     ]
    },
    {
     "name": "stdout",
     "output_type": "stream",
     "text": [
      "Кількість книг: 271360\n",
      "Завантаження рейтингів...\n",
      "Кількість рейтингів: 1149780\n",
      "Завантаження користувачів...\n",
      "Кількість користувачів: 278858\n",
      "Завантаження книг...\n",
      "\n",
      "Пропущені значення по стовпцях:\n",
      "ISBN                   0\n",
      "Book-Title             0\n",
      "Book-Author            2\n",
      "Year-Of-Publication    0\n",
      "Publisher              2\n",
      "Image-URL-S            0\n",
      "Image-URL-M            0\n",
      "Image-URL-L            3\n",
      "dtype: int64\n",
      "\n",
      "Знайдено 7 рядків з пропущеними значеннями у таблиці книг: \n",
      "+--------+------------+-------------------------------------------------------------------------------------------------------------+-----------------+---------------------+--------------------------------------------------------------+--------------------------------------------------------------+--------------------------------------------------------------+--------------------------------------------------------------+\n",
      "|        |    ISBN    |                                                 Book-Title                                                  |   Book-Author   | Year-Of-Publication |                          Publisher                           |                         Image-URL-S                          |                         Image-URL-M                          |                         Image-URL-L                          |\n",
      "+--------+------------+-------------------------------------------------------------------------------------------------------------+-----------------+---------------------+--------------------------------------------------------------+--------------------------------------------------------------+--------------------------------------------------------------+--------------------------------------------------------------+\n",
      "| 118033 | 0751352497 |                                          A+ Quiz Masters:01 Earth                                           |       nan       |        1999         |                      Dorling Kindersley                      | http://images.amazon.com/images/P/0751352497.01.THUMBZZZ.jpg | http://images.amazon.com/images/P/0751352497.01.MZZZZZZZ.jpg | http://images.amazon.com/images/P/0751352497.01.LZZZZZZZ.jpg |\n",
      "| 128890 | 193169656X |                                                 Tyrant Moon                                                 | Elaine Corvidae |        2002         |                             nan                              | http://images.amazon.com/images/P/193169656X.01.THUMBZZZ.jpg | http://images.amazon.com/images/P/193169656X.01.MZZZZZZZ.jpg | http://images.amazon.com/images/P/193169656X.01.LZZZZZZZ.jpg |\n",
      "| 129037 | 1931696993 |                                               Finders Keepers                                               | Linnea Sinclair |        2001         |                             nan                              | http://images.amazon.com/images/P/1931696993.01.THUMBZZZ.jpg | http://images.amazon.com/images/P/1931696993.01.MZZZZZZZ.jpg | http://images.amazon.com/images/P/1931696993.01.LZZZZZZZ.jpg |\n",
      "| 187689 | 9627982032 |                          The Credit Suisse Guide to Managing Your Personal Wealth                           |       nan       |        1995         |                Edinburgh Financial Publishing                | http://images.amazon.com/images/P/9627982032.01.THUMBZZZ.jpg | http://images.amazon.com/images/P/9627982032.01.MZZZZZZZ.jpg | http://images.amazon.com/images/P/9627982032.01.LZZZZZZZ.jpg |\n",
      "| 209538 | 078946697X |    DK Readers: Creating the X-Men, How It All Began (Level 4: Proficient Readers)\\\";Michael Teitelbaum\"     |      2000       |  DK Publishing Inc  | http://images.amazon.com/images/P/078946697X.01.THUMBZZZ.jpg | http://images.amazon.com/images/P/078946697X.01.MZZZZZZZ.jpg | http://images.amazon.com/images/P/078946697X.01.LZZZZZZZ.jpg |                             nan                              |\n",
      "| 220731 | 2070426769 |                                                       Peuple du ciel, suivi de 'Les Bergers\\\";Jean-Marie Gustave Le ClÃ?ÃÂ©zio\"                                                       |      2003       |      Gallimard      | http://images.amazon.com/images/P/2070426769.01.THUMBZZZ.jpg | http://images.amazon.com/images/P/2070426769.01.MZZZZZZZ.jpg | http://images.amazon.com/images/P/2070426769.01.LZZZZZZZ.jpg |                             nan                              |\n",
      "| 221678 | 0789466953 | DK Readers: Creating the X-Men, How Comic Books Come to Life (Level 4: Proficient Readers)\\\";James Buckley\" |      2000       |  DK Publishing Inc  | http://images.amazon.com/images/P/0789466953.01.THUMBZZZ.jpg | http://images.amazon.com/images/P/0789466953.01.MZZZZZZZ.jpg | http://images.amazon.com/images/P/0789466953.01.LZZZZZZZ.jpg |                             nan                              |\n",
      "+--------+------------+-------------------------------------------------------------------------------------------------------------+-----------------+---------------------+--------------------------------------------------------------+--------------------------------------------------------------+--------------------------------------------------------------+--------------------------------------------------------------+\n"
     ]
    },
    {
     "name": "stderr",
     "output_type": "stream",
     "text": [
      "D:\\Daria\\University\\3 course\\6 term\\book_recommender_project\\data_loader.py:11: DtypeWarning: Columns (3) have mixed types. Specify dtype option on import or set low_memory=False.\n",
      "  return pd.read_csv(os.path.join(DATA_DIR, 'Books.csv'), encoding='latin-1')\n"
     ]
    }
   ]
  },
  {
   "cell_type": "code",
   "source": [
    "# вивід трьох рядків, де дані записані із зсувом\n",
    "\n",
    "from data_loader import load_books\n",
    "\n",
    "books_df = load_books()\n",
    "books_df[books_df['ISBN'].isin(['078946697X', '2070426769', '0789466953'])]"
   ],
   "metadata": {
    "id": "a254S-634hNO",
    "executionInfo": {
     "status": "ok",
     "timestamp": 1747045020442,
     "user_tz": -180,
     "elapsed": 1976,
     "user": {
      "displayName": "Daria Hrychyna",
      "userId": "00581352827663716373"
     }
    },
    "colab": {
     "base_uri": "https://localhost:8080/",
     "height": 389
    },
    "outputId": "7dfa1f81-780b-4333-e010-f4a6963cc736",
    "ExecuteTime": {
     "end_time": "2025-05-17T19:05:11.496064100Z",
     "start_time": "2025-05-17T19:05:09.330972900Z"
    }
   },
   "execution_count": 6,
   "outputs": [
    {
     "name": "stdout",
     "output_type": "stream",
     "text": [
      "Завантаження книг...\n"
     ]
    },
    {
     "name": "stderr",
     "output_type": "stream",
     "text": [
      "D:\\Daria\\University\\3 course\\6 term\\book_recommender_project\\data_loader.py:11: DtypeWarning: Columns (3) have mixed types. Specify dtype option on import or set low_memory=False.\n",
      "  return pd.read_csv(os.path.join(DATA_DIR, 'Books.csv'), encoding='latin-1')\n"
     ]
    },
    {
     "data": {
      "text/plain": "              ISBN                                         Book-Title  \\\n209538  078946697X  DK Readers: Creating the X-Men, How It All Beg...   \n220731  2070426769  Peuple du ciel, suivi de 'Les Bergers\\\";Jean-M...   \n221678  0789466953  DK Readers: Creating the X-Men, How Comic Book...   \n\n       Book-Author Year-Of-Publication  \\\n209538        2000   DK Publishing Inc   \n220731        2003           Gallimard   \n221678        2000   DK Publishing Inc   \n\n                                                Publisher  \\\n209538  http://images.amazon.com/images/P/078946697X.0...   \n220731  http://images.amazon.com/images/P/2070426769.0...   \n221678  http://images.amazon.com/images/P/0789466953.0...   \n\n                                              Image-URL-S  \\\n209538  http://images.amazon.com/images/P/078946697X.0...   \n220731  http://images.amazon.com/images/P/2070426769.0...   \n221678  http://images.amazon.com/images/P/0789466953.0...   \n\n                                              Image-URL-M Image-URL-L  \n209538  http://images.amazon.com/images/P/078946697X.0...         NaN  \n220731  http://images.amazon.com/images/P/2070426769.0...         NaN  \n221678  http://images.amazon.com/images/P/0789466953.0...         NaN  ",
      "text/html": "<div>\n<style scoped>\n    .dataframe tbody tr th:only-of-type {\n        vertical-align: middle;\n    }\n\n    .dataframe tbody tr th {\n        vertical-align: top;\n    }\n\n    .dataframe thead th {\n        text-align: right;\n    }\n</style>\n<table border=\"1\" class=\"dataframe\">\n  <thead>\n    <tr style=\"text-align: right;\">\n      <th></th>\n      <th>ISBN</th>\n      <th>Book-Title</th>\n      <th>Book-Author</th>\n      <th>Year-Of-Publication</th>\n      <th>Publisher</th>\n      <th>Image-URL-S</th>\n      <th>Image-URL-M</th>\n      <th>Image-URL-L</th>\n    </tr>\n  </thead>\n  <tbody>\n    <tr>\n      <th>209538</th>\n      <td>078946697X</td>\n      <td>DK Readers: Creating the X-Men, How It All Beg...</td>\n      <td>2000</td>\n      <td>DK Publishing Inc</td>\n      <td>http://images.amazon.com/images/P/078946697X.0...</td>\n      <td>http://images.amazon.com/images/P/078946697X.0...</td>\n      <td>http://images.amazon.com/images/P/078946697X.0...</td>\n      <td>NaN</td>\n    </tr>\n    <tr>\n      <th>220731</th>\n      <td>2070426769</td>\n      <td>Peuple du ciel, suivi de 'Les Bergers\\\";Jean-M...</td>\n      <td>2003</td>\n      <td>Gallimard</td>\n      <td>http://images.amazon.com/images/P/2070426769.0...</td>\n      <td>http://images.amazon.com/images/P/2070426769.0...</td>\n      <td>http://images.amazon.com/images/P/2070426769.0...</td>\n      <td>NaN</td>\n    </tr>\n    <tr>\n      <th>221678</th>\n      <td>0789466953</td>\n      <td>DK Readers: Creating the X-Men, How Comic Book...</td>\n      <td>2000</td>\n      <td>DK Publishing Inc</td>\n      <td>http://images.amazon.com/images/P/0789466953.0...</td>\n      <td>http://images.amazon.com/images/P/0789466953.0...</td>\n      <td>http://images.amazon.com/images/P/0789466953.0...</td>\n      <td>NaN</td>\n    </tr>\n  </tbody>\n</table>\n</div>"
     },
     "execution_count": 6,
     "metadata": {},
     "output_type": "execute_result"
    }
   ]
  },
  {
   "cell_type": "code",
   "source": [
    "# редагування рядків з пропущеними значеннями\n",
    "\n",
    "from processing.books_processing import fix_known_errors_in_books\n",
    "\n",
    "books_df = load_books()\n",
    "books_df = fix_known_errors_in_books(books_df)"
   ],
   "metadata": {
    "colab": {
     "base_uri": "https://localhost:8080/"
    },
    "id": "O9sL8YCIjFL0",
    "executionInfo": {
     "status": "ok",
     "timestamp": 1747045026440,
     "user_tz": -180,
     "elapsed": 2943,
     "user": {
      "displayName": "Daria Hrychyna",
      "userId": "00581352827663716373"
     }
    },
    "outputId": "4f7c3af7-ebbe-4ce4-ff23-c4e2dc3eb518",
    "ExecuteTime": {
     "end_time": "2025-05-17T19:09:22.695389400Z",
     "start_time": "2025-05-17T19:09:21.231065500Z"
    }
   },
   "execution_count": 7,
   "outputs": [
    {
     "name": "stdout",
     "output_type": "stream",
     "text": [
      "Завантаження книг...\n"
     ]
    },
    {
     "name": "stderr",
     "output_type": "stream",
     "text": [
      "D:\\Daria\\University\\3 course\\6 term\\book_recommender_project\\data_loader.py:11: DtypeWarning: Columns (3) have mixed types. Specify dtype option on import or set low_memory=False.\n",
      "  return pd.read_csv(os.path.join(DATA_DIR, 'Books.csv'), encoding='latin-1')\n"
     ]
    }
   ]
  },
  {
   "cell_type": "code",
   "source": [
    "# повторний пошук пропущених значень у виправленій таблиці\n",
    "\n",
    "from processing.books_processing import find_missing_values_in_books_fixed\n",
    "\n",
    "find_missing_values_in_books_fixed()"
   ],
   "metadata": {
    "colab": {
     "base_uri": "https://localhost:8080/"
    },
    "id": "9ua25tsJ9Amo",
    "executionInfo": {
     "status": "ok",
     "timestamp": 1747045029993,
     "user_tz": -180,
     "elapsed": 3551,
     "user": {
      "displayName": "Daria Hrychyna",
      "userId": "00581352827663716373"
     }
    },
    "outputId": "63b23de3-6a59-44dd-f330-4e6a8479a8fa",
    "ExecuteTime": {
     "end_time": "2025-05-17T19:10:39.879251900Z",
     "start_time": "2025-05-17T19:10:38.622277500Z"
    }
   },
   "execution_count": 8,
   "outputs": [
    {
     "name": "stdout",
     "output_type": "stream",
     "text": [
      "Завантаження книг...\n",
      "\n",
      "Пропущені значення по стовпцях у виправленій таблиці:\n",
      "ISBN                   0\n",
      "Book-Title             0\n",
      "Book-Author            0\n",
      "Year-Of-Publication    0\n",
      "Publisher              0\n",
      "Image-URL-S            0\n",
      "Image-URL-M            0\n",
      "Image-URL-L            0\n",
      "dtype: int64\n",
      "\n",
      "Знайдено 0 рядків з пропущеними значеннями у виправленій таблиці книг:\n",
      "+------+------------+-------------+---------------------+-----------+-------------+-------------+-------------+\n",
      "| ISBN | Book-Title | Book-Author | Year-Of-Publication | Publisher | Image-URL-S | Image-URL-M | Image-URL-L |\n",
      "+------+------------+-------------+---------------------+-----------+-------------+-------------+-------------+\n",
      "+------+------------+-------------+---------------------+-----------+-------------+-------------+-------------+\n"
     ]
    }
   ]
  },
  {
   "cell_type": "code",
   "source": [
    "# 🔍ПЕРЕВІРКА🔍 чи виводиться попередження DtypeWarning: Columns (3) have mixed types - у стовпці 3 (Year-Of-Publication) змішані типи\n",
    "\n",
    "#pd.read_csv('/content/drive/MyDrive/З КУРС/3.2./Coursework/book_recommender_project/data/Books.csv').head(1)\n",
    "pd.read_csv('data/Books.csv').head(1)"
   ],
   "metadata": {
    "colab": {
     "base_uri": "https://localhost:8080/",
     "height": 187
    },
    "id": "_21latPH9A2K",
    "executionInfo": {
     "status": "ok",
     "timestamp": 1747045032893,
     "user_tz": -180,
     "elapsed": 2076,
     "user": {
      "displayName": "Daria Hrychyna",
      "userId": "00581352827663716373"
     }
    },
    "outputId": "03c3cc61-3502-41ad-c845-ec81249b2681",
    "ExecuteTime": {
     "end_time": "2025-05-17T19:11:23.237819Z",
     "start_time": "2025-05-17T19:11:20.482200200Z"
    }
   },
   "execution_count": 10,
   "outputs": [
    {
     "name": "stderr",
     "output_type": "stream",
     "text": [
      "C:\\Users\\daria\\AppData\\Local\\Temp\\ipykernel_13756\\3827198228.py:4: DtypeWarning: Columns (3) have mixed types. Specify dtype option on import or set low_memory=False.\n",
      "  pd.read_csv('data/Books.csv').head(1)\n"
     ]
    },
    {
     "data": {
      "text/plain": "         ISBN           Book-Title         Book-Author Year-Of-Publication  \\\n0  0195153448  Classical Mythology  Mark P. O. Morford                2002   \n\n                 Publisher                                        Image-URL-S  \\\n0  Oxford University Press  http://images.amazon.com/images/P/0195153448.0...   \n\n                                         Image-URL-M  \\\n0  http://images.amazon.com/images/P/0195153448.0...   \n\n                                         Image-URL-L  \n0  http://images.amazon.com/images/P/0195153448.0...  ",
      "text/html": "<div>\n<style scoped>\n    .dataframe tbody tr th:only-of-type {\n        vertical-align: middle;\n    }\n\n    .dataframe tbody tr th {\n        vertical-align: top;\n    }\n\n    .dataframe thead th {\n        text-align: right;\n    }\n</style>\n<table border=\"1\" class=\"dataframe\">\n  <thead>\n    <tr style=\"text-align: right;\">\n      <th></th>\n      <th>ISBN</th>\n      <th>Book-Title</th>\n      <th>Book-Author</th>\n      <th>Year-Of-Publication</th>\n      <th>Publisher</th>\n      <th>Image-URL-S</th>\n      <th>Image-URL-M</th>\n      <th>Image-URL-L</th>\n    </tr>\n  </thead>\n  <tbody>\n    <tr>\n      <th>0</th>\n      <td>0195153448</td>\n      <td>Classical Mythology</td>\n      <td>Mark P. O. Morford</td>\n      <td>2002</td>\n      <td>Oxford University Press</td>\n      <td>http://images.amazon.com/images/P/0195153448.0...</td>\n      <td>http://images.amazon.com/images/P/0195153448.0...</td>\n      <td>http://images.amazon.com/images/P/0195153448.0...</td>\n    </tr>\n  </tbody>\n</table>\n</div>"
     },
     "execution_count": 10,
     "metadata": {},
     "output_type": "execute_result"
    }
   ]
  },
  {
   "cell_type": "code",
   "source": [
    "# 🔍ПЕРЕВІРКА🔍 у виправленій таблиці попередження немає, отже проблему виправлено\n",
    "\n",
    "#pd.read_csv('/content/drive/MyDrive/З КУРС/3.2./Coursework/book_recommender_project/data/Books_fixed.csv').head(1)\n",
    "pd.read_csv('data/Books_fixed.csv').head(1)"
   ],
   "metadata": {
    "colab": {
     "base_uri": "https://localhost:8080/",
     "height": 152
    },
    "id": "Vv_ooeBw9A44",
    "executionInfo": {
     "status": "ok",
     "timestamp": 1747045035277,
     "user_tz": -180,
     "elapsed": 2381,
     "user": {
      "displayName": "Daria Hrychyna",
      "userId": "00581352827663716373"
     }
    },
    "outputId": "53898be7-2443-4a84-fe78-92a41854528a",
    "ExecuteTime": {
     "end_time": "2025-05-17T19:11:50.572858800Z",
     "start_time": "2025-05-17T19:11:48.393616600Z"
    }
   },
   "execution_count": 11,
   "outputs": [
    {
     "data": {
      "text/plain": "         ISBN           Book-Title         Book-Author  Year-Of-Publication  \\\n0  0195153448  Classical Mythology  Mark P. O. Morford                 2002   \n\n                 Publisher                                        Image-URL-S  \\\n0  Oxford University Press  http://images.amazon.com/images/P/0195153448.0...   \n\n                                         Image-URL-M  \\\n0  http://images.amazon.com/images/P/0195153448.0...   \n\n                                         Image-URL-L  \n0  http://images.amazon.com/images/P/0195153448.0...  ",
      "text/html": "<div>\n<style scoped>\n    .dataframe tbody tr th:only-of-type {\n        vertical-align: middle;\n    }\n\n    .dataframe tbody tr th {\n        vertical-align: top;\n    }\n\n    .dataframe thead th {\n        text-align: right;\n    }\n</style>\n<table border=\"1\" class=\"dataframe\">\n  <thead>\n    <tr style=\"text-align: right;\">\n      <th></th>\n      <th>ISBN</th>\n      <th>Book-Title</th>\n      <th>Book-Author</th>\n      <th>Year-Of-Publication</th>\n      <th>Publisher</th>\n      <th>Image-URL-S</th>\n      <th>Image-URL-M</th>\n      <th>Image-URL-L</th>\n    </tr>\n  </thead>\n  <tbody>\n    <tr>\n      <th>0</th>\n      <td>0195153448</td>\n      <td>Classical Mythology</td>\n      <td>Mark P. O. Morford</td>\n      <td>2002</td>\n      <td>Oxford University Press</td>\n      <td>http://images.amazon.com/images/P/0195153448.0...</td>\n      <td>http://images.amazon.com/images/P/0195153448.0...</td>\n      <td>http://images.amazon.com/images/P/0195153448.0...</td>\n    </tr>\n  </tbody>\n</table>\n</div>"
     },
     "execution_count": 11,
     "metadata": {},
     "output_type": "execute_result"
    }
   ]
  },
  {
   "cell_type": "markdown",
   "source": [
    "## Роки"
   ],
   "metadata": {
    "id": "WW1PPCpEAVIR"
   }
  },
  {
   "cell_type": "code",
   "source": [
    "# перевірка перших 20 найбільших років\n",
    "books_df['Year-Of-Publication'] = books_df['Year-Of-Publication'].astype('int64')\n",
    "books_df['Year-Of-Publication'].value_counts().sort_index(ascending=False).iloc[:20]"
   ],
   "metadata": {
    "colab": {
     "base_uri": "https://localhost:8080/",
     "height": 742
    },
    "id": "vMbho0ZAhdpi",
    "executionInfo": {
     "status": "ok",
     "timestamp": 1747045036621,
     "user_tz": -180,
     "elapsed": 28,
     "user": {
      "displayName": "Daria Hrychyna",
      "userId": "00581352827663716373"
     }
    },
    "outputId": "ad863dd0-cf7a-40ab-c0d5-4a7b58d1e5d2",
    "ExecuteTime": {
     "end_time": "2025-05-17T19:11:54.216648500Z",
     "start_time": "2025-05-17T19:11:54.130258400Z"
    }
   },
   "execution_count": 12,
   "outputs": [
    {
     "data": {
      "text/plain": "Year-Of-Publication\n2050        2\n2038        1\n2037        1\n2030        7\n2026        1\n2024        1\n2021        1\n2020        3\n2012        1\n2011        2\n2010        2\n2008        1\n2006        3\n2005       46\n2004     5839\n2003    14359\n2002    17627\n2001    17359\n2000    17234\n1999    17431\nName: count, dtype: int64"
     },
     "execution_count": 12,
     "metadata": {},
     "output_type": "execute_result"
    }
   ]
  },
  {
   "cell_type": "markdown",
   "source": [
    "Тут бачимо, що є дивні роки по типу 2026, 2030, 2037, 2038, 2050"
   ],
   "metadata": {
    "id": "efOgm4vpip0S"
   }
  },
  {
   "cell_type": "code",
   "source": [
    "# перевірка записів у яких рік більше, ніж 2021\n",
    "books_df[books_df['Year-Of-Publication']>2021][['ISBN', 'Book-Title','Year-Of-Publication','Publisher','Book-Author']]"
   ],
   "metadata": {
    "colab": {
     "base_uri": "https://localhost:8080/",
     "height": 821
    },
    "id": "D0HFnXB_h7Em",
    "executionInfo": {
     "status": "ok",
     "timestamp": 1747045038941,
     "user_tz": -180,
     "elapsed": 23,
     "user": {
      "displayName": "Daria Hrychyna",
      "userId": "00581352827663716373"
     }
    },
    "outputId": "bf4a9197-77e6-47a1-fae7-1a6fec8d288c",
    "ExecuteTime": {
     "end_time": "2025-05-17T19:12:09.219661300Z",
     "start_time": "2025-05-17T19:12:09.187567200Z"
    }
   },
   "execution_count": 13,
   "outputs": [
    {
     "data": {
      "text/plain": "              ISBN                                         Book-Title  \\\n37487   0671746103  MY TEACHER FRIED MY BRAINS (RACK SIZE) (MY TEA...   \n55676   0671791990  MY TEACHER FLUNKED THE PLANET (RACK SIZE) (MY ...   \n78168   0870449842                                   Crossing America   \n80264   0140301690  Alice's Adventures in Wonderland and Through t...   \n97826   0140201092      Outline of European Architecture (Pelican S.)   \n116053  0394701658                       Three Plays of Eugene Oneill   \n118294  3442436893  Das groÃ?Ã?e BÃ?ÃÂ¶se- MÃ?ÃÂ¤dchen- Lese...   \n192993  0870446924  Field Guide to the Birds of North America, 3rd...   \n228173  0671266500       FOREST PEOPLE (Touchstone Books (Hardcover))   \n240169  0684718022            In Our Time: Stories (Scribner Classic)   \n246842  0380000059                                              CLOUT   \n255409  068471809X                               To Have and Have Not   \n260974  0671740989        FOOTBALL SUPER TEAMS : FOOTBALL SUPER TEAMS   \n\n        Year-Of-Publication                                   Publisher  \\\n37487                  2030                                     Aladdin   \n55676                  2030                                     Aladdin   \n78168                  2030                         National Geographic   \n80264                  2050                                Puffin Books   \n97826                  2050                                 Penguin USA   \n116053                 2038                           Vintage Books USA   \n118294                 2026                                    Goldmann   \n192993                 2030                         National Geographic   \n228173                 2030                        Simon &amp; Schuster   \n240169                 2030                               Collier Books   \n246842                 2024                                        Avon   \n255409                 2037                        Simon &amp; Schuster   \n260974                 2030  Simon &amp; Schuster Children's Publishing   \n\n                        Book-Author  \n37487                       Coville  \n55676                 Bruce Coville  \n78168   National Geographic Society  \n80264                 Lewis Carroll  \n97826              Nikolaus Pevsner  \n116053               Eugene O'Neill  \n118294                  Kathy Lette  \n192993  National Geographic Society  \n228173            Colin M. Turnbull  \n240169             Ernest Hemingway  \n246842                   D. GIBBONS  \n255409             Ernest Hemingway  \n260974                  Bill Gutman  ",
      "text/html": "<div>\n<style scoped>\n    .dataframe tbody tr th:only-of-type {\n        vertical-align: middle;\n    }\n\n    .dataframe tbody tr th {\n        vertical-align: top;\n    }\n\n    .dataframe thead th {\n        text-align: right;\n    }\n</style>\n<table border=\"1\" class=\"dataframe\">\n  <thead>\n    <tr style=\"text-align: right;\">\n      <th></th>\n      <th>ISBN</th>\n      <th>Book-Title</th>\n      <th>Year-Of-Publication</th>\n      <th>Publisher</th>\n      <th>Book-Author</th>\n    </tr>\n  </thead>\n  <tbody>\n    <tr>\n      <th>37487</th>\n      <td>0671746103</td>\n      <td>MY TEACHER FRIED MY BRAINS (RACK SIZE) (MY TEA...</td>\n      <td>2030</td>\n      <td>Aladdin</td>\n      <td>Coville</td>\n    </tr>\n    <tr>\n      <th>55676</th>\n      <td>0671791990</td>\n      <td>MY TEACHER FLUNKED THE PLANET (RACK SIZE) (MY ...</td>\n      <td>2030</td>\n      <td>Aladdin</td>\n      <td>Bruce Coville</td>\n    </tr>\n    <tr>\n      <th>78168</th>\n      <td>0870449842</td>\n      <td>Crossing America</td>\n      <td>2030</td>\n      <td>National Geographic</td>\n      <td>National Geographic Society</td>\n    </tr>\n    <tr>\n      <th>80264</th>\n      <td>0140301690</td>\n      <td>Alice's Adventures in Wonderland and Through t...</td>\n      <td>2050</td>\n      <td>Puffin Books</td>\n      <td>Lewis Carroll</td>\n    </tr>\n    <tr>\n      <th>97826</th>\n      <td>0140201092</td>\n      <td>Outline of European Architecture (Pelican S.)</td>\n      <td>2050</td>\n      <td>Penguin USA</td>\n      <td>Nikolaus Pevsner</td>\n    </tr>\n    <tr>\n      <th>116053</th>\n      <td>0394701658</td>\n      <td>Three Plays of Eugene Oneill</td>\n      <td>2038</td>\n      <td>Vintage Books USA</td>\n      <td>Eugene O'Neill</td>\n    </tr>\n    <tr>\n      <th>118294</th>\n      <td>3442436893</td>\n      <td>Das groÃ?Ã?e BÃ?ÃÂ¶se- MÃ?ÃÂ¤dchen- Lese...</td>\n      <td>2026</td>\n      <td>Goldmann</td>\n      <td>Kathy Lette</td>\n    </tr>\n    <tr>\n      <th>192993</th>\n      <td>0870446924</td>\n      <td>Field Guide to the Birds of North America, 3rd...</td>\n      <td>2030</td>\n      <td>National Geographic</td>\n      <td>National Geographic Society</td>\n    </tr>\n    <tr>\n      <th>228173</th>\n      <td>0671266500</td>\n      <td>FOREST PEOPLE (Touchstone Books (Hardcover))</td>\n      <td>2030</td>\n      <td>Simon &amp;amp; Schuster</td>\n      <td>Colin M. Turnbull</td>\n    </tr>\n    <tr>\n      <th>240169</th>\n      <td>0684718022</td>\n      <td>In Our Time: Stories (Scribner Classic)</td>\n      <td>2030</td>\n      <td>Collier Books</td>\n      <td>Ernest Hemingway</td>\n    </tr>\n    <tr>\n      <th>246842</th>\n      <td>0380000059</td>\n      <td>CLOUT</td>\n      <td>2024</td>\n      <td>Avon</td>\n      <td>D. GIBBONS</td>\n    </tr>\n    <tr>\n      <th>255409</th>\n      <td>068471809X</td>\n      <td>To Have and Have Not</td>\n      <td>2037</td>\n      <td>Simon &amp;amp; Schuster</td>\n      <td>Ernest Hemingway</td>\n    </tr>\n    <tr>\n      <th>260974</th>\n      <td>0671740989</td>\n      <td>FOOTBALL SUPER TEAMS : FOOTBALL SUPER TEAMS</td>\n      <td>2030</td>\n      <td>Simon &amp;amp; Schuster Children's Publishing</td>\n      <td>Bill Gutman</td>\n    </tr>\n  </tbody>\n</table>\n</div>"
     },
     "execution_count": 13,
     "metadata": {},
     "output_type": "execute_result"
    }
   ]
  },
  {
   "cell_type": "code",
   "source": [
    "# редагування неправильних значень\n",
    "importlib.reload(books_processing)\n",
    "from processing.books_processing import edit_years\n",
    "books_df = edit_years(books_df)"
   ],
   "metadata": {
    "id": "S7MMzM0jj-W1",
    "ExecuteTime": {
     "end_time": "2025-05-17T19:12:14.094694700Z",
     "start_time": "2025-05-17T19:12:13.705515600Z"
    }
   },
   "execution_count": 14,
   "outputs": []
  },
  {
   "cell_type": "code",
   "source": [
    "# 🔍ПЕРЕВІРКА🔍 чи всі значення добре записалися\n",
    "\n",
    "books_df[books_df['ISBN'].isin(['0671746103', '0671791990', '0870449842', '0140301690', '0140201092', '0394701658',\n",
    "    '3442436893', '0870446924', '0671266500', '0684718022', '0380000059', '068471809X', '0671740989'])]"
   ],
   "metadata": {
    "colab": {
     "base_uri": "https://localhost:8080/",
     "height": 1000
    },
    "id": "DqrMLT15j-c3",
    "executionInfo": {
     "status": "ok",
     "timestamp": 1747045041988,
     "user_tz": -180,
     "elapsed": 83,
     "user": {
      "displayName": "Daria Hrychyna",
      "userId": "00581352827663716373"
     }
    },
    "outputId": "98f7c911-c21b-40de-bbfe-6fa140b5fe1b",
    "ExecuteTime": {
     "end_time": "2025-05-17T19:12:27.823654800Z",
     "start_time": "2025-05-17T19:12:27.711439600Z"
    }
   },
   "execution_count": 15,
   "outputs": [
    {
     "data": {
      "text/plain": "              ISBN                                         Book-Title  \\\n37487   0671746103  MY TEACHER FRIED MY BRAINS (RACK SIZE) (MY TEA...   \n55676   0671791990  MY TEACHER FLUNKED THE PLANET (RACK SIZE) (MY ...   \n78168   0870449842                                   Crossing America   \n80264   0140301690  Alice's Adventures in Wonderland and Through t...   \n97826   0140201092      Outline of European Architecture (Pelican S.)   \n116053  0394701658                       Three Plays of Eugene Oneill   \n118294  3442436893                 Das große Böse - Mädchen- Lesebuch   \n192993  0870446924  Field Guide to the Birds of North America, 3rd...   \n228173  0671266500       FOREST PEOPLE (Touchstone Books (Hardcover))   \n240169  0684718022            In Our Time: Stories (Scribner Classic)   \n246842  0380000059                                              CLOUT   \n255409  068471809X                               To Have and Have Not   \n260974  0671740989        FOOTBALL SUPER TEAMS : FOOTBALL SUPER TEAMS   \n\n                        Book-Author  Year-Of-Publication  \\\n37487                 Bruce Coville                 1991   \n55676                 Bruce Coville                 2005   \n78168   National Geographic Society                 2001   \n80264                 Lewis Carroll                 2003   \n97826              Nikolaus Pevsner                 1981   \n116053               Eugene O'Neill                 1995   \n118294                  Kathy Lette                 2006   \n192993  National Geographic Society                 2003   \n228173            Colin M. Turnbull                 1987   \n240169             Ernest Hemingway                 1996   \n246842                   D. GIBBONS                 1925   \n255409             Ernest Hemingway                 1937   \n260974                  Bill Gutman                 1991   \n\n                                         Publisher  \\\n37487                                      Aladdin   \n55676                                      Aladdin   \n78168                          National Geographic   \n80264                                 Puffin Books   \n97826                                  Penguin USA   \n116053                           Vintage Books USA   \n118294                                    Goldmann   \n192993                         National Geographic   \n228173                        Simon &amp; Schuster   \n240169                               Collier Books   \n246842                                        Avon   \n255409                        Simon &amp; Schuster   \n260974  Simon &amp; Schuster Children's Publishing   \n\n                                              Image-URL-S  \\\n37487   http://images.amazon.com/images/P/0671746103.0...   \n55676   http://images.amazon.com/images/P/0671791990.0...   \n78168   http://images.amazon.com/images/P/0870449842.0...   \n80264   http://images.amazon.com/images/P/0140301690.0...   \n97826   http://images.amazon.com/images/P/0140201092.0...   \n116053  http://images.amazon.com/images/P/0394701658.0...   \n118294  http://images.amazon.com/images/P/3442436893.0...   \n192993  http://images.amazon.com/images/P/0870446924.0...   \n228173  http://images.amazon.com/images/P/0671266500.0...   \n240169  http://images.amazon.com/images/P/0684718022.0...   \n246842  http://images.amazon.com/images/P/0380000059.0...   \n255409  http://images.amazon.com/images/P/068471809X.0...   \n260974  http://images.amazon.com/images/P/0671740989.0...   \n\n                                              Image-URL-M  \\\n37487   http://images.amazon.com/images/P/0671746103.0...   \n55676   http://images.amazon.com/images/P/0671791990.0...   \n78168   http://images.amazon.com/images/P/0870449842.0...   \n80264   http://images.amazon.com/images/P/0140301690.0...   \n97826   http://images.amazon.com/images/P/0140201092.0...   \n116053  http://images.amazon.com/images/P/0394701658.0...   \n118294  http://images.amazon.com/images/P/3442436893.0...   \n192993  http://images.amazon.com/images/P/0870446924.0...   \n228173  http://images.amazon.com/images/P/0671266500.0...   \n240169  http://images.amazon.com/images/P/0684718022.0...   \n246842  http://images.amazon.com/images/P/0380000059.0...   \n255409  http://images.amazon.com/images/P/068471809X.0...   \n260974  http://images.amazon.com/images/P/0671740989.0...   \n\n                                              Image-URL-L  \n37487   http://images.amazon.com/images/P/0671746103.0...  \n55676   http://images.amazon.com/images/P/0671791990.0...  \n78168   http://images.amazon.com/images/P/0870449842.0...  \n80264   http://images.amazon.com/images/P/0140301690.0...  \n97826   http://images.amazon.com/images/P/0140201092.0...  \n116053  http://images.amazon.com/images/P/0394701658.0...  \n118294  http://images.amazon.com/images/P/3442436893.0...  \n192993  http://images.amazon.com/images/P/0870446924.0...  \n228173  http://images.amazon.com/images/P/0671266500.0...  \n240169  http://images.amazon.com/images/P/0684718022.0...  \n246842  http://images.amazon.com/images/P/0380000059.0...  \n255409  http://images.amazon.com/images/P/068471809X.0...  \n260974  http://images.amazon.com/images/P/0671740989.0...  ",
      "text/html": "<div>\n<style scoped>\n    .dataframe tbody tr th:only-of-type {\n        vertical-align: middle;\n    }\n\n    .dataframe tbody tr th {\n        vertical-align: top;\n    }\n\n    .dataframe thead th {\n        text-align: right;\n    }\n</style>\n<table border=\"1\" class=\"dataframe\">\n  <thead>\n    <tr style=\"text-align: right;\">\n      <th></th>\n      <th>ISBN</th>\n      <th>Book-Title</th>\n      <th>Book-Author</th>\n      <th>Year-Of-Publication</th>\n      <th>Publisher</th>\n      <th>Image-URL-S</th>\n      <th>Image-URL-M</th>\n      <th>Image-URL-L</th>\n    </tr>\n  </thead>\n  <tbody>\n    <tr>\n      <th>37487</th>\n      <td>0671746103</td>\n      <td>MY TEACHER FRIED MY BRAINS (RACK SIZE) (MY TEA...</td>\n      <td>Bruce Coville</td>\n      <td>1991</td>\n      <td>Aladdin</td>\n      <td>http://images.amazon.com/images/P/0671746103.0...</td>\n      <td>http://images.amazon.com/images/P/0671746103.0...</td>\n      <td>http://images.amazon.com/images/P/0671746103.0...</td>\n    </tr>\n    <tr>\n      <th>55676</th>\n      <td>0671791990</td>\n      <td>MY TEACHER FLUNKED THE PLANET (RACK SIZE) (MY ...</td>\n      <td>Bruce Coville</td>\n      <td>2005</td>\n      <td>Aladdin</td>\n      <td>http://images.amazon.com/images/P/0671791990.0...</td>\n      <td>http://images.amazon.com/images/P/0671791990.0...</td>\n      <td>http://images.amazon.com/images/P/0671791990.0...</td>\n    </tr>\n    <tr>\n      <th>78168</th>\n      <td>0870449842</td>\n      <td>Crossing America</td>\n      <td>National Geographic Society</td>\n      <td>2001</td>\n      <td>National Geographic</td>\n      <td>http://images.amazon.com/images/P/0870449842.0...</td>\n      <td>http://images.amazon.com/images/P/0870449842.0...</td>\n      <td>http://images.amazon.com/images/P/0870449842.0...</td>\n    </tr>\n    <tr>\n      <th>80264</th>\n      <td>0140301690</td>\n      <td>Alice's Adventures in Wonderland and Through t...</td>\n      <td>Lewis Carroll</td>\n      <td>2003</td>\n      <td>Puffin Books</td>\n      <td>http://images.amazon.com/images/P/0140301690.0...</td>\n      <td>http://images.amazon.com/images/P/0140301690.0...</td>\n      <td>http://images.amazon.com/images/P/0140301690.0...</td>\n    </tr>\n    <tr>\n      <th>97826</th>\n      <td>0140201092</td>\n      <td>Outline of European Architecture (Pelican S.)</td>\n      <td>Nikolaus Pevsner</td>\n      <td>1981</td>\n      <td>Penguin USA</td>\n      <td>http://images.amazon.com/images/P/0140201092.0...</td>\n      <td>http://images.amazon.com/images/P/0140201092.0...</td>\n      <td>http://images.amazon.com/images/P/0140201092.0...</td>\n    </tr>\n    <tr>\n      <th>116053</th>\n      <td>0394701658</td>\n      <td>Three Plays of Eugene Oneill</td>\n      <td>Eugene O'Neill</td>\n      <td>1995</td>\n      <td>Vintage Books USA</td>\n      <td>http://images.amazon.com/images/P/0394701658.0...</td>\n      <td>http://images.amazon.com/images/P/0394701658.0...</td>\n      <td>http://images.amazon.com/images/P/0394701658.0...</td>\n    </tr>\n    <tr>\n      <th>118294</th>\n      <td>3442436893</td>\n      <td>Das große Böse - Mädchen- Lesebuch</td>\n      <td>Kathy Lette</td>\n      <td>2006</td>\n      <td>Goldmann</td>\n      <td>http://images.amazon.com/images/P/3442436893.0...</td>\n      <td>http://images.amazon.com/images/P/3442436893.0...</td>\n      <td>http://images.amazon.com/images/P/3442436893.0...</td>\n    </tr>\n    <tr>\n      <th>192993</th>\n      <td>0870446924</td>\n      <td>Field Guide to the Birds of North America, 3rd...</td>\n      <td>National Geographic Society</td>\n      <td>2003</td>\n      <td>National Geographic</td>\n      <td>http://images.amazon.com/images/P/0870446924.0...</td>\n      <td>http://images.amazon.com/images/P/0870446924.0...</td>\n      <td>http://images.amazon.com/images/P/0870446924.0...</td>\n    </tr>\n    <tr>\n      <th>228173</th>\n      <td>0671266500</td>\n      <td>FOREST PEOPLE (Touchstone Books (Hardcover))</td>\n      <td>Colin M. Turnbull</td>\n      <td>1987</td>\n      <td>Simon &amp;amp; Schuster</td>\n      <td>http://images.amazon.com/images/P/0671266500.0...</td>\n      <td>http://images.amazon.com/images/P/0671266500.0...</td>\n      <td>http://images.amazon.com/images/P/0671266500.0...</td>\n    </tr>\n    <tr>\n      <th>240169</th>\n      <td>0684718022</td>\n      <td>In Our Time: Stories (Scribner Classic)</td>\n      <td>Ernest Hemingway</td>\n      <td>1996</td>\n      <td>Collier Books</td>\n      <td>http://images.amazon.com/images/P/0684718022.0...</td>\n      <td>http://images.amazon.com/images/P/0684718022.0...</td>\n      <td>http://images.amazon.com/images/P/0684718022.0...</td>\n    </tr>\n    <tr>\n      <th>246842</th>\n      <td>0380000059</td>\n      <td>CLOUT</td>\n      <td>D. GIBBONS</td>\n      <td>1925</td>\n      <td>Avon</td>\n      <td>http://images.amazon.com/images/P/0380000059.0...</td>\n      <td>http://images.amazon.com/images/P/0380000059.0...</td>\n      <td>http://images.amazon.com/images/P/0380000059.0...</td>\n    </tr>\n    <tr>\n      <th>255409</th>\n      <td>068471809X</td>\n      <td>To Have and Have Not</td>\n      <td>Ernest Hemingway</td>\n      <td>1937</td>\n      <td>Simon &amp;amp; Schuster</td>\n      <td>http://images.amazon.com/images/P/068471809X.0...</td>\n      <td>http://images.amazon.com/images/P/068471809X.0...</td>\n      <td>http://images.amazon.com/images/P/068471809X.0...</td>\n    </tr>\n    <tr>\n      <th>260974</th>\n      <td>0671740989</td>\n      <td>FOOTBALL SUPER TEAMS : FOOTBALL SUPER TEAMS</td>\n      <td>Bill Gutman</td>\n      <td>1991</td>\n      <td>Simon &amp;amp; Schuster Children's Publishing</td>\n      <td>http://images.amazon.com/images/P/0671740989.0...</td>\n      <td>http://images.amazon.com/images/P/0671740989.0...</td>\n      <td>http://images.amazon.com/images/P/0671740989.0...</td>\n    </tr>\n  </tbody>\n</table>\n</div>"
     },
     "execution_count": 15,
     "metadata": {},
     "output_type": "execute_result"
    }
   ]
  },
  {
   "cell_type": "code",
   "source": [
    "# перевірка останніх і перших 20 наймеших років\n",
    "\n",
    "display(books_df['Year-Of-Publication'].value_counts().sort_index().iloc[:20])\n",
    "books_df['Year-Of-Publication'].value_counts().sort_index(ascending=False).iloc[:20]"
   ],
   "metadata": {
    "colab": {
     "base_uri": "https://localhost:8080/",
     "height": 1000
    },
    "id": "vLl8RXWOi9OK",
    "executionInfo": {
     "status": "ok",
     "timestamp": 1747045044184,
     "user_tz": -180,
     "elapsed": 40,
     "user": {
      "displayName": "Daria Hrychyna",
      "userId": "00581352827663716373"
     }
    },
    "outputId": "5f2a902c-17a8-48d9-830d-cecc4557e633",
    "ExecuteTime": {
     "end_time": "2025-05-17T19:12:38.928082500Z",
     "start_time": "2025-05-17T19:12:38.881918400Z"
    }
   },
   "execution_count": 16,
   "outputs": [
    {
     "data": {
      "text/plain": "Year-Of-Publication\n0       4618\n1376       1\n1378       1\n1806       1\n1897       1\n1900       3\n1901       7\n1902       2\n1904       1\n1906       1\n1908       1\n1909       2\n1910       1\n1911      19\n1914       1\n1917       1\n1919       1\n1920      33\n1921       2\n1922       2\nName: count, dtype: int64"
     },
     "metadata": {},
     "output_type": "display_data"
    },
    {
     "data": {
      "text/plain": "Year-Of-Publication\n2021        1\n2020        3\n2012        1\n2011        2\n2010        2\n2008        1\n2006        4\n2005       47\n2004     5839\n2003    14361\n2002    17627\n2001    17360\n2000    17234\n1999    17431\n1998    15766\n1997    14890\n1996    14031\n1995    13547\n1994    11796\n1993    10602\nName: count, dtype: int64"
     },
     "execution_count": 16,
     "metadata": {},
     "output_type": "execute_result"
    }
   ]
  },
  {
   "cell_type": "markdown",
   "source": [
    "## Автори"
   ],
   "metadata": {
    "id": "o24G5mWBAZtw"
   }
  },
  {
   "cell_type": "code",
   "source": [
    "# по скільки книг мають першв 20 авторів\n",
    "author_book_count = books_df['Book-Author'].value_counts()\n",
    "print(author_book_count.head(20))"
   ],
   "metadata": {
    "colab": {
     "base_uri": "https://localhost:8080/"
    },
    "id": "77rNE32kDsRM",
    "executionInfo": {
     "status": "ok",
     "timestamp": 1747045046679,
     "user_tz": -180,
     "elapsed": 24,
     "user": {
      "displayName": "Daria Hrychyna",
      "userId": "00581352827663716373"
     }
    },
    "outputId": "41205138-cfdd-4fed-ac52-bb66c51b4ba5",
    "ExecuteTime": {
     "end_time": "2025-05-17T19:12:43.931519100Z",
     "start_time": "2025-05-17T19:12:43.835943900Z"
    }
   },
   "execution_count": 17,
   "outputs": [
    {
     "name": "stdout",
     "output_type": "stream",
     "text": [
      "Book-Author\n",
      "Agatha Christie          632\n",
      "William Shakespeare      567\n",
      "Stephen King             524\n",
      "Ann M. Martin            423\n",
      "Carolyn Keene            373\n",
      "Francine Pascal          372\n",
      "Isaac Asimov             330\n",
      "Nora Roberts             315\n",
      "Barbara Cartland         307\n",
      "Charles Dickens          302\n",
      "Not Applicable (Na )     286\n",
      "R. L. Stine              282\n",
      "Mark Twain               231\n",
      "Jane Austen              223\n",
      "Terry Pratchett          220\n",
      "Mary Higgins Clark       218\n",
      "Piers Anthony            217\n",
      "Marion Zimmer Bradley    216\n",
      "Janet Dailey             214\n",
      "Franklin W. Dixon        204\n",
      "Name: count, dtype: int64\n"
     ]
    }
   ]
  },
  {
   "cell_type": "code",
   "source": [
    "from visualization.books_visualization import plot_top_authors\n",
    "\n",
    "# фільтрація і вивід 50 авторів без Not Applicable (Na )\n",
    "\n",
    "importlib.reload(books_processing)\n",
    "from processing.books_processing import get_top_authors\n",
    "top_authors = get_top_authors(books_df, top_n=50)\n",
    "plot_top_authors(top_authors)"
   ],
   "metadata": {
    "colab": {
     "base_uri": "https://localhost:8080/",
     "height": 899
    },
    "id": "jbrLJeuu-hS0",
    "executionInfo": {
     "status": "ok",
     "timestamp": 1747045050588,
     "user_tz": -180,
     "elapsed": 1116,
     "user": {
      "displayName": "Daria Hrychyna",
      "userId": "00581352827663716373"
     }
    },
    "outputId": "6bd373b0-b3bf-4e3b-d26a-7d44f2660a5c",
    "ExecuteTime": {
     "end_time": "2025-05-17T19:12:59.182796700Z",
     "start_time": "2025-05-17T19:12:58.119617600Z"
    }
   },
   "execution_count": 18,
   "outputs": [
    {
     "name": "stderr",
     "output_type": "stream",
     "text": [
      "D:\\Daria\\University\\3 course\\6 term\\book_recommender_project\\visualization\\books_visualization.py:9: FutureWarning: \n",
      "\n",
      "Passing `palette` without assigning `hue` is deprecated and will be removed in v0.14.0. Assign the `y` variable to `hue` and set `legend=False` for the same effect.\n",
      "\n",
      "  sns_plot = sns.barplot(y=top_authors.index, x=top_authors.values, palette=colors, orient='h')\n"
     ]
    },
    {
     "data": {
      "text/plain": "<Figure size 1200x1200 with 1 Axes>",
      "image/png": "[encoded data removed]"
     },
     "metadata": {},
     "output_type": "display_data"
    }
   ]
  },
  {
   "cell_type": "code",
   "source": [
    "num_missing_authors = books_df['Book-Author'].isna().sum()\n",
    "print(f\"Кількість порожніх значень у колонці Book-Author: {num_missing_authors}\")"
   ],
   "metadata": {
    "colab": {
     "base_uri": "https://localhost:8080/"
    },
    "id": "XQPb1dixAwkE",
    "executionInfo": {
     "status": "ok",
     "timestamp": 1747045053649,
     "user_tz": -180,
     "elapsed": 18,
     "user": {
      "displayName": "Daria Hrychyna",
      "userId": "00581352827663716373"
     }
    },
    "outputId": "0e45f39f-ee83-4173-bc17-fc6132b3eb6e",
    "ExecuteTime": {
     "end_time": "2025-05-17T19:13:05.404675500Z",
     "start_time": "2025-05-17T19:13:05.253813500Z"
    }
   },
   "execution_count": 19,
   "outputs": [
    {
     "name": "stdout",
     "output_type": "stream",
     "text": [
      "Кількість порожніх значень у колонці Book-Author: 0\n"
     ]
    }
   ]
  },
  {
   "cell_type": "markdown",
   "source": [
    "## Видавництва"
   ],
   "metadata": {
    "id": "Wwhnv4NKGabD"
   }
  },
  {
   "cell_type": "code",
   "source": [
    "import importlib\n",
    "import visualization.books_visualization as bv\n",
    "importlib.reload(bv)\n",
    "bv.plot_top_publishers(get_top_authors, top_n=50)"
   ],
   "metadata": {
    "id": "Zwu4rdjSGtCU",
    "colab": {
     "base_uri": "https://localhost:8080/",
     "height": 898
    },
    "executionInfo": {
     "status": "ok",
     "timestamp": 1747045168629,
     "user_tz": -180,
     "elapsed": 1057,
     "user": {
      "displayName": "Daria Hrychyna",
      "userId": "00581352827663716373"
     }
    },
    "outputId": "38dd8fb5-8256-438b-e835-05cb41196ff7",
    "ExecuteTime": {
     "end_time": "2025-05-17T19:16:13.694866200Z",
     "start_time": "2025-05-17T19:16:13.569101600Z"
    }
   },
   "execution_count": 21,
   "outputs": [
    {
     "ename": "AttributeError",
     "evalue": "'function' object has no attribute 'sort_values'",
     "output_type": "error",
     "traceback": [
      "\u001B[31m---------------------------------------------------------------------------\u001B[39m",
      "\u001B[31mAttributeError\u001B[39m                            Traceback (most recent call last)",
      "\u001B[36mCell\u001B[39m\u001B[36m \u001B[39m\u001B[32mIn[21]\u001B[39m\u001B[32m, line 4\u001B[39m\n\u001B[32m      2\u001B[39m \u001B[38;5;28;01mimport\u001B[39;00m\u001B[38;5;250m \u001B[39m\u001B[34;01mvisualization\u001B[39;00m\u001B[34;01m.\u001B[39;00m\u001B[34;01mbooks_visualization\u001B[39;00m\u001B[38;5;250m \u001B[39m\u001B[38;5;28;01mas\u001B[39;00m\u001B[38;5;250m \u001B[39m\u001B[34;01mbv\u001B[39;00m\n\u001B[32m      3\u001B[39m importlib.reload(bv)\n\u001B[32m----> \u001B[39m\u001B[32m4\u001B[39m \u001B[43mbv\u001B[49m\u001B[43m.\u001B[49m\u001B[43mplot_top_publishers\u001B[49m\u001B[43m(\u001B[49m\u001B[43mget_top_authors\u001B[49m\u001B[43m,\u001B[49m\u001B[43m \u001B[49m\u001B[43mtop_n\u001B[49m\u001B[43m=\u001B[49m\u001B[32;43m50\u001B[39;49m\u001B[43m)\u001B[49m\n",
      "\u001B[36mFile \u001B[39m\u001B[32mD:\\Daria\\University\\3 course\\6 term\\book_recommender_project\\visualization\\books_visualization.py:21\u001B[39m, in \u001B[36mplot_top_publishers\u001B[39m\u001B[34m(publisher_counts, top_n)\u001B[39m\n\u001B[32m     20\u001B[39m \u001B[38;5;28;01mdef\u001B[39;00m\u001B[38;5;250m \u001B[39m\u001B[34mplot_top_publishers\u001B[39m(publisher_counts, top_n=\u001B[32m50\u001B[39m):\n\u001B[32m---> \u001B[39m\u001B[32m21\u001B[39m     top_publishers = \u001B[43mpublisher_counts\u001B[49m\u001B[43m.\u001B[49m\u001B[43msort_values\u001B[49m(ascending=\u001B[38;5;28;01mFalse\u001B[39;00m).head(top_n)\n\u001B[32m     22\u001B[39m     colors = sns.color_palette(\u001B[33m\"\u001B[39m\u001B[33mcool\u001B[39m\u001B[33m\"\u001B[39m, n_colors=\u001B[38;5;28mlen\u001B[39m(top_publishers))\n\u001B[32m     23\u001B[39m     plt.figure(figsize=(\u001B[32m12\u001B[39m, \u001B[32m12\u001B[39m))\n",
      "\u001B[31mAttributeError\u001B[39m: 'function' object has no attribute 'sort_values'"
     ]
    }
   ]
  },
  {
   "cell_type": "code",
   "source": [
    "# завантаження виправленої таблиці в окремий файл Books_fixed.csv\n",
    "from processing.books_processing import save_fixed_books\n",
    "books_processing.save_fixed_books(books_df, '/content/drive/MyDrive/З КУРС/3.2./Coursework/book_recommender_project/data/Books_fixed.csv')"
   ],
   "metadata": {
    "id": "-IPx7Jgz1Voa"
   },
   "execution_count": null,
   "outputs": []
  },
  {
   "cell_type": "markdown",
   "source": [
    "# ------------------------------------------ РОБОТА З ТАБЛИЦЕЮ Users ------------------------------------------"
   ],
   "metadata": {
    "id": "DclV1aYLDElk"
   }
  },
  {
   "cell_type": "code",
   "source": [
    "import processing\n",
    "\n",
    "# У колонці Age було дуже багато пропущених даних. Тому я збережу копію таблиці юзерів з віком на майбутнє, а в основному буду працювати з таблицею без віку\n",
    "importlib.reload(processing.users_processing)\n",
    "from processing.users_processing import (save_users_with_age, remove_age_and_save_users)\n",
    "save_users_with_age()\n",
    "remove_age_and_save_users()"
   ],
   "metadata": {
    "colab": {
     "base_uri": "https://localhost:8080/"
    },
    "id": "5oF5y3Y59tfj",
    "executionInfo": {
     "status": "ok",
     "timestamp": 1747045990537,
     "user_tz": -180,
     "elapsed": 2069,
     "user": {
      "displayName": "Daria Hrychyna",
      "userId": "00581352827663716373"
     }
    },
    "outputId": "b780d585-6af3-4c9f-cab4-e332773f4bcd",
    "ExecuteTime": {
     "end_time": "2025-05-17T19:16:44.749419400Z",
     "start_time": "2025-05-17T19:16:44.686225Z"
    }
   },
   "execution_count": 24,
   "outputs": [
    {
     "ename": "AttributeError",
     "evalue": "module 'processing' has no attribute 'users_processing'",
     "output_type": "error",
     "traceback": [
      "\u001B[31m---------------------------------------------------------------------------\u001B[39m",
      "\u001B[31mAttributeError\u001B[39m                            Traceback (most recent call last)",
      "\u001B[36mCell\u001B[39m\u001B[36m \u001B[39m\u001B[32mIn[24]\u001B[39m\u001B[32m, line 4\u001B[39m\n\u001B[32m      1\u001B[39m \u001B[38;5;28;01mimport\u001B[39;00m\u001B[38;5;250m \u001B[39m\u001B[34;01mprocessing\u001B[39;00m\n\u001B[32m      3\u001B[39m \u001B[38;5;66;03m# У колонці Age було дуже багато пропущених даних. Тому я збережу копію таблиці юзерів з віком на майбутнє, а в основному буду працювати з таблицею без віку\u001B[39;00m\n\u001B[32m----> \u001B[39m\u001B[32m4\u001B[39m importlib.reload(\u001B[43mprocessing\u001B[49m\u001B[43m.\u001B[49m\u001B[43musers_processing\u001B[49m)\n\u001B[32m      5\u001B[39m \u001B[38;5;28;01mfrom\u001B[39;00m\u001B[38;5;250m \u001B[39m\u001B[34;01mprocessing\u001B[39;00m\u001B[34;01m.\u001B[39;00m\u001B[34;01musers_processing\u001B[39;00m\u001B[38;5;250m \u001B[39m\u001B[38;5;28;01mimport\u001B[39;00m (save_users_with_age, remove_age_and_save_users)\n\u001B[32m      6\u001B[39m save_users_with_age()\n",
      "\u001B[31mAttributeError\u001B[39m: module 'processing' has no attribute 'users_processing'"
     ]
    }
   ]
  },
  {
   "cell_type": "markdown",
   "source": [
    "# ----------------------------------------- РОБОТА З ТАБЛИЦЕЮ Ratings -----------------------------------------"
   ],
   "metadata": {
    "id": "Qb-hfJc5DW8t"
   }
  },
  {
   "cell_type": "code",
   "source": [
    "# вивід перших 5 записів таблиці Ratings\n",
    "\n",
    "ratings_df = pd.read_csv('data/Ratings.csv')\n",
    "ratings_df.head()"
   ],
   "metadata": {
    "colab": {
     "base_uri": "https://localhost:8080/",
     "height": 206
    },
    "id": "MBXr4PI4u4Cb",
    "executionInfo": {
     "status": "ok",
     "timestamp": 1747046823656,
     "user_tz": -180,
     "elapsed": 872,
     "user": {
      "displayName": "Daria Hrychyna",
      "userId": "00581352827663716373"
     }
    },
    "outputId": "3689a7e0-ebcc-49df-f29b-755a7d1a6487",
    "ExecuteTime": {
     "end_time": "2025-05-17T19:17:11.491344600Z",
     "start_time": "2025-05-17T19:17:09.563333400Z"
    }
   },
   "execution_count": 25,
   "outputs": [
    {
     "data": {
      "text/plain": "   User-ID        ISBN  Book-Rating\n0   276725  034545104X            0\n1   276726  0155061224            5\n2   276727  0446520802            0\n3   276729  052165615X            3\n4   276729  0521795028            6",
      "text/html": "<div>\n<style scoped>\n    .dataframe tbody tr th:only-of-type {\n        vertical-align: middle;\n    }\n\n    .dataframe tbody tr th {\n        vertical-align: top;\n    }\n\n    .dataframe thead th {\n        text-align: right;\n    }\n</style>\n<table border=\"1\" class=\"dataframe\">\n  <thead>\n    <tr style=\"text-align: right;\">\n      <th></th>\n      <th>User-ID</th>\n      <th>ISBN</th>\n      <th>Book-Rating</th>\n    </tr>\n  </thead>\n  <tbody>\n    <tr>\n      <th>0</th>\n      <td>276725</td>\n      <td>034545104X</td>\n      <td>0</td>\n    </tr>\n    <tr>\n      <th>1</th>\n      <td>276726</td>\n      <td>0155061224</td>\n      <td>5</td>\n    </tr>\n    <tr>\n      <th>2</th>\n      <td>276727</td>\n      <td>0446520802</td>\n      <td>0</td>\n    </tr>\n    <tr>\n      <th>3</th>\n      <td>276729</td>\n      <td>052165615X</td>\n      <td>3</td>\n    </tr>\n    <tr>\n      <th>4</th>\n      <td>276729</td>\n      <td>0521795028</td>\n      <td>6</td>\n    </tr>\n  </tbody>\n</table>\n</div>"
     },
     "execution_count": 25,
     "metadata": {},
     "output_type": "execute_result"
    }
   ]
  },
  {
   "cell_type": "code",
   "source": [
    "# вивід розмірностей\n",
    "display(books_df.shape)\n",
    "display(ratings_df.shape)"
   ],
   "metadata": {
    "colab": {
     "base_uri": "https://localhost:8080/",
     "height": 52
    },
    "id": "JqHCO46qfGIy",
    "executionInfo": {
     "status": "ok",
     "timestamp": 1747046846163,
     "user_tz": -180,
     "elapsed": 46,
     "user": {
      "displayName": "Daria Hrychyna",
      "userId": "00581352827663716373"
     }
    },
    "outputId": "007cdf90-ba51-47f6-e0ff-608abf8931e4"
   },
   "execution_count": null,
   "outputs": [
    {
     "output_type": "display_data",
     "data": {
      "text/plain": [
       "(271360, 8)"
      ]
     },
     "metadata": {}
    },
    {
     "output_type": "display_data",
     "data": {
      "text/plain": [
       "(1149780, 3)"
      ]
     },
     "metadata": {}
    }
   ]
  },
  {
   "cell_type": "code",
   "source": [
    "# з'єднання книг і рейтингів\n",
    "import importlib\n",
    "import processing.ratings_processing as ratings_processing\n",
    "importlib.reload(ratings_processing)\n",
    "\n",
    "from processing.ratings_processing import merge_books_and_ratings\n",
    "bookRating = merge_books_and_ratings(books_df, ratings_df)\n",
    "bookRating.head()"
   ],
   "metadata": {
    "colab": {
     "base_uri": "https://localhost:8080/",
     "height": 434
    },
    "id": "6JjEeR9qfH0x",
    "executionInfo": {
     "status": "ok",
     "timestamp": 1747047251027,
     "user_tz": -180,
     "elapsed": 2233,
     "user": {
      "displayName": "Daria Hrychyna",
      "userId": "00581352827663716373"
     }
    },
    "outputId": "0fc104ee-6051-4a73-a73e-06f63954e572",
    "ExecuteTime": {
     "end_time": "2025-05-17T19:17:17.864903600Z",
     "start_time": "2025-05-17T19:17:16.429807600Z"
    }
   },
   "execution_count": 26,
   "outputs": [
    {
     "data": {
      "text/plain": "   User-ID        ISBN  Book-Rating  \\\n0   276725  034545104X            0   \n1   276726  0155061224            5   \n2   276727  0446520802            0   \n3   276729  052165615X            3   \n4   276729  0521795028            6   \n\n                                          Book-Title      Book-Author  \\\n0                               Flesh Tones: A Novel       M. J. Rose   \n1                                   Rites of Passage       Judith Rae   \n2                                       The Notebook  Nicholas Sparks   \n3                                     Help!: Level 1    Philip Prowse   \n4  The Amsterdam Connection : Level 4 (Cambridge ...      Sue Leather   \n\n   Year-Of-Publication                   Publisher  \\\n0                 2002            Ballantine Books   \n1                 2001                      Heinle   \n2                 1996                Warner Books   \n3                 1999  Cambridge University Press   \n4                 2001  Cambridge University Press   \n\n                                         Image-URL-S  \\\n0  http://images.amazon.com/images/P/034545104X.0...   \n1  http://images.amazon.com/images/P/0155061224.0...   \n2  http://images.amazon.com/images/P/0446520802.0...   \n3  http://images.amazon.com/images/P/052165615X.0...   \n4  http://images.amazon.com/images/P/0521795028.0...   \n\n                                         Image-URL-M  \\\n0  http://images.amazon.com/images/P/034545104X.0...   \n1  http://images.amazon.com/images/P/0155061224.0...   \n2  http://images.amazon.com/images/P/0446520802.0...   \n3  http://images.amazon.com/images/P/052165615X.0...   \n4  http://images.amazon.com/images/P/0521795028.0...   \n\n                                         Image-URL-L  \n0  http://images.amazon.com/images/P/034545104X.0...  \n1  http://images.amazon.com/images/P/0155061224.0...  \n2  http://images.amazon.com/images/P/0446520802.0...  \n3  http://images.amazon.com/images/P/052165615X.0...  \n4  http://images.amazon.com/images/P/0521795028.0...  ",
      "text/html": "<div>\n<style scoped>\n    .dataframe tbody tr th:only-of-type {\n        vertical-align: middle;\n    }\n\n    .dataframe tbody tr th {\n        vertical-align: top;\n    }\n\n    .dataframe thead th {\n        text-align: right;\n    }\n</style>\n<table border=\"1\" class=\"dataframe\">\n  <thead>\n    <tr style=\"text-align: right;\">\n      <th></th>\n      <th>User-ID</th>\n      <th>ISBN</th>\n      <th>Book-Rating</th>\n      <th>Book-Title</th>\n      <th>Book-Author</th>\n      <th>Year-Of-Publication</th>\n      <th>Publisher</th>\n      <th>Image-URL-S</th>\n      <th>Image-URL-M</th>\n      <th>Image-URL-L</th>\n    </tr>\n  </thead>\n  <tbody>\n    <tr>\n      <th>0</th>\n      <td>276725</td>\n      <td>034545104X</td>\n      <td>0</td>\n      <td>Flesh Tones: A Novel</td>\n      <td>M. J. Rose</td>\n      <td>2002</td>\n      <td>Ballantine Books</td>\n      <td>http://images.amazon.com/images/P/034545104X.0...</td>\n      <td>http://images.amazon.com/images/P/034545104X.0...</td>\n      <td>http://images.amazon.com/images/P/034545104X.0...</td>\n    </tr>\n    <tr>\n      <th>1</th>\n      <td>276726</td>\n      <td>0155061224</td>\n      <td>5</td>\n      <td>Rites of Passage</td>\n      <td>Judith Rae</td>\n      <td>2001</td>\n      <td>Heinle</td>\n      <td>http://images.amazon.com/images/P/0155061224.0...</td>\n      <td>http://images.amazon.com/images/P/0155061224.0...</td>\n      <td>http://images.amazon.com/images/P/0155061224.0...</td>\n    </tr>\n    <tr>\n      <th>2</th>\n      <td>276727</td>\n      <td>0446520802</td>\n      <td>0</td>\n      <td>The Notebook</td>\n      <td>Nicholas Sparks</td>\n      <td>1996</td>\n      <td>Warner Books</td>\n      <td>http://images.amazon.com/images/P/0446520802.0...</td>\n      <td>http://images.amazon.com/images/P/0446520802.0...</td>\n      <td>http://images.amazon.com/images/P/0446520802.0...</td>\n    </tr>\n    <tr>\n      <th>3</th>\n      <td>276729</td>\n      <td>052165615X</td>\n      <td>3</td>\n      <td>Help!: Level 1</td>\n      <td>Philip Prowse</td>\n      <td>1999</td>\n      <td>Cambridge University Press</td>\n      <td>http://images.amazon.com/images/P/052165615X.0...</td>\n      <td>http://images.amazon.com/images/P/052165615X.0...</td>\n      <td>http://images.amazon.com/images/P/052165615X.0...</td>\n    </tr>\n    <tr>\n      <th>4</th>\n      <td>276729</td>\n      <td>0521795028</td>\n      <td>6</td>\n      <td>The Amsterdam Connection : Level 4 (Cambridge ...</td>\n      <td>Sue Leather</td>\n      <td>2001</td>\n      <td>Cambridge University Press</td>\n      <td>http://images.amazon.com/images/P/0521795028.0...</td>\n      <td>http://images.amazon.com/images/P/0521795028.0...</td>\n      <td>http://images.amazon.com/images/P/0521795028.0...</td>\n    </tr>\n  </tbody>\n</table>\n</div>"
     },
     "execution_count": 26,
     "metadata": {},
     "output_type": "execute_result"
    }
   ]
  },
  {
   "cell_type": "code",
   "source": [
    "bookRating.shape"
   ],
   "metadata": {
    "colab": {
     "base_uri": "https://localhost:8080/"
    },
    "id": "BRcH69J3fGLj",
    "executionInfo": {
     "status": "ok",
     "timestamp": 1747047273092,
     "user_tz": -180,
     "elapsed": 53,
     "user": {
      "displayName": "Daria Hrychyna",
      "userId": "00581352827663716373"
     }
    },
    "outputId": "8df3f32e-92d3-493a-d41c-d3c56012e282"
   },
   "execution_count": null,
   "outputs": [
    {
     "output_type": "execute_result",
     "data": {
      "text/plain": [
       "(1031136, 10)"
      ]
     },
     "metadata": {},
     "execution_count": 241
    }
   ]
  },
  {
   "cell_type": "code",
   "source": [
    "# видалення колонок з посиланнями зображень\n",
    "\n",
    "importlib.reload(ratings_processing)\n",
    "\n",
    "from processing.ratings_processing import drop_image_columns\n",
    "bookRating.drop(columns=['Image-URL-S','Image-URL-M','Image-URL-L'],inplace=True)\n",
    "bookRating.head()"
   ],
   "metadata": {
    "colab": {
     "base_uri": "https://localhost:8080/",
     "height": 310
    },
    "id": "P6uxs79zfGNt",
    "executionInfo": {
     "status": "ok",
     "timestamp": 1747047338220,
     "user_tz": -180,
     "elapsed": 138,
     "user": {
      "displayName": "Daria Hrychyna",
      "userId": "00581352827663716373"
     }
    },
    "outputId": "62b834fe-e358-475c-9f53-07ebce739d62",
    "ExecuteTime": {
     "end_time": "2025-05-17T19:17:24.422245600Z",
     "start_time": "2025-05-17T19:17:24.305584600Z"
    }
   },
   "execution_count": 27,
   "outputs": [
    {
     "data": {
      "text/plain": "   User-ID        ISBN  Book-Rating  \\\n0   276725  034545104X            0   \n1   276726  0155061224            5   \n2   276727  0446520802            0   \n3   276729  052165615X            3   \n4   276729  0521795028            6   \n\n                                          Book-Title      Book-Author  \\\n0                               Flesh Tones: A Novel       M. J. Rose   \n1                                   Rites of Passage       Judith Rae   \n2                                       The Notebook  Nicholas Sparks   \n3                                     Help!: Level 1    Philip Prowse   \n4  The Amsterdam Connection : Level 4 (Cambridge ...      Sue Leather   \n\n   Year-Of-Publication                   Publisher  \n0                 2002            Ballantine Books  \n1                 2001                      Heinle  \n2                 1996                Warner Books  \n3                 1999  Cambridge University Press  \n4                 2001  Cambridge University Press  ",
      "text/html": "<div>\n<style scoped>\n    .dataframe tbody tr th:only-of-type {\n        vertical-align: middle;\n    }\n\n    .dataframe tbody tr th {\n        vertical-align: top;\n    }\n\n    .dataframe thead th {\n        text-align: right;\n    }\n</style>\n<table border=\"1\" class=\"dataframe\">\n  <thead>\n    <tr style=\"text-align: right;\">\n      <th></th>\n      <th>User-ID</th>\n      <th>ISBN</th>\n      <th>Book-Rating</th>\n      <th>Book-Title</th>\n      <th>Book-Author</th>\n      <th>Year-Of-Publication</th>\n      <th>Publisher</th>\n    </tr>\n  </thead>\n  <tbody>\n    <tr>\n      <th>0</th>\n      <td>276725</td>\n      <td>034545104X</td>\n      <td>0</td>\n      <td>Flesh Tones: A Novel</td>\n      <td>M. J. Rose</td>\n      <td>2002</td>\n      <td>Ballantine Books</td>\n    </tr>\n    <tr>\n      <th>1</th>\n      <td>276726</td>\n      <td>0155061224</td>\n      <td>5</td>\n      <td>Rites of Passage</td>\n      <td>Judith Rae</td>\n      <td>2001</td>\n      <td>Heinle</td>\n    </tr>\n    <tr>\n      <th>2</th>\n      <td>276727</td>\n      <td>0446520802</td>\n      <td>0</td>\n      <td>The Notebook</td>\n      <td>Nicholas Sparks</td>\n      <td>1996</td>\n      <td>Warner Books</td>\n    </tr>\n    <tr>\n      <th>3</th>\n      <td>276729</td>\n      <td>052165615X</td>\n      <td>3</td>\n      <td>Help!: Level 1</td>\n      <td>Philip Prowse</td>\n      <td>1999</td>\n      <td>Cambridge University Press</td>\n    </tr>\n    <tr>\n      <th>4</th>\n      <td>276729</td>\n      <td>0521795028</td>\n      <td>6</td>\n      <td>The Amsterdam Connection : Level 4 (Cambridge ...</td>\n      <td>Sue Leather</td>\n      <td>2001</td>\n      <td>Cambridge University Press</td>\n    </tr>\n  </tbody>\n</table>\n</div>"
     },
     "execution_count": 27,
     "metadata": {},
     "output_type": "execute_result"
    }
   ]
  },
  {
   "cell_type": "code",
   "source": [
    "# ОБРАХУВАННЯ СЕРЕДНЬОГО РЕЙТИНГУ ПО КОЖНІЙ КНИЗІ"
   ],
   "metadata": {
    "id": "wiEUnVVTfGP9"
   },
   "execution_count": null,
   "outputs": []
  },
  {
   "cell_type": "code",
   "source": [
    "# для кожної книги обчислюється середній рейтинг\n",
    "averageRating = pd.DataFrame(bookRating.groupby('ISBN')['Book-Rating'].mean().round(1))\n",
    "averageRating.reset_index(inplace=True)\n",
    "averageRating.head()"
   ],
   "metadata": {
    "colab": {
     "base_uri": "https://localhost:8080/",
     "height": 206
    },
    "id": "2GGITl8imdNi",
    "executionInfo": {
     "status": "ok",
     "timestamp": 1747047397900,
     "user_tz": -180,
     "elapsed": 731,
     "user": {
      "displayName": "Daria Hrychyna",
      "userId": "00581352827663716373"
     }
    },
    "outputId": "65c05c6a-4927-47e6-b8cb-b2811ecfce0c",
    "ExecuteTime": {
     "end_time": "2025-05-17T19:17:29.457719600Z",
     "start_time": "2025-05-17T19:17:28.041725Z"
    }
   },
   "execution_count": 28,
   "outputs": [
    {
     "data": {
      "text/plain": "         ISBN  Book-Rating\n0  0000913154          8.0\n1  0001010565          0.0\n2  0001046438          9.0\n3  0001046713          0.0\n4  000104687X          6.0",
      "text/html": "<div>\n<style scoped>\n    .dataframe tbody tr th:only-of-type {\n        vertical-align: middle;\n    }\n\n    .dataframe tbody tr th {\n        vertical-align: top;\n    }\n\n    .dataframe thead th {\n        text-align: right;\n    }\n</style>\n<table border=\"1\" class=\"dataframe\">\n  <thead>\n    <tr style=\"text-align: right;\">\n      <th></th>\n      <th>ISBN</th>\n      <th>Book-Rating</th>\n    </tr>\n  </thead>\n  <tbody>\n    <tr>\n      <th>0</th>\n      <td>0000913154</td>\n      <td>8.0</td>\n    </tr>\n    <tr>\n      <th>1</th>\n      <td>0001010565</td>\n      <td>0.0</td>\n    </tr>\n    <tr>\n      <th>2</th>\n      <td>0001046438</td>\n      <td>9.0</td>\n    </tr>\n    <tr>\n      <th>3</th>\n      <td>0001046713</td>\n      <td>0.0</td>\n    </tr>\n    <tr>\n      <th>4</th>\n      <td>000104687X</td>\n      <td>6.0</td>\n    </tr>\n  </tbody>\n</table>\n</div>"
     },
     "execution_count": 28,
     "metadata": {},
     "output_type": "execute_result"
    }
   ]
  },
  {
   "cell_type": "code",
   "source": [
    "averageRating.shape"
   ],
   "metadata": {
    "colab": {
     "base_uri": "https://localhost:8080/"
    },
    "id": "znJ3GXn6mdSF",
    "executionInfo": {
     "status": "ok",
     "timestamp": 1747047432214,
     "user_tz": -180,
     "elapsed": 65,
     "user": {
      "displayName": "Daria Hrychyna",
      "userId": "00581352827663716373"
     }
    },
    "outputId": "27d89aae-5853-48cd-c8b1-1c2f4977b375"
   },
   "execution_count": null,
   "outputs": [
    {
     "output_type": "execute_result",
     "data": {
      "text/plain": [
       "(270151, 2)"
      ]
     },
     "metadata": {},
     "execution_count": 246
    }
   ]
  },
  {
   "cell_type": "code",
   "source": [
    "# перейменювання колонок\n",
    "averageRating.rename(columns={'Book-Rating':'Average-Rating'}, inplace=True)\n",
    "averageRating.head()"
   ],
   "metadata": {
    "colab": {
     "base_uri": "https://localhost:8080/",
     "height": 206
    },
    "id": "CwVQ-S4mor6L",
    "executionInfo": {
     "status": "ok",
     "timestamp": 1747047433009,
     "user_tz": -180,
     "elapsed": 15,
     "user": {
      "displayName": "Daria Hrychyna",
      "userId": "00581352827663716373"
     }
    },
    "outputId": "85830dcd-c9d5-4675-dac3-212dcb3e6714",
    "ExecuteTime": {
     "end_time": "2025-05-17T19:17:32.795451300Z",
     "start_time": "2025-05-17T19:17:32.726562600Z"
    }
   },
   "execution_count": 29,
   "outputs": [
    {
     "data": {
      "text/plain": "         ISBN  Average-Rating\n0  0000913154             8.0\n1  0001010565             0.0\n2  0001046438             9.0\n3  0001046713             0.0\n4  000104687X             6.0",
      "text/html": "<div>\n<style scoped>\n    .dataframe tbody tr th:only-of-type {\n        vertical-align: middle;\n    }\n\n    .dataframe tbody tr th {\n        vertical-align: top;\n    }\n\n    .dataframe thead th {\n        text-align: right;\n    }\n</style>\n<table border=\"1\" class=\"dataframe\">\n  <thead>\n    <tr style=\"text-align: right;\">\n      <th></th>\n      <th>ISBN</th>\n      <th>Average-Rating</th>\n    </tr>\n  </thead>\n  <tbody>\n    <tr>\n      <th>0</th>\n      <td>0000913154</td>\n      <td>8.0</td>\n    </tr>\n    <tr>\n      <th>1</th>\n      <td>0001010565</td>\n      <td>0.0</td>\n    </tr>\n    <tr>\n      <th>2</th>\n      <td>0001046438</td>\n      <td>9.0</td>\n    </tr>\n    <tr>\n      <th>3</th>\n      <td>0001046713</td>\n      <td>0.0</td>\n    </tr>\n    <tr>\n      <th>4</th>\n      <td>000104687X</td>\n      <td>6.0</td>\n    </tr>\n  </tbody>\n</table>\n</div>"
     },
     "execution_count": 29,
     "metadata": {},
     "output_type": "execute_result"
    }
   ]
  },
  {
   "cell_type": "code",
   "source": [
    "# об'єднання середнього рейингу назад з повною таблицею\n",
    "averageRatingdf = pd.merge(bookRating, averageRating, on='ISBN')\n",
    "averageRatingdf.head()"
   ],
   "metadata": {
    "colab": {
     "base_uri": "https://localhost:8080/",
     "height": 362
    },
    "id": "8Plxua35mdVS",
    "executionInfo": {
     "status": "ok",
     "timestamp": 1747047438219,
     "user_tz": -180,
     "elapsed": 1132,
     "user": {
      "displayName": "Daria Hrychyna",
      "userId": "00581352827663716373"
     }
    },
    "outputId": "c1e05360-3439-4646-a787-ddcceaa92c02",
    "ExecuteTime": {
     "end_time": "2025-05-17T19:17:37.067855800Z",
     "start_time": "2025-05-17T19:17:35.628914200Z"
    }
   },
   "execution_count": 30,
   "outputs": [
    {
     "data": {
      "text/plain": "   User-ID        ISBN  Book-Rating  \\\n0   276725  034545104X            0   \n1   276726  0155061224            5   \n2   276727  0446520802            0   \n3   276729  052165615X            3   \n4   276729  0521795028            6   \n\n                                          Book-Title      Book-Author  \\\n0                               Flesh Tones: A Novel       M. J. Rose   \n1                                   Rites of Passage       Judith Rae   \n2                                       The Notebook  Nicholas Sparks   \n3                                     Help!: Level 1    Philip Prowse   \n4  The Amsterdam Connection : Level 4 (Cambridge ...      Sue Leather   \n\n   Year-Of-Publication                   Publisher  Average-Rating  \n0                 2002            Ballantine Books             2.9  \n1                 2001                      Heinle             2.5  \n2                 1996                Warner Books             4.1  \n3                 1999  Cambridge University Press             3.0  \n4                 2001  Cambridge University Press             6.0  ",
      "text/html": "<div>\n<style scoped>\n    .dataframe tbody tr th:only-of-type {\n        vertical-align: middle;\n    }\n\n    .dataframe tbody tr th {\n        vertical-align: top;\n    }\n\n    .dataframe thead th {\n        text-align: right;\n    }\n</style>\n<table border=\"1\" class=\"dataframe\">\n  <thead>\n    <tr style=\"text-align: right;\">\n      <th></th>\n      <th>User-ID</th>\n      <th>ISBN</th>\n      <th>Book-Rating</th>\n      <th>Book-Title</th>\n      <th>Book-Author</th>\n      <th>Year-Of-Publication</th>\n      <th>Publisher</th>\n      <th>Average-Rating</th>\n    </tr>\n  </thead>\n  <tbody>\n    <tr>\n      <th>0</th>\n      <td>276725</td>\n      <td>034545104X</td>\n      <td>0</td>\n      <td>Flesh Tones: A Novel</td>\n      <td>M. J. Rose</td>\n      <td>2002</td>\n      <td>Ballantine Books</td>\n      <td>2.9</td>\n    </tr>\n    <tr>\n      <th>1</th>\n      <td>276726</td>\n      <td>0155061224</td>\n      <td>5</td>\n      <td>Rites of Passage</td>\n      <td>Judith Rae</td>\n      <td>2001</td>\n      <td>Heinle</td>\n      <td>2.5</td>\n    </tr>\n    <tr>\n      <th>2</th>\n      <td>276727</td>\n      <td>0446520802</td>\n      <td>0</td>\n      <td>The Notebook</td>\n      <td>Nicholas Sparks</td>\n      <td>1996</td>\n      <td>Warner Books</td>\n      <td>4.1</td>\n    </tr>\n    <tr>\n      <th>3</th>\n      <td>276729</td>\n      <td>052165615X</td>\n      <td>3</td>\n      <td>Help!: Level 1</td>\n      <td>Philip Prowse</td>\n      <td>1999</td>\n      <td>Cambridge University Press</td>\n      <td>3.0</td>\n    </tr>\n    <tr>\n      <th>4</th>\n      <td>276729</td>\n      <td>0521795028</td>\n      <td>6</td>\n      <td>The Amsterdam Connection : Level 4 (Cambridge ...</td>\n      <td>Sue Leather</td>\n      <td>2001</td>\n      <td>Cambridge University Press</td>\n      <td>6.0</td>\n    </tr>\n  </tbody>\n</table>\n</div>"
     },
     "execution_count": 30,
     "metadata": {},
     "output_type": "execute_result"
    }
   ]
  },
  {
   "cell_type": "code",
   "source": [
    "averageRatingdf.shape"
   ],
   "metadata": {
    "colab": {
     "base_uri": "https://localhost:8080/"
    },
    "id": "koh6oEjQmdYE",
    "executionInfo": {
     "status": "ok",
     "timestamp": 1747047441481,
     "user_tz": -180,
     "elapsed": 12,
     "user": {
      "displayName": "Daria Hrychyna",
      "userId": "00581352827663716373"
     }
    },
    "outputId": "753acd17-b8d9-4e73-8f7b-633358ce0846"
   },
   "execution_count": null,
   "outputs": [
    {
     "output_type": "execute_result",
     "data": {
      "text/plain": [
       "(1031136, 8)"
      ]
     },
     "metadata": {},
     "execution_count": 249
    }
   ]
  },
  {
   "cell_type": "code",
   "source": [
    "# тут ще averageRatingdf має багато рядків для однієї книги\n",
    "averageRatingOnly = averageRatingdf[['ISBN','Average-Rating']]\n",
    "averageRatingOnly.head()"
   ],
   "metadata": {
    "colab": {
     "base_uri": "https://localhost:8080/",
     "height": 206
    },
    "id": "vyZkbaIXfGSW",
    "executionInfo": {
     "status": "ok",
     "timestamp": 1747047442484,
     "user_tz": -180,
     "elapsed": 58,
     "user": {
      "displayName": "Daria Hrychyna",
      "userId": "00581352827663716373"
     }
    },
    "outputId": "fe1604e1-204f-4468-eb4d-06fdae1c7fdd",
    "ExecuteTime": {
     "end_time": "2025-05-17T19:17:41.818731200Z",
     "start_time": "2025-05-17T19:17:41.710228300Z"
    }
   },
   "execution_count": 31,
   "outputs": [
    {
     "data": {
      "text/plain": "         ISBN  Average-Rating\n0  034545104X             2.9\n1  0155061224             2.5\n2  0446520802             4.1\n3  052165615X             3.0\n4  0521795028             6.0",
      "text/html": "<div>\n<style scoped>\n    .dataframe tbody tr th:only-of-type {\n        vertical-align: middle;\n    }\n\n    .dataframe tbody tr th {\n        vertical-align: top;\n    }\n\n    .dataframe thead th {\n        text-align: right;\n    }\n</style>\n<table border=\"1\" class=\"dataframe\">\n  <thead>\n    <tr style=\"text-align: right;\">\n      <th></th>\n      <th>ISBN</th>\n      <th>Average-Rating</th>\n    </tr>\n  </thead>\n  <tbody>\n    <tr>\n      <th>0</th>\n      <td>034545104X</td>\n      <td>2.9</td>\n    </tr>\n    <tr>\n      <th>1</th>\n      <td>0155061224</td>\n      <td>2.5</td>\n    </tr>\n    <tr>\n      <th>2</th>\n      <td>0446520802</td>\n      <td>4.1</td>\n    </tr>\n    <tr>\n      <th>3</th>\n      <td>052165615X</td>\n      <td>3.0</td>\n    </tr>\n    <tr>\n      <th>4</th>\n      <td>0521795028</td>\n      <td>6.0</td>\n    </tr>\n  </tbody>\n</table>\n</div>"
     },
     "execution_count": 31,
     "metadata": {},
     "output_type": "execute_result"
    }
   ]
  },
  {
   "cell_type": "code",
   "source": [
    "# тому тут видаляються дублікати\n",
    "averageRatingUnique = averageRatingOnly[['ISBN','Average-Rating']].drop_duplicates(subset=['ISBN'])\n",
    "averageRatingUnique.head()"
   ],
   "metadata": {
    "colab": {
     "base_uri": "https://localhost:8080/",
     "height": 206
    },
    "id": "ieoPUhYLoEAM",
    "executionInfo": {
     "status": "ok",
     "timestamp": 1747047444240,
     "user_tz": -180,
     "elapsed": 274,
     "user": {
      "displayName": "Daria Hrychyna",
      "userId": "00581352827663716373"
     }
    },
    "outputId": "26627f29-8d5c-4580-f926-cc7365ebef04",
    "ExecuteTime": {
     "end_time": "2025-05-17T19:17:50.372021900Z",
     "start_time": "2025-05-17T19:17:50.142281100Z"
    }
   },
   "execution_count": 32,
   "outputs": [
    {
     "data": {
      "text/plain": "         ISBN  Average-Rating\n0  034545104X             2.9\n1  0155061224             2.5\n2  0446520802             4.1\n3  052165615X             3.0\n4  0521795028             6.0",
      "text/html": "<div>\n<style scoped>\n    .dataframe tbody tr th:only-of-type {\n        vertical-align: middle;\n    }\n\n    .dataframe tbody tr th {\n        vertical-align: top;\n    }\n\n    .dataframe thead th {\n        text-align: right;\n    }\n</style>\n<table border=\"1\" class=\"dataframe\">\n  <thead>\n    <tr style=\"text-align: right;\">\n      <th></th>\n      <th>ISBN</th>\n      <th>Average-Rating</th>\n    </tr>\n  </thead>\n  <tbody>\n    <tr>\n      <th>0</th>\n      <td>034545104X</td>\n      <td>2.9</td>\n    </tr>\n    <tr>\n      <th>1</th>\n      <td>0155061224</td>\n      <td>2.5</td>\n    </tr>\n    <tr>\n      <th>2</th>\n      <td>0446520802</td>\n      <td>4.1</td>\n    </tr>\n    <tr>\n      <th>3</th>\n      <td>052165615X</td>\n      <td>3.0</td>\n    </tr>\n    <tr>\n      <th>4</th>\n      <td>0521795028</td>\n      <td>6.0</td>\n    </tr>\n  </tbody>\n</table>\n</div>"
     },
     "execution_count": 32,
     "metadata": {},
     "output_type": "execute_result"
    }
   ]
  },
  {
   "cell_type": "code",
   "source": [
    "ratingBooks = pd.merge(books_df, averageRatingUnique, on='ISBN', how='inner')"
   ],
   "metadata": {
    "id": "Oso3yPf1oEDK",
    "ExecuteTime": {
     "end_time": "2025-05-17T19:17:56.852130Z",
     "start_time": "2025-05-17T19:17:56.564800400Z"
    }
   },
   "execution_count": 33,
   "outputs": []
  },
  {
   "cell_type": "code",
   "source": [
    "display(books_df.shape)\n",
    "averageRatingUnique.shape"
   ],
   "metadata": {
    "colab": {
     "base_uri": "https://localhost:8080/",
     "height": 52
    },
    "id": "eRkoSdBqrEw3",
    "executionInfo": {
     "status": "ok",
     "timestamp": 1747047448829,
     "user_tz": -180,
     "elapsed": 59,
     "user": {
      "displayName": "Daria Hrychyna",
      "userId": "00581352827663716373"
     }
    },
    "outputId": "a1522167-010c-42f3-aca9-692294abf945"
   },
   "execution_count": null,
   "outputs": [
    {
     "output_type": "display_data",
     "data": {
      "text/plain": [
       "(271360, 8)"
      ]
     },
     "metadata": {}
    },
    {
     "output_type": "execute_result",
     "data": {
      "text/plain": [
       "(270151, 2)"
      ]
     },
     "metadata": {},
     "execution_count": 253
    }
   ]
  },
  {
   "cell_type": "code",
   "source": [
    "# об'єднання всіх книг з їхніми середніми рейтингами. фінальна таблиця books_with_rating\n",
    "\n",
    "books_with_rating = pd.merge(books_df, averageRatingUnique, on='ISBN')\n",
    "books_with_rating.shape"
   ],
   "metadata": {
    "colab": {
     "base_uri": "https://localhost:8080/"
    },
    "id": "CBFiLsG2rQjX",
    "executionInfo": {
     "status": "ok",
     "timestamp": 1747039691298,
     "user_tz": -180,
     "elapsed": 369,
     "user": {
      "displayName": "Daria Hrychyna",
      "userId": "00581352827663716373"
     }
    },
    "outputId": "6d3c987e-8116-4cd8-f727-7229671b490b",
    "ExecuteTime": {
     "end_time": "2025-05-17T19:18:04.573900200Z",
     "start_time": "2025-05-17T19:18:04.240716600Z"
    }
   },
   "execution_count": 34,
   "outputs": [
    {
     "data": {
      "text/plain": "(270151, 9)"
     },
     "execution_count": 34,
     "metadata": {},
     "output_type": "execute_result"
    }
   ]
  },
  {
   "cell_type": "code",
   "source": [
    "books_with_rating = books_with_rating[['ISBN','Book-Title','Book-Author','Average-Rating','Year-Of-Publication','Publisher','Image-URL-S','Image-URL-M','Image-URL-L']]\n",
    "books_with_rating.head()"
   ],
   "metadata": {
    "colab": {
     "base_uri": "https://localhost:8080/",
     "height": 434
    },
    "id": "HTRPjYtVrEz1",
    "executionInfo": {
     "status": "ok",
     "timestamp": 1747047460231,
     "user_tz": -180,
     "elapsed": 129,
     "user": {
      "displayName": "Daria Hrychyna",
      "userId": "00581352827663716373"
     }
    },
    "outputId": "750f0041-280f-436e-c016-d3afeb8438cb"
   },
   "execution_count": null,
   "outputs": [
    {
     "output_type": "execute_result",
     "data": {
      "text/plain": [
       "         ISBN                                         Book-Title  \\\n",
       "0  0195153448                                Classical Mythology   \n",
       "1  0002005018                                       Clara Callan   \n",
       "2  0060973129                               Decision in Normandy   \n",
       "3  0374157065  Flu: The Story of the Great Influenza Pandemic...   \n",
       "4  0393045218                             The Mummies of Urumchi   \n",
       "\n",
       "            Book-Author  Average-Rating  Year-Of-Publication  \\\n",
       "0    Mark P. O. Morford             0.0                 2002   \n",
       "1  Richard Bruce Wright             4.9                 2001   \n",
       "2          Carlo D'Este             5.0                 1991   \n",
       "3      Gina Bari Kolata             4.3                 1999   \n",
       "4       E. J. W. Barber             0.0                 1999   \n",
       "\n",
       "                    Publisher  \\\n",
       "0     Oxford University Press   \n",
       "1       HarperFlamingo Canada   \n",
       "2             HarperPerennial   \n",
       "3        Farrar Straus Giroux   \n",
       "4  W. W. Norton &amp; Company   \n",
       "\n",
       "                                         Image-URL-S  \\\n",
       "0  http://images.amazon.com/images/P/0195153448.0...   \n",
       "1  http://images.amazon.com/images/P/0002005018.0...   \n",
       "2  http://images.amazon.com/images/P/0060973129.0...   \n",
       "3  http://images.amazon.com/images/P/0374157065.0...   \n",
       "4  http://images.amazon.com/images/P/0393045218.0...   \n",
       "\n",
       "                                         Image-URL-M  \\\n",
       "0  http://images.amazon.com/images/P/0195153448.0...   \n",
       "1  http://images.amazon.com/images/P/0002005018.0...   \n",
       "2  http://images.amazon.com/images/P/0060973129.0...   \n",
       "3  http://images.amazon.com/images/P/0374157065.0...   \n",
       "4  http://images.amazon.com/images/P/0393045218.0...   \n",
       "\n",
       "                                         Image-URL-L  \n",
       "0  http://images.amazon.com/images/P/0195153448.0...  \n",
       "1  http://images.amazon.com/images/P/0002005018.0...  \n",
       "2  http://images.amazon.com/images/P/0060973129.0...  \n",
       "3  http://images.amazon.com/images/P/0374157065.0...  \n",
       "4  http://images.amazon.com/images/P/0393045218.0...  "
      ],
      "text/html": [
       "\n",
       "  <div id=\"df-14b46fd6-ddc5-4899-b3c2-5f1fafc5df52\" class=\"colab-df-container\">\n",
       "    <div>\n",
       "<style scoped>\n",
       "    .dataframe tbody tr th:only-of-type {\n",
       "        vertical-align: middle;\n",
       "    }\n",
       "\n",
       "    .dataframe tbody tr th {\n",
       "        vertical-align: top;\n",
       "    }\n",
       "\n",
       "    .dataframe thead th {\n",
       "        text-align: right;\n",
       "    }\n",
       "</style>\n",
       "<table border=\"1\" class=\"dataframe\">\n",
       "  <thead>\n",
       "    <tr style=\"text-align: right;\">\n",
       "      <th></th>\n",
       "      <th>ISBN</th>\n",
       "      <th>Book-Title</th>\n",
       "      <th>Book-Author</th>\n",
       "      <th>Average-Rating</th>\n",
       "      <th>Year-Of-Publication</th>\n",
       "      <th>Publisher</th>\n",
       "      <th>Image-URL-S</th>\n",
       "      <th>Image-URL-M</th>\n",
       "      <th>Image-URL-L</th>\n",
       "    </tr>\n",
       "  </thead>\n",
       "  <tbody>\n",
       "    <tr>\n",
       "      <th>0</th>\n",
       "      <td>0195153448</td>\n",
       "      <td>Classical Mythology</td>\n",
       "      <td>Mark P. O. Morford</td>\n",
       "      <td>0.0</td>\n",
       "      <td>2002</td>\n",
       "      <td>Oxford University Press</td>\n",
       "      <td>http://images.amazon.com/images/P/0195153448.0...</td>\n",
       "      <td>http://images.amazon.com/images/P/0195153448.0...</td>\n",
       "      <td>http://images.amazon.com/images/P/0195153448.0...</td>\n",
       "    </tr>\n",
       "    <tr>\n",
       "      <th>1</th>\n",
       "      <td>0002005018</td>\n",
       "      <td>Clara Callan</td>\n",
       "      <td>Richard Bruce Wright</td>\n",
       "      <td>4.9</td>\n",
       "      <td>2001</td>\n",
       "      <td>HarperFlamingo Canada</td>\n",
       "      <td>http://images.amazon.com/images/P/0002005018.0...</td>\n",
       "      <td>http://images.amazon.com/images/P/0002005018.0...</td>\n",
       "      <td>http://images.amazon.com/images/P/0002005018.0...</td>\n",
       "    </tr>\n",
       "    <tr>\n",
       "      <th>2</th>\n",
       "      <td>0060973129</td>\n",
       "      <td>Decision in Normandy</td>\n",
       "      <td>Carlo D'Este</td>\n",
       "      <td>5.0</td>\n",
       "      <td>1991</td>\n",
       "      <td>HarperPerennial</td>\n",
       "      <td>http://images.amazon.com/images/P/0060973129.0...</td>\n",
       "      <td>http://images.amazon.com/images/P/0060973129.0...</td>\n",
       "      <td>http://images.amazon.com/images/P/0060973129.0...</td>\n",
       "    </tr>\n",
       "    <tr>\n",
       "      <th>3</th>\n",
       "      <td>0374157065</td>\n",
       "      <td>Flu: The Story of the Great Influenza Pandemic...</td>\n",
       "      <td>Gina Bari Kolata</td>\n",
       "      <td>4.3</td>\n",
       "      <td>1999</td>\n",
       "      <td>Farrar Straus Giroux</td>\n",
       "      <td>http://images.amazon.com/images/P/0374157065.0...</td>\n",
       "      <td>http://images.amazon.com/images/P/0374157065.0...</td>\n",
       "      <td>http://images.amazon.com/images/P/0374157065.0...</td>\n",
       "    </tr>\n",
       "    <tr>\n",
       "      <th>4</th>\n",
       "      <td>0393045218</td>\n",
       "      <td>The Mummies of Urumchi</td>\n",
       "      <td>E. J. W. Barber</td>\n",
       "      <td>0.0</td>\n",
       "      <td>1999</td>\n",
       "      <td>W. W. Norton &amp;amp; Company</td>\n",
       "      <td>http://images.amazon.com/images/P/0393045218.0...</td>\n",
       "      <td>http://images.amazon.com/images/P/0393045218.0...</td>\n",
       "      <td>http://images.amazon.com/images/P/0393045218.0...</td>\n",
       "    </tr>\n",
       "  </tbody>\n",
       "</table>\n",
       "</div>\n",
       "    <div class=\"colab-df-buttons\">\n",
       "\n",
       "  <div class=\"colab-df-container\">\n",
       "    <button class=\"colab-df-convert\" onclick=\"convertToInteractive('df-14b46fd6-ddc5-4899-b3c2-5f1fafc5df52')\"\n",
       "            title=\"Convert this dataframe to an interactive table.\"\n",
       "            style=\"display:none;\">\n",
       "\n",
       "  <svg xmlns=\"http://www.w3.org/2000/svg\" height=\"24px\" viewBox=\"0 -960 960 960\">\n",
       "    <path d=\"M120-120v-720h720v720H120Zm60-500h600v-160H180v160Zm220 220h160v-160H400v160Zm0 220h160v-160H400v160ZM180-400h160v-160H180v160Zm440 0h160v-160H620v160ZM180-180h160v-160H180v160Zm440 0h160v-160H620v160Z\"/>\n",
       "  </svg>\n",
       "    </button>\n",
       "\n",
       "  <style>\n",
       "    .colab-df-container {\n",
       "      display:flex;\n",
       "      gap: 12px;\n",
       "    }\n",
       "\n",
       "    .colab-df-convert {\n",
       "      background-color: #E8F0FE;\n",
       "      border: none;\n",
       "      border-radius: 50%;\n",
       "      cursor: pointer;\n",
       "      display: none;\n",
       "      fill: #1967D2;\n",
       "      height: 32px;\n",
       "      padding: 0 0 0 0;\n",
       "      width: 32px;\n",
       "    }\n",
       "\n",
       "    .colab-df-convert:hover {\n",
       "      background-color: #E2EBFA;\n",
       "      box-shadow: 0px 1px 2px rgba(60, 64, 67, 0.3), 0px 1px 3px 1px rgba(60, 64, 67, 0.15);\n",
       "      fill: #174EA6;\n",
       "    }\n",
       "\n",
       "    .colab-df-buttons div {\n",
       "      margin-bottom: 4px;\n",
       "    }\n",
       "\n",
       "    [theme=dark] .colab-df-convert {\n",
       "      background-color: #3B4455;\n",
       "      fill: #D2E3FC;\n",
       "    }\n",
       "\n",
       "    [theme=dark] .colab-df-convert:hover {\n",
       "      background-color: #434B5C;\n",
       "      box-shadow: 0px 1px 3px 1px rgba(0, 0, 0, 0.15);\n",
       "      filter: drop-shadow(0px 1px 2px rgba(0, 0, 0, 0.3));\n",
       "      fill: #FFFFFF;\n",
       "    }\n",
       "  </style>\n",
       "\n",
       "    <script>\n",
       "      const buttonEl =\n",
       "        document.querySelector('#df-14b46fd6-ddc5-4899-b3c2-5f1fafc5df52 button.colab-df-convert');\n",
       "      buttonEl.style.display =\n",
       "        google.colab.kernel.accessAllowed ? 'block' : 'none';\n",
       "\n",
       "      async function convertToInteractive(key) {\n",
       "        const element = document.querySelector('#df-14b46fd6-ddc5-4899-b3c2-5f1fafc5df52');\n",
       "        const dataTable =\n",
       "          await google.colab.kernel.invokeFunction('convertToInteractive',\n",
       "                                                    [key], {});\n",
       "        if (!dataTable) return;\n",
       "\n",
       "        const docLinkHtml = 'Like what you see? Visit the ' +\n",
       "          '<a target=\"_blank\" href=https://colab.research.google.com/notebooks/data_table.ipynb>data table notebook</a>'\n",
       "          + ' to learn more about interactive tables.';\n",
       "        element.innerHTML = '';\n",
       "        dataTable['output_type'] = 'display_data';\n",
       "        await google.colab.output.renderOutput(dataTable, element);\n",
       "        const docLink = document.createElement('div');\n",
       "        docLink.innerHTML = docLinkHtml;\n",
       "        element.appendChild(docLink);\n",
       "      }\n",
       "    </script>\n",
       "  </div>\n",
       "\n",
       "\n",
       "    <div id=\"df-9db4b97b-3590-4e88-b089-a339cd98800f\">\n",
       "      <button class=\"colab-df-quickchart\" onclick=\"quickchart('df-9db4b97b-3590-4e88-b089-a339cd98800f')\"\n",
       "                title=\"Suggest charts\"\n",
       "                style=\"display:none;\">\n",
       "\n",
       "<svg xmlns=\"http://www.w3.org/2000/svg\" height=\"24px\"viewBox=\"0 0 24 24\"\n",
       "     width=\"24px\">\n",
       "    <g>\n",
       "        <path d=\"M19 3H5c-1.1 0-2 .9-2 2v14c0 1.1.9 2 2 2h14c1.1 0 2-.9 2-2V5c0-1.1-.9-2-2-2zM9 17H7v-7h2v7zm4 0h-2V7h2v10zm4 0h-2v-4h2v4z\"/>\n",
       "    </g>\n",
       "</svg>\n",
       "      </button>\n",
       "\n",
       "<style>\n",
       "  .colab-df-quickchart {\n",
       "      --bg-color: #E8F0FE;\n",
       "      --fill-color: #1967D2;\n",
       "      --hover-bg-color: #E2EBFA;\n",
       "      --hover-fill-color: #174EA6;\n",
       "      --disabled-fill-color: #AAA;\n",
       "      --disabled-bg-color: #DDD;\n",
       "  }\n",
       "\n",
       "  [theme=dark] .colab-df-quickchart {\n",
       "      --bg-color: #3B4455;\n",
       "      --fill-color: #D2E3FC;\n",
       "      --hover-bg-color: #434B5C;\n",
       "      --hover-fill-color: #FFFFFF;\n",
       "      --disabled-bg-color: #3B4455;\n",
       "      --disabled-fill-color: #666;\n",
       "  }\n",
       "\n",
       "  .colab-df-quickchart {\n",
       "    background-color: var(--bg-color);\n",
       "    border: none;\n",
       "    border-radius: 50%;\n",
       "    cursor: pointer;\n",
       "    display: none;\n",
       "    fill: var(--fill-color);\n",
       "    height: 32px;\n",
       "    padding: 0;\n",
       "    width: 32px;\n",
       "  }\n",
       "\n",
       "  .colab-df-quickchart:hover {\n",
       "    background-color: var(--hover-bg-color);\n",
       "    box-shadow: 0 1px 2px rgba(60, 64, 67, 0.3), 0 1px 3px 1px rgba(60, 64, 67, 0.15);\n",
       "    fill: var(--button-hover-fill-color);\n",
       "  }\n",
       "\n",
       "  .colab-df-quickchart-complete:disabled,\n",
       "  .colab-df-quickchart-complete:disabled:hover {\n",
       "    background-color: var(--disabled-bg-color);\n",
       "    fill: var(--disabled-fill-color);\n",
       "    box-shadow: none;\n",
       "  }\n",
       "\n",
       "  .colab-df-spinner {\n",
       "    border: 2px solid var(--fill-color);\n",
       "    border-color: transparent;\n",
       "    border-bottom-color: var(--fill-color);\n",
       "    animation:\n",
       "      spin 1s steps(1) infinite;\n",
       "  }\n",
       "\n",
       "  @keyframes spin {\n",
       "    0% {\n",
       "      border-color: transparent;\n",
       "      border-bottom-color: var(--fill-color);\n",
       "      border-left-color: var(--fill-color);\n",
       "    }\n",
       "    20% {\n",
       "      border-color: transparent;\n",
       "      border-left-color: var(--fill-color);\n",
       "      border-top-color: var(--fill-color);\n",
       "    }\n",
       "    30% {\n",
       "      border-color: transparent;\n",
       "      border-left-color: var(--fill-color);\n",
       "      border-top-color: var(--fill-color);\n",
       "      border-right-color: var(--fill-color);\n",
       "    }\n",
       "    40% {\n",
       "      border-color: transparent;\n",
       "      border-right-color: var(--fill-color);\n",
       "      border-top-color: var(--fill-color);\n",
       "    }\n",
       "    60% {\n",
       "      border-color: transparent;\n",
       "      border-right-color: var(--fill-color);\n",
       "    }\n",
       "    80% {\n",
       "      border-color: transparent;\n",
       "      border-right-color: var(--fill-color);\n",
       "      border-bottom-color: var(--fill-color);\n",
       "    }\n",
       "    90% {\n",
       "      border-color: transparent;\n",
       "      border-bottom-color: var(--fill-color);\n",
       "    }\n",
       "  }\n",
       "</style>\n",
       "\n",
       "      <script>\n",
       "        async function quickchart(key) {\n",
       "          const quickchartButtonEl =\n",
       "            document.querySelector('#' + key + ' button');\n",
       "          quickchartButtonEl.disabled = true;  // To prevent multiple clicks.\n",
       "          quickchartButtonEl.classList.add('colab-df-spinner');\n",
       "          try {\n",
       "            const charts = await google.colab.kernel.invokeFunction(\n",
       "                'suggestCharts', [key], {});\n",
       "          } catch (error) {\n",
       "            console.error('Error during call to suggestCharts:', error);\n",
       "          }\n",
       "          quickchartButtonEl.classList.remove('colab-df-spinner');\n",
       "          quickchartButtonEl.classList.add('colab-df-quickchart-complete');\n",
       "        }\n",
       "        (() => {\n",
       "          let quickchartButtonEl =\n",
       "            document.querySelector('#df-9db4b97b-3590-4e88-b089-a339cd98800f button');\n",
       "          quickchartButtonEl.style.display =\n",
       "            google.colab.kernel.accessAllowed ? 'block' : 'none';\n",
       "        })();\n",
       "      </script>\n",
       "    </div>\n",
       "    </div>\n",
       "  </div>\n"
      ],
      "application/vnd.google.colaboratory.intrinsic+json": {
       "type": "dataframe",
       "variable_name": "books_with_rating"
      }
     },
     "metadata": {},
     "execution_count": 254
    }
   ]
  },
  {
   "cell_type": "code",
   "source": [
    "# топ 30 книг з найвищим рейтингом\n",
    "books_with_rating.sort_values(by=['Average-Rating'], ascending=False).head(30)"
   ],
   "metadata": {
    "colab": {
     "base_uri": "https://localhost:8080/",
     "height": 1000
    },
    "id": "iPUQMQhPrE2m",
    "executionInfo": {
     "status": "ok",
     "timestamp": 1747047464902,
     "user_tz": -180,
     "elapsed": 178,
     "user": {
      "displayName": "Daria Hrychyna",
      "userId": "00581352827663716373"
     }
    },
    "outputId": "f708500e-184b-4616-b92c-1adc5b796bd4"
   },
   "execution_count": null,
   "outputs": [
    {
     "output_type": "execute_result",
     "data": {
      "text/plain": [
       "              ISBN                                         Book-Title  \\\n",
       "270138  0395264707                                         Dreamsnake   \n",
       "77197   0312861605               The Dragon and the Fair Maid of Kent   \n",
       "77210   1582460507                 First Book of Sushi (World Snacks)   \n",
       "77211   1402708610                                     I Know a Rhino   \n",
       "77213   1553690257  An Ia Story: One Thread in the Tapestry of Con...   \n",
       "77217   1591132177                                            Outcast   \n",
       "77220   0413743802   The Hunting of the Snark: An Agony in Eight Fits   \n",
       "270089  1584855096            Amelia's School Survival Guide (Amelia)   \n",
       "270092  1584857447  True Stories: Girls' Inspiring Stories of Cour...   \n",
       "270093  1893699056   Mayhem on Mackinac Island (Michigan Chillers, 1)   \n",
       "270094  1893699218                  Ogres of Ohio (American Chillers)   \n",
       "270095  1893699226           Florida Fog Phantoms (American Chillers)   \n",
       "270096  189369948X    Iron Insects Invade Indiana (American Chillers)   \n",
       "270098  1893699560    Dangerous Dolls of Delaware (American Chillers)   \n",
       "77289   0061055336                    The Official Map of the X Files   \n",
       "77290   0806519274  What's Your X-Files\\ I.Q?: Over 1,000 Question...   \n",
       "77349   0208023143  Booksharing: One Hundred One Programs to Use W...   \n",
       "77567   1552090159                               A Book Lover's Diary   \n",
       "77649   0373217269   Cowboy Country (By Request 2'S) (By Request 2's)   \n",
       "77652   0448417359  Horses: An Abridgment of Harold Roth's Big Boo...   \n",
       "77684   0689317204                               A Wizard of Earthsea   \n",
       "270080  0764224808                      Cross My Heart (Hidden Diary)   \n",
       "77687   0689316844                                 The Tombs of Atuan   \n",
       "77772   3518375016                     Gedichte Ã?ÃÂ¼ber die Liebe.   \n",
       "77806   0525480544  The claiming of Sleeping Beauty: An erotic nov...   \n",
       "77807   1561632228              Spanish Fly: Soul Mates (Spanish Fly)   \n",
       "77808   1871592518                                     The She Devils   \n",
       "76802   1877662089  Metu Neter Vol. 2: Anuk Ausar, The Kamitic Ini...   \n",
       "76803   1877662038  Metu Neter Vol. 1: The Great Oracle of Tehuti ...   \n",
       "76804   1881316718  Afrikan Holistic Health   : Complete Herb Reme...   \n",
       "\n",
       "               Book-Author  Average-Rating  Year-Of-Publication  \\\n",
       "270138   Vonda N. McIntyre            10.0                 1978   \n",
       "77197    Gordon R. Dickson            10.0                 2000   \n",
       "77210    Amy Wilson Sanger            10.0                 2001   \n",
       "77211         Charles Fuge            10.0                 2003   \n",
       "77213        S. A. Stanley            10.0                 2002   \n",
       "77217        Michael Woods            10.0                 2002   \n",
       "77220        Lewis Carroll            10.0                 2002   \n",
       "270089        Marissa Moss            10.0                 2002   \n",
       "270092      Trula Magruder            10.0                 2003   \n",
       "270093      Johnathan Rand            10.0                 2000   \n",
       "270094      Johnathan Rand            10.0                 2002   \n",
       "270095       Jonathan Rand            10.0                 2002   \n",
       "270096      Johnathan Rand            10.0                 2003   \n",
       "270098      Johnathan Rand            10.0                 2003   \n",
       "77289         Chris Carter            10.0                 1996   \n",
       "77290         Marc Shapiro            10.0                 1997   \n",
       "77349   Margaret MacDonald            10.0                 1997   \n",
       "77567      Shelagh Wallace            10.0                 1995   \n",
       "77649         Judith Bowen            10.0                 2002   \n",
       "77652          Harold Roth            10.0                 1997   \n",
       "77684   Ursula  K. Le Guin            10.0                 1991   \n",
       "270080         Sandra Byrd            10.0                 2001   \n",
       "77687   Ursula  K. Le Guin            10.0                 1990   \n",
       "77772       Bertolt Brecht            10.0                 1984   \n",
       "77806      A. N Roquelaure            10.0                 1983   \n",
       "77807             Tobalina            10.0                 1998   \n",
       "77808         Pierre Louys            10.0                 1995   \n",
       "76802     Ra Un Nefer Amen            10.0                 1994   \n",
       "76803     Ra Un Nefer Amen            10.0                 1990   \n",
       "76804     Llaila O. Afrika            10.0                 1993   \n",
       "\n",
       "                                Publisher  \\\n",
       "270138                   Houghton Mifflin   \n",
       "77197                           Tor Books   \n",
       "77210                      Tricycle Press   \n",
       "77211                            Sterling   \n",
       "77213                           Not Avail   \n",
       "77217                      Booklocker.com   \n",
       "77220                             Methuen   \n",
       "270089      Pleasant Company Publications   \n",
       "270092                      American Girl   \n",
       "270093                  Audio Craft Press   \n",
       "270094                  Audio Craft Press   \n",
       "270095                  Audio Craft Press   \n",
       "270096                  Audio Craft Press   \n",
       "270098                 Audio Craft Pr Inc   \n",
       "77289                         HarperPrism   \n",
       "77290                       Citadel Press   \n",
       "77349   Library Professional Publications   \n",
       "77567                   Firefly Books Ltd   \n",
       "77649                           Harlequin   \n",
       "77652                Grosset &amp; Dunlap   \n",
       "77684                            Atheneum   \n",
       "270080           Bethany House Publishers   \n",
       "77687                            Atheneum   \n",
       "77772                            Suhrkamp   \n",
       "77806                              Dutton   \n",
       "77807                            Eurotica   \n",
       "77808                      Creation Books   \n",
       "76802                  Kamit Publications   \n",
       "76803                         Kamit Pubns   \n",
       "76804            A&amp;b Publishers Group   \n",
       "\n",
       "                                              Image-URL-S  \\\n",
       "270138  http://images.amazon.com/images/P/0395264707.0...   \n",
       "77197   http://images.amazon.com/images/P/0312861605.0...   \n",
       "77210   http://images.amazon.com/images/P/1582460507.0...   \n",
       "77211   http://images.amazon.com/images/P/1402708610.0...   \n",
       "77213   http://images.amazon.com/images/P/1553690257.0...   \n",
       "77217   http://images.amazon.com/images/P/1591132177.0...   \n",
       "77220   http://images.amazon.com/images/P/0413743802.0...   \n",
       "270089  http://images.amazon.com/images/P/1584855096.0...   \n",
       "270092  http://images.amazon.com/images/P/1584857447.0...   \n",
       "270093  http://images.amazon.com/images/P/1893699056.0...   \n",
       "270094  http://images.amazon.com/images/P/1893699218.0...   \n",
       "270095  http://images.amazon.com/images/P/1893699226.0...   \n",
       "270096  http://images.amazon.com/images/P/189369948X.0...   \n",
       "270098  http://images.amazon.com/images/P/1893699560.0...   \n",
       "77289   http://images.amazon.com/images/P/0061055336.0...   \n",
       "77290   http://images.amazon.com/images/P/0806519274.0...   \n",
       "77349   http://images.amazon.com/images/P/0208023143.0...   \n",
       "77567   http://images.amazon.com/images/P/1552090159.0...   \n",
       "77649   http://images.amazon.com/images/P/0373217269.0...   \n",
       "77652   http://images.amazon.com/images/P/0448417359.0...   \n",
       "77684   http://images.amazon.com/images/P/0689317204.0...   \n",
       "270080  http://images.amazon.com/images/P/0764224808.0...   \n",
       "77687   http://images.amazon.com/images/P/0689316844.0...   \n",
       "77772   http://images.amazon.com/images/P/3518375016.0...   \n",
       "77806   http://images.amazon.com/images/P/0525480544.0...   \n",
       "77807   http://images.amazon.com/images/P/1561632228.0...   \n",
       "77808   http://images.amazon.com/images/P/1871592518.0...   \n",
       "76802   http://images.amazon.com/images/P/1877662089.0...   \n",
       "76803   http://images.amazon.com/images/P/1877662038.0...   \n",
       "76804   http://images.amazon.com/images/P/1881316718.0...   \n",
       "\n",
       "                                              Image-URL-M  \\\n",
       "270138  http://images.amazon.com/images/P/0395264707.0...   \n",
       "77197   http://images.amazon.com/images/P/0312861605.0...   \n",
       "77210   http://images.amazon.com/images/P/1582460507.0...   \n",
       "77211   http://images.amazon.com/images/P/1402708610.0...   \n",
       "77213   http://images.amazon.com/images/P/1553690257.0...   \n",
       "77217   http://images.amazon.com/images/P/1591132177.0...   \n",
       "77220   http://images.amazon.com/images/P/0413743802.0...   \n",
       "270089  http://images.amazon.com/images/P/1584855096.0...   \n",
       "270092  http://images.amazon.com/images/P/1584857447.0...   \n",
       "270093  http://images.amazon.com/images/P/1893699056.0...   \n",
       "270094  http://images.amazon.com/images/P/1893699218.0...   \n",
       "270095  http://images.amazon.com/images/P/1893699226.0...   \n",
       "270096  http://images.amazon.com/images/P/189369948X.0...   \n",
       "270098  http://images.amazon.com/images/P/1893699560.0...   \n",
       "77289   http://images.amazon.com/images/P/0061055336.0...   \n",
       "77290   http://images.amazon.com/images/P/0806519274.0...   \n",
       "77349   http://images.amazon.com/images/P/0208023143.0...   \n",
       "77567   http://images.amazon.com/images/P/1552090159.0...   \n",
       "77649   http://images.amazon.com/images/P/0373217269.0...   \n",
       "77652   http://images.amazon.com/images/P/0448417359.0...   \n",
       "77684   http://images.amazon.com/images/P/0689317204.0...   \n",
       "270080  http://images.amazon.com/images/P/0764224808.0...   \n",
       "77687   http://images.amazon.com/images/P/0689316844.0...   \n",
       "77772   http://images.amazon.com/images/P/3518375016.0...   \n",
       "77806   http://images.amazon.com/images/P/0525480544.0...   \n",
       "77807   http://images.amazon.com/images/P/1561632228.0...   \n",
       "77808   http://images.amazon.com/images/P/1871592518.0...   \n",
       "76802   http://images.amazon.com/images/P/1877662089.0...   \n",
       "76803   http://images.amazon.com/images/P/1877662038.0...   \n",
       "76804   http://images.amazon.com/images/P/1881316718.0...   \n",
       "\n",
       "                                              Image-URL-L  \n",
       "270138  http://images.amazon.com/images/P/0395264707.0...  \n",
       "77197   http://images.amazon.com/images/P/0312861605.0...  \n",
       "77210   http://images.amazon.com/images/P/1582460507.0...  \n",
       "77211   http://images.amazon.com/images/P/1402708610.0...  \n",
       "77213   http://images.amazon.com/images/P/1553690257.0...  \n",
       "77217   http://images.amazon.com/images/P/1591132177.0...  \n",
       "77220   http://images.amazon.com/images/P/0413743802.0...  \n",
       "270089  http://images.amazon.com/images/P/1584855096.0...  \n",
       "270092  http://images.amazon.com/images/P/1584857447.0...  \n",
       "270093  http://images.amazon.com/images/P/1893699056.0...  \n",
       "270094  http://images.amazon.com/images/P/1893699218.0...  \n",
       "270095  http://images.amazon.com/images/P/1893699226.0...  \n",
       "270096  http://images.amazon.com/images/P/189369948X.0...  \n",
       "270098  http://images.amazon.com/images/P/1893699560.0...  \n",
       "77289   http://images.amazon.com/images/P/0061055336.0...  \n",
       "77290   http://images.amazon.com/images/P/0806519274.0...  \n",
       "77349   http://images.amazon.com/images/P/0208023143.0...  \n",
       "77567   http://images.amazon.com/images/P/1552090159.0...  \n",
       "77649   http://images.amazon.com/images/P/0373217269.0...  \n",
       "77652   http://images.amazon.com/images/P/0448417359.0...  \n",
       "77684   http://images.amazon.com/images/P/0689317204.0...  \n",
       "270080  http://images.amazon.com/images/P/0764224808.0...  \n",
       "77687   http://images.amazon.com/images/P/0689316844.0...  \n",
       "77772   http://images.amazon.com/images/P/3518375016.0...  \n",
       "77806   http://images.amazon.com/images/P/0525480544.0...  \n",
       "77807   http://images.amazon.com/images/P/1561632228.0...  \n",
       "77808   http://images.amazon.com/images/P/1871592518.0...  \n",
       "76802   http://images.amazon.com/images/P/1877662089.0...  \n",
       "76803   http://images.amazon.com/images/P/1877662038.0...  \n",
       "76804   http://images.amazon.com/images/P/1881316718.0...  "
      ],
      "text/html": [
       "\n",
       "  <div id=\"df-bca81961-0935-45fd-803e-c1549b5a0f4b\" class=\"colab-df-container\">\n",
       "    <div>\n",
       "<style scoped>\n",
       "    .dataframe tbody tr th:only-of-type {\n",
       "        vertical-align: middle;\n",
       "    }\n",
       "\n",
       "    .dataframe tbody tr th {\n",
       "        vertical-align: top;\n",
       "    }\n",
       "\n",
       "    .dataframe thead th {\n",
       "        text-align: right;\n",
       "    }\n",
       "</style>\n",
       "<table border=\"1\" class=\"dataframe\">\n",
       "  <thead>\n",
       "    <tr style=\"text-align: right;\">\n",
       "      <th></th>\n",
       "      <th>ISBN</th>\n",
       "      <th>Book-Title</th>\n",
       "      <th>Book-Author</th>\n",
       "      <th>Average-Rating</th>\n",
       "      <th>Year-Of-Publication</th>\n",
       "      <th>Publisher</th>\n",
       "      <th>Image-URL-S</th>\n",
       "      <th>Image-URL-M</th>\n",
       "      <th>Image-URL-L</th>\n",
       "    </tr>\n",
       "  </thead>\n",
       "  <tbody>\n",
       "    <tr>\n",
       "      <th>270138</th>\n",
       "      <td>0395264707</td>\n",
       "      <td>Dreamsnake</td>\n",
       "      <td>Vonda N. McIntyre</td>\n",
       "      <td>10.0</td>\n",
       "      <td>1978</td>\n",
       "      <td>Houghton Mifflin</td>\n",
       "      <td>http://images.amazon.com/images/P/0395264707.0...</td>\n",
       "      <td>http://images.amazon.com/images/P/0395264707.0...</td>\n",
       "      <td>http://images.amazon.com/images/P/0395264707.0...</td>\n",
       "    </tr>\n",
       "    <tr>\n",
       "      <th>77197</th>\n",
       "      <td>0312861605</td>\n",
       "      <td>The Dragon and the Fair Maid of Kent</td>\n",
       "      <td>Gordon R. Dickson</td>\n",
       "      <td>10.0</td>\n",
       "      <td>2000</td>\n",
       "      <td>Tor Books</td>\n",
       "      <td>http://images.amazon.com/images/P/0312861605.0...</td>\n",
       "      <td>http://images.amazon.com/images/P/0312861605.0...</td>\n",
       "      <td>http://images.amazon.com/images/P/0312861605.0...</td>\n",
       "    </tr>\n",
       "    <tr>\n",
       "      <th>77210</th>\n",
       "      <td>1582460507</td>\n",
       "      <td>First Book of Sushi (World Snacks)</td>\n",
       "      <td>Amy Wilson Sanger</td>\n",
       "      <td>10.0</td>\n",
       "      <td>2001</td>\n",
       "      <td>Tricycle Press</td>\n",
       "      <td>http://images.amazon.com/images/P/1582460507.0...</td>\n",
       "      <td>http://images.amazon.com/images/P/1582460507.0...</td>\n",
       "      <td>http://images.amazon.com/images/P/1582460507.0...</td>\n",
       "    </tr>\n",
       "    <tr>\n",
       "      <th>77211</th>\n",
       "      <td>1402708610</td>\n",
       "      <td>I Know a Rhino</td>\n",
       "      <td>Charles Fuge</td>\n",
       "      <td>10.0</td>\n",
       "      <td>2003</td>\n",
       "      <td>Sterling</td>\n",
       "      <td>http://images.amazon.com/images/P/1402708610.0...</td>\n",
       "      <td>http://images.amazon.com/images/P/1402708610.0...</td>\n",
       "      <td>http://images.amazon.com/images/P/1402708610.0...</td>\n",
       "    </tr>\n",
       "    <tr>\n",
       "      <th>77213</th>\n",
       "      <td>1553690257</td>\n",
       "      <td>An Ia Story: One Thread in the Tapestry of Con...</td>\n",
       "      <td>S. A. Stanley</td>\n",
       "      <td>10.0</td>\n",
       "      <td>2002</td>\n",
       "      <td>Not Avail</td>\n",
       "      <td>http://images.amazon.com/images/P/1553690257.0...</td>\n",
       "      <td>http://images.amazon.com/images/P/1553690257.0...</td>\n",
       "      <td>http://images.amazon.com/images/P/1553690257.0...</td>\n",
       "    </tr>\n",
       "    <tr>\n",
       "      <th>77217</th>\n",
       "      <td>1591132177</td>\n",
       "      <td>Outcast</td>\n",
       "      <td>Michael Woods</td>\n",
       "      <td>10.0</td>\n",
       "      <td>2002</td>\n",
       "      <td>Booklocker.com</td>\n",
       "      <td>http://images.amazon.com/images/P/1591132177.0...</td>\n",
       "      <td>http://images.amazon.com/images/P/1591132177.0...</td>\n",
       "      <td>http://images.amazon.com/images/P/1591132177.0...</td>\n",
       "    </tr>\n",
       "    <tr>\n",
       "      <th>77220</th>\n",
       "      <td>0413743802</td>\n",
       "      <td>The Hunting of the Snark: An Agony in Eight Fits</td>\n",
       "      <td>Lewis Carroll</td>\n",
       "      <td>10.0</td>\n",
       "      <td>2002</td>\n",
       "      <td>Methuen</td>\n",
       "      <td>http://images.amazon.com/images/P/0413743802.0...</td>\n",
       "      <td>http://images.amazon.com/images/P/0413743802.0...</td>\n",
       "      <td>http://images.amazon.com/images/P/0413743802.0...</td>\n",
       "    </tr>\n",
       "    <tr>\n",
       "      <th>270089</th>\n",
       "      <td>1584855096</td>\n",
       "      <td>Amelia's School Survival Guide (Amelia)</td>\n",
       "      <td>Marissa Moss</td>\n",
       "      <td>10.0</td>\n",
       "      <td>2002</td>\n",
       "      <td>Pleasant Company Publications</td>\n",
       "      <td>http://images.amazon.com/images/P/1584855096.0...</td>\n",
       "      <td>http://images.amazon.com/images/P/1584855096.0...</td>\n",
       "      <td>http://images.amazon.com/images/P/1584855096.0...</td>\n",
       "    </tr>\n",
       "    <tr>\n",
       "      <th>270092</th>\n",
       "      <td>1584857447</td>\n",
       "      <td>True Stories: Girls' Inspiring Stories of Cour...</td>\n",
       "      <td>Trula Magruder</td>\n",
       "      <td>10.0</td>\n",
       "      <td>2003</td>\n",
       "      <td>American Girl</td>\n",
       "      <td>http://images.amazon.com/images/P/1584857447.0...</td>\n",
       "      <td>http://images.amazon.com/images/P/1584857447.0...</td>\n",
       "      <td>http://images.amazon.com/images/P/1584857447.0...</td>\n",
       "    </tr>\n",
       "    <tr>\n",
       "      <th>270093</th>\n",
       "      <td>1893699056</td>\n",
       "      <td>Mayhem on Mackinac Island (Michigan Chillers, 1)</td>\n",
       "      <td>Johnathan Rand</td>\n",
       "      <td>10.0</td>\n",
       "      <td>2000</td>\n",
       "      <td>Audio Craft Press</td>\n",
       "      <td>http://images.amazon.com/images/P/1893699056.0...</td>\n",
       "      <td>http://images.amazon.com/images/P/1893699056.0...</td>\n",
       "      <td>http://images.amazon.com/images/P/1893699056.0...</td>\n",
       "    </tr>\n",
       "    <tr>\n",
       "      <th>270094</th>\n",
       "      <td>1893699218</td>\n",
       "      <td>Ogres of Ohio (American Chillers)</td>\n",
       "      <td>Johnathan Rand</td>\n",
       "      <td>10.0</td>\n",
       "      <td>2002</td>\n",
       "      <td>Audio Craft Press</td>\n",
       "      <td>http://images.amazon.com/images/P/1893699218.0...</td>\n",
       "      <td>http://images.amazon.com/images/P/1893699218.0...</td>\n",
       "      <td>http://images.amazon.com/images/P/1893699218.0...</td>\n",
       "    </tr>\n",
       "    <tr>\n",
       "      <th>270095</th>\n",
       "      <td>1893699226</td>\n",
       "      <td>Florida Fog Phantoms (American Chillers)</td>\n",
       "      <td>Jonathan Rand</td>\n",
       "      <td>10.0</td>\n",
       "      <td>2002</td>\n",
       "      <td>Audio Craft Press</td>\n",
       "      <td>http://images.amazon.com/images/P/1893699226.0...</td>\n",
       "      <td>http://images.amazon.com/images/P/1893699226.0...</td>\n",
       "      <td>http://images.amazon.com/images/P/1893699226.0...</td>\n",
       "    </tr>\n",
       "    <tr>\n",
       "      <th>270096</th>\n",
       "      <td>189369948X</td>\n",
       "      <td>Iron Insects Invade Indiana (American Chillers)</td>\n",
       "      <td>Johnathan Rand</td>\n",
       "      <td>10.0</td>\n",
       "      <td>2003</td>\n",
       "      <td>Audio Craft Press</td>\n",
       "      <td>http://images.amazon.com/images/P/189369948X.0...</td>\n",
       "      <td>http://images.amazon.com/images/P/189369948X.0...</td>\n",
       "      <td>http://images.amazon.com/images/P/189369948X.0...</td>\n",
       "    </tr>\n",
       "    <tr>\n",
       "      <th>270098</th>\n",
       "      <td>1893699560</td>\n",
       "      <td>Dangerous Dolls of Delaware (American Chillers)</td>\n",
       "      <td>Johnathan Rand</td>\n",
       "      <td>10.0</td>\n",
       "      <td>2003</td>\n",
       "      <td>Audio Craft Pr Inc</td>\n",
       "      <td>http://images.amazon.com/images/P/1893699560.0...</td>\n",
       "      <td>http://images.amazon.com/images/P/1893699560.0...</td>\n",
       "      <td>http://images.amazon.com/images/P/1893699560.0...</td>\n",
       "    </tr>\n",
       "    <tr>\n",
       "      <th>77289</th>\n",
       "      <td>0061055336</td>\n",
       "      <td>The Official Map of the X Files</td>\n",
       "      <td>Chris Carter</td>\n",
       "      <td>10.0</td>\n",
       "      <td>1996</td>\n",
       "      <td>HarperPrism</td>\n",
       "      <td>http://images.amazon.com/images/P/0061055336.0...</td>\n",
       "      <td>http://images.amazon.com/images/P/0061055336.0...</td>\n",
       "      <td>http://images.amazon.com/images/P/0061055336.0...</td>\n",
       "    </tr>\n",
       "    <tr>\n",
       "      <th>77290</th>\n",
       "      <td>0806519274</td>\n",
       "      <td>What's Your X-Files\\ I.Q?: Over 1,000 Question...</td>\n",
       "      <td>Marc Shapiro</td>\n",
       "      <td>10.0</td>\n",
       "      <td>1997</td>\n",
       "      <td>Citadel Press</td>\n",
       "      <td>http://images.amazon.com/images/P/0806519274.0...</td>\n",
       "      <td>http://images.amazon.com/images/P/0806519274.0...</td>\n",
       "      <td>http://images.amazon.com/images/P/0806519274.0...</td>\n",
       "    </tr>\n",
       "    <tr>\n",
       "      <th>77349</th>\n",
       "      <td>0208023143</td>\n",
       "      <td>Booksharing: One Hundred One Programs to Use W...</td>\n",
       "      <td>Margaret MacDonald</td>\n",
       "      <td>10.0</td>\n",
       "      <td>1997</td>\n",
       "      <td>Library Professional Publications</td>\n",
       "      <td>http://images.amazon.com/images/P/0208023143.0...</td>\n",
       "      <td>http://images.amazon.com/images/P/0208023143.0...</td>\n",
       "      <td>http://images.amazon.com/images/P/0208023143.0...</td>\n",
       "    </tr>\n",
       "    <tr>\n",
       "      <th>77567</th>\n",
       "      <td>1552090159</td>\n",
       "      <td>A Book Lover's Diary</td>\n",
       "      <td>Shelagh Wallace</td>\n",
       "      <td>10.0</td>\n",
       "      <td>1995</td>\n",
       "      <td>Firefly Books Ltd</td>\n",
       "      <td>http://images.amazon.com/images/P/1552090159.0...</td>\n",
       "      <td>http://images.amazon.com/images/P/1552090159.0...</td>\n",
       "      <td>http://images.amazon.com/images/P/1552090159.0...</td>\n",
       "    </tr>\n",
       "    <tr>\n",
       "      <th>77649</th>\n",
       "      <td>0373217269</td>\n",
       "      <td>Cowboy Country (By Request 2'S) (By Request 2's)</td>\n",
       "      <td>Judith Bowen</td>\n",
       "      <td>10.0</td>\n",
       "      <td>2002</td>\n",
       "      <td>Harlequin</td>\n",
       "      <td>http://images.amazon.com/images/P/0373217269.0...</td>\n",
       "      <td>http://images.amazon.com/images/P/0373217269.0...</td>\n",
       "      <td>http://images.amazon.com/images/P/0373217269.0...</td>\n",
       "    </tr>\n",
       "    <tr>\n",
       "      <th>77652</th>\n",
       "      <td>0448417359</td>\n",
       "      <td>Horses: An Abridgment of Harold Roth's Big Boo...</td>\n",
       "      <td>Harold Roth</td>\n",
       "      <td>10.0</td>\n",
       "      <td>1997</td>\n",
       "      <td>Grosset &amp;amp; Dunlap</td>\n",
       "      <td>http://images.amazon.com/images/P/0448417359.0...</td>\n",
       "      <td>http://images.amazon.com/images/P/0448417359.0...</td>\n",
       "      <td>http://images.amazon.com/images/P/0448417359.0...</td>\n",
       "    </tr>\n",
       "    <tr>\n",
       "      <th>77684</th>\n",
       "      <td>0689317204</td>\n",
       "      <td>A Wizard of Earthsea</td>\n",
       "      <td>Ursula  K. Le Guin</td>\n",
       "      <td>10.0</td>\n",
       "      <td>1991</td>\n",
       "      <td>Atheneum</td>\n",
       "      <td>http://images.amazon.com/images/P/0689317204.0...</td>\n",
       "      <td>http://images.amazon.com/images/P/0689317204.0...</td>\n",
       "      <td>http://images.amazon.com/images/P/0689317204.0...</td>\n",
       "    </tr>\n",
       "    <tr>\n",
       "      <th>270080</th>\n",
       "      <td>0764224808</td>\n",
       "      <td>Cross My Heart (Hidden Diary)</td>\n",
       "      <td>Sandra Byrd</td>\n",
       "      <td>10.0</td>\n",
       "      <td>2001</td>\n",
       "      <td>Bethany House Publishers</td>\n",
       "      <td>http://images.amazon.com/images/P/0764224808.0...</td>\n",
       "      <td>http://images.amazon.com/images/P/0764224808.0...</td>\n",
       "      <td>http://images.amazon.com/images/P/0764224808.0...</td>\n",
       "    </tr>\n",
       "    <tr>\n",
       "      <th>77687</th>\n",
       "      <td>0689316844</td>\n",
       "      <td>The Tombs of Atuan</td>\n",
       "      <td>Ursula  K. Le Guin</td>\n",
       "      <td>10.0</td>\n",
       "      <td>1990</td>\n",
       "      <td>Atheneum</td>\n",
       "      <td>http://images.amazon.com/images/P/0689316844.0...</td>\n",
       "      <td>http://images.amazon.com/images/P/0689316844.0...</td>\n",
       "      <td>http://images.amazon.com/images/P/0689316844.0...</td>\n",
       "    </tr>\n",
       "    <tr>\n",
       "      <th>77772</th>\n",
       "      <td>3518375016</td>\n",
       "      <td>Gedichte Ã?ÃÂ¼ber die Liebe.</td>\n",
       "      <td>Bertolt Brecht</td>\n",
       "      <td>10.0</td>\n",
       "      <td>1984</td>\n",
       "      <td>Suhrkamp</td>\n",
       "      <td>http://images.amazon.com/images/P/3518375016.0...</td>\n",
       "      <td>http://images.amazon.com/images/P/3518375016.0...</td>\n",
       "      <td>http://images.amazon.com/images/P/3518375016.0...</td>\n",
       "    </tr>\n",
       "    <tr>\n",
       "      <th>77806</th>\n",
       "      <td>0525480544</td>\n",
       "      <td>The claiming of Sleeping Beauty: An erotic nov...</td>\n",
       "      <td>A. N Roquelaure</td>\n",
       "      <td>10.0</td>\n",
       "      <td>1983</td>\n",
       "      <td>Dutton</td>\n",
       "      <td>http://images.amazon.com/images/P/0525480544.0...</td>\n",
       "      <td>http://images.amazon.com/images/P/0525480544.0...</td>\n",
       "      <td>http://images.amazon.com/images/P/0525480544.0...</td>\n",
       "    </tr>\n",
       "    <tr>\n",
       "      <th>77807</th>\n",
       "      <td>1561632228</td>\n",
       "      <td>Spanish Fly: Soul Mates (Spanish Fly)</td>\n",
       "      <td>Tobalina</td>\n",
       "      <td>10.0</td>\n",
       "      <td>1998</td>\n",
       "      <td>Eurotica</td>\n",
       "      <td>http://images.amazon.com/images/P/1561632228.0...</td>\n",
       "      <td>http://images.amazon.com/images/P/1561632228.0...</td>\n",
       "      <td>http://images.amazon.com/images/P/1561632228.0...</td>\n",
       "    </tr>\n",
       "    <tr>\n",
       "      <th>77808</th>\n",
       "      <td>1871592518</td>\n",
       "      <td>The She Devils</td>\n",
       "      <td>Pierre Louys</td>\n",
       "      <td>10.0</td>\n",
       "      <td>1995</td>\n",
       "      <td>Creation Books</td>\n",
       "      <td>http://images.amazon.com/images/P/1871592518.0...</td>\n",
       "      <td>http://images.amazon.com/images/P/1871592518.0...</td>\n",
       "      <td>http://images.amazon.com/images/P/1871592518.0...</td>\n",
       "    </tr>\n",
       "    <tr>\n",
       "      <th>76802</th>\n",
       "      <td>1877662089</td>\n",
       "      <td>Metu Neter Vol. 2: Anuk Ausar, The Kamitic Ini...</td>\n",
       "      <td>Ra Un Nefer Amen</td>\n",
       "      <td>10.0</td>\n",
       "      <td>1994</td>\n",
       "      <td>Kamit Publications</td>\n",
       "      <td>http://images.amazon.com/images/P/1877662089.0...</td>\n",
       "      <td>http://images.amazon.com/images/P/1877662089.0...</td>\n",
       "      <td>http://images.amazon.com/images/P/1877662089.0...</td>\n",
       "    </tr>\n",
       "    <tr>\n",
       "      <th>76803</th>\n",
       "      <td>1877662038</td>\n",
       "      <td>Metu Neter Vol. 1: The Great Oracle of Tehuti ...</td>\n",
       "      <td>Ra Un Nefer Amen</td>\n",
       "      <td>10.0</td>\n",
       "      <td>1990</td>\n",
       "      <td>Kamit Pubns</td>\n",
       "      <td>http://images.amazon.com/images/P/1877662038.0...</td>\n",
       "      <td>http://images.amazon.com/images/P/1877662038.0...</td>\n",
       "      <td>http://images.amazon.com/images/P/1877662038.0...</td>\n",
       "    </tr>\n",
       "    <tr>\n",
       "      <th>76804</th>\n",
       "      <td>1881316718</td>\n",
       "      <td>Afrikan Holistic Health   : Complete Herb Reme...</td>\n",
       "      <td>Llaila O. Afrika</td>\n",
       "      <td>10.0</td>\n",
       "      <td>1993</td>\n",
       "      <td>A&amp;amp;b Publishers Group</td>\n",
       "      <td>http://images.amazon.com/images/P/1881316718.0...</td>\n",
       "      <td>http://images.amazon.com/images/P/1881316718.0...</td>\n",
       "      <td>http://images.amazon.com/images/P/1881316718.0...</td>\n",
       "    </tr>\n",
       "  </tbody>\n",
       "</table>\n",
       "</div>\n",
       "    <div class=\"colab-df-buttons\">\n",
       "\n",
       "  <div class=\"colab-df-container\">\n",
       "    <button class=\"colab-df-convert\" onclick=\"convertToInteractive('df-bca81961-0935-45fd-803e-c1549b5a0f4b')\"\n",
       "            title=\"Convert this dataframe to an interactive table.\"\n",
       "            style=\"display:none;\">\n",
       "\n",
       "  <svg xmlns=\"http://www.w3.org/2000/svg\" height=\"24px\" viewBox=\"0 -960 960 960\">\n",
       "    <path d=\"M120-120v-720h720v720H120Zm60-500h600v-160H180v160Zm220 220h160v-160H400v160Zm0 220h160v-160H400v160ZM180-400h160v-160H180v160Zm440 0h160v-160H620v160ZM180-180h160v-160H180v160Zm440 0h160v-160H620v160Z\"/>\n",
       "  </svg>\n",
       "    </button>\n",
       "\n",
       "  <style>\n",
       "    .colab-df-container {\n",
       "      display:flex;\n",
       "      gap: 12px;\n",
       "    }\n",
       "\n",
       "    .colab-df-convert {\n",
       "      background-color: #E8F0FE;\n",
       "      border: none;\n",
       "      border-radius: 50%;\n",
       "      cursor: pointer;\n",
       "      display: none;\n",
       "      fill: #1967D2;\n",
       "      height: 32px;\n",
       "      padding: 0 0 0 0;\n",
       "      width: 32px;\n",
       "    }\n",
       "\n",
       "    .colab-df-convert:hover {\n",
       "      background-color: #E2EBFA;\n",
       "      box-shadow: 0px 1px 2px rgba(60, 64, 67, 0.3), 0px 1px 3px 1px rgba(60, 64, 67, 0.15);\n",
       "      fill: #174EA6;\n",
       "    }\n",
       "\n",
       "    .colab-df-buttons div {\n",
       "      margin-bottom: 4px;\n",
       "    }\n",
       "\n",
       "    [theme=dark] .colab-df-convert {\n",
       "      background-color: #3B4455;\n",
       "      fill: #D2E3FC;\n",
       "    }\n",
       "\n",
       "    [theme=dark] .colab-df-convert:hover {\n",
       "      background-color: #434B5C;\n",
       "      box-shadow: 0px 1px 3px 1px rgba(0, 0, 0, 0.15);\n",
       "      filter: drop-shadow(0px 1px 2px rgba(0, 0, 0, 0.3));\n",
       "      fill: #FFFFFF;\n",
       "    }\n",
       "  </style>\n",
       "\n",
       "    <script>\n",
       "      const buttonEl =\n",
       "        document.querySelector('#df-bca81961-0935-45fd-803e-c1549b5a0f4b button.colab-df-convert');\n",
       "      buttonEl.style.display =\n",
       "        google.colab.kernel.accessAllowed ? 'block' : 'none';\n",
       "\n",
       "      async function convertToInteractive(key) {\n",
       "        const element = document.querySelector('#df-bca81961-0935-45fd-803e-c1549b5a0f4b');\n",
       "        const dataTable =\n",
       "          await google.colab.kernel.invokeFunction('convertToInteractive',\n",
       "                                                    [key], {});\n",
       "        if (!dataTable) return;\n",
       "\n",
       "        const docLinkHtml = 'Like what you see? Visit the ' +\n",
       "          '<a target=\"_blank\" href=https://colab.research.google.com/notebooks/data_table.ipynb>data table notebook</a>'\n",
       "          + ' to learn more about interactive tables.';\n",
       "        element.innerHTML = '';\n",
       "        dataTable['output_type'] = 'display_data';\n",
       "        await google.colab.output.renderOutput(dataTable, element);\n",
       "        const docLink = document.createElement('div');\n",
       "        docLink.innerHTML = docLinkHtml;\n",
       "        element.appendChild(docLink);\n",
       "      }\n",
       "    </script>\n",
       "  </div>\n",
       "\n",
       "\n",
       "    <div id=\"df-06eccb7e-2063-42b4-86a8-826242775a68\">\n",
       "      <button class=\"colab-df-quickchart\" onclick=\"quickchart('df-06eccb7e-2063-42b4-86a8-826242775a68')\"\n",
       "                title=\"Suggest charts\"\n",
       "                style=\"display:none;\">\n",
       "\n",
       "<svg xmlns=\"http://www.w3.org/2000/svg\" height=\"24px\"viewBox=\"0 0 24 24\"\n",
       "     width=\"24px\">\n",
       "    <g>\n",
       "        <path d=\"M19 3H5c-1.1 0-2 .9-2 2v14c0 1.1.9 2 2 2h14c1.1 0 2-.9 2-2V5c0-1.1-.9-2-2-2zM9 17H7v-7h2v7zm4 0h-2V7h2v10zm4 0h-2v-4h2v4z\"/>\n",
       "    </g>\n",
       "</svg>\n",
       "      </button>\n",
       "\n",
       "<style>\n",
       "  .colab-df-quickchart {\n",
       "      --bg-color: #E8F0FE;\n",
       "      --fill-color: #1967D2;\n",
       "      --hover-bg-color: #E2EBFA;\n",
       "      --hover-fill-color: #174EA6;\n",
       "      --disabled-fill-color: #AAA;\n",
       "      --disabled-bg-color: #DDD;\n",
       "  }\n",
       "\n",
       "  [theme=dark] .colab-df-quickchart {\n",
       "      --bg-color: #3B4455;\n",
       "      --fill-color: #D2E3FC;\n",
       "      --hover-bg-color: #434B5C;\n",
       "      --hover-fill-color: #FFFFFF;\n",
       "      --disabled-bg-color: #3B4455;\n",
       "      --disabled-fill-color: #666;\n",
       "  }\n",
       "\n",
       "  .colab-df-quickchart {\n",
       "    background-color: var(--bg-color);\n",
       "    border: none;\n",
       "    border-radius: 50%;\n",
       "    cursor: pointer;\n",
       "    display: none;\n",
       "    fill: var(--fill-color);\n",
       "    height: 32px;\n",
       "    padding: 0;\n",
       "    width: 32px;\n",
       "  }\n",
       "\n",
       "  .colab-df-quickchart:hover {\n",
       "    background-color: var(--hover-bg-color);\n",
       "    box-shadow: 0 1px 2px rgba(60, 64, 67, 0.3), 0 1px 3px 1px rgba(60, 64, 67, 0.15);\n",
       "    fill: var(--button-hover-fill-color);\n",
       "  }\n",
       "\n",
       "  .colab-df-quickchart-complete:disabled,\n",
       "  .colab-df-quickchart-complete:disabled:hover {\n",
       "    background-color: var(--disabled-bg-color);\n",
       "    fill: var(--disabled-fill-color);\n",
       "    box-shadow: none;\n",
       "  }\n",
       "\n",
       "  .colab-df-spinner {\n",
       "    border: 2px solid var(--fill-color);\n",
       "    border-color: transparent;\n",
       "    border-bottom-color: var(--fill-color);\n",
       "    animation:\n",
       "      spin 1s steps(1) infinite;\n",
       "  }\n",
       "\n",
       "  @keyframes spin {\n",
       "    0% {\n",
       "      border-color: transparent;\n",
       "      border-bottom-color: var(--fill-color);\n",
       "      border-left-color: var(--fill-color);\n",
       "    }\n",
       "    20% {\n",
       "      border-color: transparent;\n",
       "      border-left-color: var(--fill-color);\n",
       "      border-top-color: var(--fill-color);\n",
       "    }\n",
       "    30% {\n",
       "      border-color: transparent;\n",
       "      border-left-color: var(--fill-color);\n",
       "      border-top-color: var(--fill-color);\n",
       "      border-right-color: var(--fill-color);\n",
       "    }\n",
       "    40% {\n",
       "      border-color: transparent;\n",
       "      border-right-color: var(--fill-color);\n",
       "      border-top-color: var(--fill-color);\n",
       "    }\n",
       "    60% {\n",
       "      border-color: transparent;\n",
       "      border-right-color: var(--fill-color);\n",
       "    }\n",
       "    80% {\n",
       "      border-color: transparent;\n",
       "      border-right-color: var(--fill-color);\n",
       "      border-bottom-color: var(--fill-color);\n",
       "    }\n",
       "    90% {\n",
       "      border-color: transparent;\n",
       "      border-bottom-color: var(--fill-color);\n",
       "    }\n",
       "  }\n",
       "</style>\n",
       "\n",
       "      <script>\n",
       "        async function quickchart(key) {\n",
       "          const quickchartButtonEl =\n",
       "            document.querySelector('#' + key + ' button');\n",
       "          quickchartButtonEl.disabled = true;  // To prevent multiple clicks.\n",
       "          quickchartButtonEl.classList.add('colab-df-spinner');\n",
       "          try {\n",
       "            const charts = await google.colab.kernel.invokeFunction(\n",
       "                'suggestCharts', [key], {});\n",
       "          } catch (error) {\n",
       "            console.error('Error during call to suggestCharts:', error);\n",
       "          }\n",
       "          quickchartButtonEl.classList.remove('colab-df-spinner');\n",
       "          quickchartButtonEl.classList.add('colab-df-quickchart-complete');\n",
       "        }\n",
       "        (() => {\n",
       "          let quickchartButtonEl =\n",
       "            document.querySelector('#df-06eccb7e-2063-42b4-86a8-826242775a68 button');\n",
       "          quickchartButtonEl.style.display =\n",
       "            google.colab.kernel.accessAllowed ? 'block' : 'none';\n",
       "        })();\n",
       "      </script>\n",
       "    </div>\n",
       "    </div>\n",
       "  </div>\n"
      ],
      "application/vnd.google.colaboratory.intrinsic+json": {
       "type": "dataframe",
       "summary": "{\n  \"name\": \"books_with_rating\",\n  \"rows\": 30,\n  \"fields\": [\n    {\n      \"column\": \"ISBN\",\n      \"properties\": {\n        \"dtype\": \"string\",\n        \"num_unique_values\": 30,\n        \"samples\": [\n          \"1877662089\",\n          \"0806519274\",\n          \"3518375016\"\n        ],\n        \"semantic_type\": \"\",\n        \"description\": \"\"\n      }\n    },\n    {\n      \"column\": \"Book-Title\",\n      \"properties\": {\n        \"dtype\": \"string\",\n        \"num_unique_values\": 30,\n        \"samples\": [\n          \"Metu Neter Vol. 2: Anuk Ausar, The Kamitic Initiation System\",\n          \"What's Your X-Files\\\\ I.Q?: Over 1,000 Questions and Answers for Fans\\\"\",\n          \"Gedichte \\u00c3\\u0083?\\u00c3\\u0082\\u00c2\\u00bcber die Liebe.\"\n        ],\n        \"semantic_type\": \"\",\n        \"description\": \"\"\n      }\n    },\n    {\n      \"column\": \"Book-Author\",\n      \"properties\": {\n        \"dtype\": \"string\",\n        \"num_unique_values\": 25,\n        \"samples\": [\n          \"Trula Magruder\",\n          \"Harold Roth\",\n          \"Vonda N. McIntyre\"\n        ],\n        \"semantic_type\": \"\",\n        \"description\": \"\"\n      }\n    },\n    {\n      \"column\": \"Average-Rating\",\n      \"properties\": {\n        \"dtype\": \"number\",\n        \"std\": 0.0,\n        \"min\": 10.0,\n        \"max\": 10.0,\n        \"num_unique_values\": 1,\n        \"samples\": [\n          10.0\n        ],\n        \"semantic_type\": \"\",\n        \"description\": \"\"\n      }\n    },\n    {\n      \"column\": \"Year-Of-Publication\",\n      \"properties\": {\n        \"dtype\": \"number\",\n        \"std\": 6,\n        \"min\": 1978,\n        \"max\": 2003,\n        \"num_unique_values\": 15,\n        \"samples\": [\n          1990\n        ],\n        \"semantic_type\": \"\",\n        \"description\": \"\"\n      }\n    },\n    {\n      \"column\": \"Publisher\",\n      \"properties\": {\n        \"dtype\": \"string\",\n        \"num_unique_values\": 26,\n        \"samples\": [\n          \"American Girl\"\n        ],\n        \"semantic_type\": \"\",\n        \"description\": \"\"\n      }\n    },\n    {\n      \"column\": \"Image-URL-S\",\n      \"properties\": {\n        \"dtype\": \"string\",\n        \"num_unique_values\": 30,\n        \"samples\": [\n          \"http://images.amazon.com/images/P/1877662089.01.THUMBZZZ.jpg\"\n        ],\n        \"semantic_type\": \"\",\n        \"description\": \"\"\n      }\n    },\n    {\n      \"column\": \"Image-URL-M\",\n      \"properties\": {\n        \"dtype\": \"string\",\n        \"num_unique_values\": 30,\n        \"samples\": [\n          \"http://images.amazon.com/images/P/1877662089.01.MZZZZZZZ.jpg\"\n        ],\n        \"semantic_type\": \"\",\n        \"description\": \"\"\n      }\n    },\n    {\n      \"column\": \"Image-URL-L\",\n      \"properties\": {\n        \"dtype\": \"string\",\n        \"num_unique_values\": 30,\n        \"samples\": [\n          \"http://images.amazon.com/images/P/1877662089.01.LZZZZZZZ.jpg\"\n        ],\n        \"semantic_type\": \"\",\n        \"description\": \"\"\n      }\n    }\n  ]\n}"
      }
     },
     "metadata": {},
     "execution_count": 255
    }
   ]
  },
  {
   "cell_type": "code",
   "source": [
    "# скільки книг мають кожен з середніх рейтингів\n",
    "\n",
    "ratings_sorted = books_with_rating['Average-Rating'].value_counts().sort_index(ascending=False)\n",
    "display(ratings_sorted)\n",
    "books_with_rating['Average-Rating'].value_counts(normalize=True).round(4).sort_index(ascending=False)"
   ],
   "metadata": {
    "colab": {
     "base_uri": "https://localhost:8080/",
     "height": 1000
    },
    "id": "aQ1fdvJerE5T",
    "executionInfo": {
     "status": "ok",
     "timestamp": 1747047501086,
     "user_tz": -180,
     "elapsed": 28,
     "user": {
      "displayName": "Daria Hrychyna",
      "userId": "00581352827663716373"
     }
    },
    "outputId": "36aaeea2-61cd-4325-a372-a8ebdcc4fa97"
   },
   "execution_count": null,
   "outputs": [
    {
     "output_type": "display_data",
     "data": {
      "text/plain": [
       "Average-Rating\n",
       "10.0     13112\n",
       "9.8         14\n",
       "9.7         48\n",
       "9.6          2\n",
       "9.5        489\n",
       "9.4          6\n",
       "9.3         76\n",
       "9.2         22\n",
       "9.1          2\n",
       "9.0       9252\n",
       "8.9          2\n",
       "8.8         33\n",
       "8.7        120\n",
       "8.6         15\n",
       "8.5        858\n",
       "8.4          6\n",
       "8.3        143\n",
       "8.2         44\n",
       "8.1          9\n",
       "8.0      13666\n",
       "7.9         11\n",
       "7.8         51\n",
       "7.7        139\n",
       "7.6         28\n",
       "7.5       1044\n",
       "7.4         43\n",
       "7.3        154\n",
       "7.2        138\n",
       "7.1         18\n",
       "7.0      10641\n",
       "6.9         31\n",
       "6.8        197\n",
       "6.7        395\n",
       "6.6         90\n",
       "6.5        778\n",
       "6.4        116\n",
       "6.3        373\n",
       "6.2        277\n",
       "6.1         59\n",
       "6.0       6164\n",
       "5.9         84\n",
       "5.8        344\n",
       "5.7        784\n",
       "5.6        194\n",
       "5.5        553\n",
       "5.4        261\n",
       "5.3        883\n",
       "5.2        510\n",
       "5.1        195\n",
       "5.0      14494\n",
       "4.9        216\n",
       "4.8        722\n",
       "4.7        878\n",
       "4.6        462\n",
       "4.5       3563\n",
       "4.4        512\n",
       "4.3        909\n",
       "4.2       1122\n",
       "4.1        447\n",
       "4.0       7404\n",
       "3.9        546\n",
       "3.8       1403\n",
       "3.7        842\n",
       "3.6        903\n",
       "3.5       4584\n",
       "3.4       1037\n",
       "3.3       2368\n",
       "3.2       1526\n",
       "3.1        791\n",
       "3.0       5501\n",
       "2.9        816\n",
       "2.8       1453\n",
       "2.7       2987\n",
       "2.6       1144\n",
       "2.5       4577\n",
       "2.4       1070\n",
       "2.3       2698\n",
       "2.2       1703\n",
       "2.1        878\n",
       "2.0       4047\n",
       "1.9        761\n",
       "1.8       1989\n",
       "1.7       2121\n",
       "1.6       1187\n",
       "1.5       1420\n",
       "1.4       1059\n",
       "1.3       1026\n",
       "1.2       1571\n",
       "1.1        558\n",
       "1.0       1686\n",
       "0.9        415\n",
       "0.8        624\n",
       "0.7        421\n",
       "0.6        326\n",
       "0.5        308\n",
       "0.4        124\n",
       "0.3        102\n",
       "0.2         49\n",
       "0.1         12\n",
       "0.0     120315\n",
       "Name: count, dtype: int64"
      ],
      "text/html": [
       "<div>\n",
       "<style scoped>\n",
       "    .dataframe tbody tr th:only-of-type {\n",
       "        vertical-align: middle;\n",
       "    }\n",
       "\n",
       "    .dataframe tbody tr th {\n",
       "        vertical-align: top;\n",
       "    }\n",
       "\n",
       "    .dataframe thead th {\n",
       "        text-align: right;\n",
       "    }\n",
       "</style>\n",
       "<table border=\"1\" class=\"dataframe\">\n",
       "  <thead>\n",
       "    <tr style=\"text-align: right;\">\n",
       "      <th></th>\n",
       "      <th>count</th>\n",
       "    </tr>\n",
       "    <tr>\n",
       "      <th>Average-Rating</th>\n",
       "      <th></th>\n",
       "    </tr>\n",
       "  </thead>\n",
       "  <tbody>\n",
       "    <tr>\n",
       "      <th>10.0</th>\n",
       "      <td>13112</td>\n",
       "    </tr>\n",
       "    <tr>\n",
       "      <th>9.8</th>\n",
       "      <td>14</td>\n",
       "    </tr>\n",
       "    <tr>\n",
       "      <th>9.7</th>\n",
       "      <td>48</td>\n",
       "    </tr>\n",
       "    <tr>\n",
       "      <th>9.6</th>\n",
       "      <td>2</td>\n",
       "    </tr>\n",
       "    <tr>\n",
       "      <th>9.5</th>\n",
       "      <td>489</td>\n",
       "    </tr>\n",
       "    <tr>\n",
       "      <th>9.4</th>\n",
       "      <td>6</td>\n",
       "    </tr>\n",
       "    <tr>\n",
       "      <th>9.3</th>\n",
       "      <td>76</td>\n",
       "    </tr>\n",
       "    <tr>\n",
       "      <th>9.2</th>\n",
       "      <td>22</td>\n",
       "    </tr>\n",
       "    <tr>\n",
       "      <th>9.1</th>\n",
       "      <td>2</td>\n",
       "    </tr>\n",
       "    <tr>\n",
       "      <th>9.0</th>\n",
       "      <td>9252</td>\n",
       "    </tr>\n",
       "    <tr>\n",
       "      <th>8.9</th>\n",
       "      <td>2</td>\n",
       "    </tr>\n",
       "    <tr>\n",
       "      <th>8.8</th>\n",
       "      <td>33</td>\n",
       "    </tr>\n",
       "    <tr>\n",
       "      <th>8.7</th>\n",
       "      <td>120</td>\n",
       "    </tr>\n",
       "    <tr>\n",
       "      <th>8.6</th>\n",
       "      <td>15</td>\n",
       "    </tr>\n",
       "    <tr>\n",
       "      <th>8.5</th>\n",
       "      <td>858</td>\n",
       "    </tr>\n",
       "    <tr>\n",
       "      <th>8.4</th>\n",
       "      <td>6</td>\n",
       "    </tr>\n",
       "    <tr>\n",
       "      <th>8.3</th>\n",
       "      <td>143</td>\n",
       "    </tr>\n",
       "    <tr>\n",
       "      <th>8.2</th>\n",
       "      <td>44</td>\n",
       "    </tr>\n",
       "    <tr>\n",
       "      <th>8.1</th>\n",
       "      <td>9</td>\n",
       "    </tr>\n",
       "    <tr>\n",
       "      <th>8.0</th>\n",
       "      <td>13666</td>\n",
       "    </tr>\n",
       "    <tr>\n",
       "      <th>7.9</th>\n",
       "      <td>11</td>\n",
       "    </tr>\n",
       "    <tr>\n",
       "      <th>7.8</th>\n",
       "      <td>51</td>\n",
       "    </tr>\n",
       "    <tr>\n",
       "      <th>7.7</th>\n",
       "      <td>139</td>\n",
       "    </tr>\n",
       "    <tr>\n",
       "      <th>7.6</th>\n",
       "      <td>28</td>\n",
       "    </tr>\n",
       "    <tr>\n",
       "      <th>7.5</th>\n",
       "      <td>1044</td>\n",
       "    </tr>\n",
       "    <tr>\n",
       "      <th>7.4</th>\n",
       "      <td>43</td>\n",
       "    </tr>\n",
       "    <tr>\n",
       "      <th>7.3</th>\n",
       "      <td>154</td>\n",
       "    </tr>\n",
       "    <tr>\n",
       "      <th>7.2</th>\n",
       "      <td>138</td>\n",
       "    </tr>\n",
       "    <tr>\n",
       "      <th>7.1</th>\n",
       "      <td>18</td>\n",
       "    </tr>\n",
       "    <tr>\n",
       "      <th>7.0</th>\n",
       "      <td>10641</td>\n",
       "    </tr>\n",
       "    <tr>\n",
       "      <th>6.9</th>\n",
       "      <td>31</td>\n",
       "    </tr>\n",
       "    <tr>\n",
       "      <th>6.8</th>\n",
       "      <td>197</td>\n",
       "    </tr>\n",
       "    <tr>\n",
       "      <th>6.7</th>\n",
       "      <td>395</td>\n",
       "    </tr>\n",
       "    <tr>\n",
       "      <th>6.6</th>\n",
       "      <td>90</td>\n",
       "    </tr>\n",
       "    <tr>\n",
       "      <th>6.5</th>\n",
       "      <td>778</td>\n",
       "    </tr>\n",
       "    <tr>\n",
       "      <th>6.4</th>\n",
       "      <td>116</td>\n",
       "    </tr>\n",
       "    <tr>\n",
       "      <th>6.3</th>\n",
       "      <td>373</td>\n",
       "    </tr>\n",
       "    <tr>\n",
       "      <th>6.2</th>\n",
       "      <td>277</td>\n",
       "    </tr>\n",
       "    <tr>\n",
       "      <th>6.1</th>\n",
       "      <td>59</td>\n",
       "    </tr>\n",
       "    <tr>\n",
       "      <th>6.0</th>\n",
       "      <td>6164</td>\n",
       "    </tr>\n",
       "    <tr>\n",
       "      <th>5.9</th>\n",
       "      <td>84</td>\n",
       "    </tr>\n",
       "    <tr>\n",
       "      <th>5.8</th>\n",
       "      <td>344</td>\n",
       "    </tr>\n",
       "    <tr>\n",
       "      <th>5.7</th>\n",
       "      <td>784</td>\n",
       "    </tr>\n",
       "    <tr>\n",
       "      <th>5.6</th>\n",
       "      <td>194</td>\n",
       "    </tr>\n",
       "    <tr>\n",
       "      <th>5.5</th>\n",
       "      <td>553</td>\n",
       "    </tr>\n",
       "    <tr>\n",
       "      <th>5.4</th>\n",
       "      <td>261</td>\n",
       "    </tr>\n",
       "    <tr>\n",
       "      <th>5.3</th>\n",
       "      <td>883</td>\n",
       "    </tr>\n",
       "    <tr>\n",
       "      <th>5.2</th>\n",
       "      <td>510</td>\n",
       "    </tr>\n",
       "    <tr>\n",
       "      <th>5.1</th>\n",
       "      <td>195</td>\n",
       "    </tr>\n",
       "    <tr>\n",
       "      <th>5.0</th>\n",
       "      <td>14494</td>\n",
       "    </tr>\n",
       "    <tr>\n",
       "      <th>4.9</th>\n",
       "      <td>216</td>\n",
       "    </tr>\n",
       "    <tr>\n",
       "      <th>4.8</th>\n",
       "      <td>722</td>\n",
       "    </tr>\n",
       "    <tr>\n",
       "      <th>4.7</th>\n",
       "      <td>878</td>\n",
       "    </tr>\n",
       "    <tr>\n",
       "      <th>4.6</th>\n",
       "      <td>462</td>\n",
       "    </tr>\n",
       "    <tr>\n",
       "      <th>4.5</th>\n",
       "      <td>3563</td>\n",
       "    </tr>\n",
       "    <tr>\n",
       "      <th>4.4</th>\n",
       "      <td>512</td>\n",
       "    </tr>\n",
       "    <tr>\n",
       "      <th>4.3</th>\n",
       "      <td>909</td>\n",
       "    </tr>\n",
       "    <tr>\n",
       "      <th>4.2</th>\n",
       "      <td>1122</td>\n",
       "    </tr>\n",
       "    <tr>\n",
       "      <th>4.1</th>\n",
       "      <td>447</td>\n",
       "    </tr>\n",
       "    <tr>\n",
       "      <th>4.0</th>\n",
       "      <td>7404</td>\n",
       "    </tr>\n",
       "    <tr>\n",
       "      <th>3.9</th>\n",
       "      <td>546</td>\n",
       "    </tr>\n",
       "    <tr>\n",
       "      <th>3.8</th>\n",
       "      <td>1403</td>\n",
       "    </tr>\n",
       "    <tr>\n",
       "      <th>3.7</th>\n",
       "      <td>842</td>\n",
       "    </tr>\n",
       "    <tr>\n",
       "      <th>3.6</th>\n",
       "      <td>903</td>\n",
       "    </tr>\n",
       "    <tr>\n",
       "      <th>3.5</th>\n",
       "      <td>4584</td>\n",
       "    </tr>\n",
       "    <tr>\n",
       "      <th>3.4</th>\n",
       "      <td>1037</td>\n",
       "    </tr>\n",
       "    <tr>\n",
       "      <th>3.3</th>\n",
       "      <td>2368</td>\n",
       "    </tr>\n",
       "    <tr>\n",
       "      <th>3.2</th>\n",
       "      <td>1526</td>\n",
       "    </tr>\n",
       "    <tr>\n",
       "      <th>3.1</th>\n",
       "      <td>791</td>\n",
       "    </tr>\n",
       "    <tr>\n",
       "      <th>3.0</th>\n",
       "      <td>5501</td>\n",
       "    </tr>\n",
       "    <tr>\n",
       "      <th>2.9</th>\n",
       "      <td>816</td>\n",
       "    </tr>\n",
       "    <tr>\n",
       "      <th>2.8</th>\n",
       "      <td>1453</td>\n",
       "    </tr>\n",
       "    <tr>\n",
       "      <th>2.7</th>\n",
       "      <td>2987</td>\n",
       "    </tr>\n",
       "    <tr>\n",
       "      <th>2.6</th>\n",
       "      <td>1144</td>\n",
       "    </tr>\n",
       "    <tr>\n",
       "      <th>2.5</th>\n",
       "      <td>4577</td>\n",
       "    </tr>\n",
       "    <tr>\n",
       "      <th>2.4</th>\n",
       "      <td>1070</td>\n",
       "    </tr>\n",
       "    <tr>\n",
       "      <th>2.3</th>\n",
       "      <td>2698</td>\n",
       "    </tr>\n",
       "    <tr>\n",
       "      <th>2.2</th>\n",
       "      <td>1703</td>\n",
       "    </tr>\n",
       "    <tr>\n",
       "      <th>2.1</th>\n",
       "      <td>878</td>\n",
       "    </tr>\n",
       "    <tr>\n",
       "      <th>2.0</th>\n",
       "      <td>4047</td>\n",
       "    </tr>\n",
       "    <tr>\n",
       "      <th>1.9</th>\n",
       "      <td>761</td>\n",
       "    </tr>\n",
       "    <tr>\n",
       "      <th>1.8</th>\n",
       "      <td>1989</td>\n",
       "    </tr>\n",
       "    <tr>\n",
       "      <th>1.7</th>\n",
       "      <td>2121</td>\n",
       "    </tr>\n",
       "    <tr>\n",
       "      <th>1.6</th>\n",
       "      <td>1187</td>\n",
       "    </tr>\n",
       "    <tr>\n",
       "      <th>1.5</th>\n",
       "      <td>1420</td>\n",
       "    </tr>\n",
       "    <tr>\n",
       "      <th>1.4</th>\n",
       "      <td>1059</td>\n",
       "    </tr>\n",
       "    <tr>\n",
       "      <th>1.3</th>\n",
       "      <td>1026</td>\n",
       "    </tr>\n",
       "    <tr>\n",
       "      <th>1.2</th>\n",
       "      <td>1571</td>\n",
       "    </tr>\n",
       "    <tr>\n",
       "      <th>1.1</th>\n",
       "      <td>558</td>\n",
       "    </tr>\n",
       "    <tr>\n",
       "      <th>1.0</th>\n",
       "      <td>1686</td>\n",
       "    </tr>\n",
       "    <tr>\n",
       "      <th>0.9</th>\n",
       "      <td>415</td>\n",
       "    </tr>\n",
       "    <tr>\n",
       "      <th>0.8</th>\n",
       "      <td>624</td>\n",
       "    </tr>\n",
       "    <tr>\n",
       "      <th>0.7</th>\n",
       "      <td>421</td>\n",
       "    </tr>\n",
       "    <tr>\n",
       "      <th>0.6</th>\n",
       "      <td>326</td>\n",
       "    </tr>\n",
       "    <tr>\n",
       "      <th>0.5</th>\n",
       "      <td>308</td>\n",
       "    </tr>\n",
       "    <tr>\n",
       "      <th>0.4</th>\n",
       "      <td>124</td>\n",
       "    </tr>\n",
       "    <tr>\n",
       "      <th>0.3</th>\n",
       "      <td>102</td>\n",
       "    </tr>\n",
       "    <tr>\n",
       "      <th>0.2</th>\n",
       "      <td>49</td>\n",
       "    </tr>\n",
       "    <tr>\n",
       "      <th>0.1</th>\n",
       "      <td>12</td>\n",
       "    </tr>\n",
       "    <tr>\n",
       "      <th>0.0</th>\n",
       "      <td>120315</td>\n",
       "    </tr>\n",
       "  </tbody>\n",
       "</table>\n",
       "</div><br><label><b>dtype:</b> int64</label>"
      ]
     },
     "metadata": {}
    },
    {
     "output_type": "execute_result",
     "data": {
      "text/plain": [
       "Average-Rating\n",
       "10.0    0.0485\n",
       "9.8     0.0001\n",
       "9.7     0.0002\n",
       "9.6     0.0000\n",
       "9.5     0.0018\n",
       "9.4     0.0000\n",
       "9.3     0.0003\n",
       "9.2     0.0001\n",
       "9.1     0.0000\n",
       "9.0     0.0342\n",
       "8.9     0.0000\n",
       "8.8     0.0001\n",
       "8.7     0.0004\n",
       "8.6     0.0001\n",
       "8.5     0.0032\n",
       "8.4     0.0000\n",
       "8.3     0.0005\n",
       "8.2     0.0002\n",
       "8.1     0.0000\n",
       "8.0     0.0506\n",
       "7.9     0.0000\n",
       "7.8     0.0002\n",
       "7.7     0.0005\n",
       "7.6     0.0001\n",
       "7.5     0.0039\n",
       "7.4     0.0002\n",
       "7.3     0.0006\n",
       "7.2     0.0005\n",
       "7.1     0.0001\n",
       "7.0     0.0394\n",
       "6.9     0.0001\n",
       "6.8     0.0007\n",
       "6.7     0.0015\n",
       "6.6     0.0003\n",
       "6.5     0.0029\n",
       "6.4     0.0004\n",
       "6.3     0.0014\n",
       "6.2     0.0010\n",
       "6.1     0.0002\n",
       "6.0     0.0228\n",
       "5.9     0.0003\n",
       "5.8     0.0013\n",
       "5.7     0.0029\n",
       "5.6     0.0007\n",
       "5.5     0.0020\n",
       "5.4     0.0010\n",
       "5.3     0.0033\n",
       "5.2     0.0019\n",
       "5.1     0.0007\n",
       "5.0     0.0537\n",
       "4.9     0.0008\n",
       "4.8     0.0027\n",
       "4.7     0.0033\n",
       "4.6     0.0017\n",
       "4.5     0.0132\n",
       "4.4     0.0019\n",
       "4.3     0.0034\n",
       "4.2     0.0042\n",
       "4.1     0.0017\n",
       "4.0     0.0274\n",
       "3.9     0.0020\n",
       "3.8     0.0052\n",
       "3.7     0.0031\n",
       "3.6     0.0033\n",
       "3.5     0.0170\n",
       "3.4     0.0038\n",
       "3.3     0.0088\n",
       "3.2     0.0056\n",
       "3.1     0.0029\n",
       "3.0     0.0204\n",
       "2.9     0.0030\n",
       "2.8     0.0054\n",
       "2.7     0.0111\n",
       "2.6     0.0042\n",
       "2.5     0.0169\n",
       "2.4     0.0040\n",
       "2.3     0.0100\n",
       "2.2     0.0063\n",
       "2.1     0.0033\n",
       "2.0     0.0150\n",
       "1.9     0.0028\n",
       "1.8     0.0074\n",
       "1.7     0.0079\n",
       "1.6     0.0044\n",
       "1.5     0.0053\n",
       "1.4     0.0039\n",
       "1.3     0.0038\n",
       "1.2     0.0058\n",
       "1.1     0.0021\n",
       "1.0     0.0062\n",
       "0.9     0.0015\n",
       "0.8     0.0023\n",
       "0.7     0.0016\n",
       "0.6     0.0012\n",
       "0.5     0.0011\n",
       "0.4     0.0005\n",
       "0.3     0.0004\n",
       "0.2     0.0002\n",
       "0.1     0.0000\n",
       "0.0     0.4454\n",
       "Name: proportion, dtype: float64"
      ],
      "text/html": [
       "<div>\n",
       "<style scoped>\n",
       "    .dataframe tbody tr th:only-of-type {\n",
       "        vertical-align: middle;\n",
       "    }\n",
       "\n",
       "    .dataframe tbody tr th {\n",
       "        vertical-align: top;\n",
       "    }\n",
       "\n",
       "    .dataframe thead th {\n",
       "        text-align: right;\n",
       "    }\n",
       "</style>\n",
       "<table border=\"1\" class=\"dataframe\">\n",
       "  <thead>\n",
       "    <tr style=\"text-align: right;\">\n",
       "      <th></th>\n",
       "      <th>proportion</th>\n",
       "    </tr>\n",
       "    <tr>\n",
       "      <th>Average-Rating</th>\n",
       "      <th></th>\n",
       "    </tr>\n",
       "  </thead>\n",
       "  <tbody>\n",
       "    <tr>\n",
       "      <th>10.0</th>\n",
       "      <td>0.0485</td>\n",
       "    </tr>\n",
       "    <tr>\n",
       "      <th>9.8</th>\n",
       "      <td>0.0001</td>\n",
       "    </tr>\n",
       "    <tr>\n",
       "      <th>9.7</th>\n",
       "      <td>0.0002</td>\n",
       "    </tr>\n",
       "    <tr>\n",
       "      <th>9.6</th>\n",
       "      <td>0.0000</td>\n",
       "    </tr>\n",
       "    <tr>\n",
       "      <th>9.5</th>\n",
       "      <td>0.0018</td>\n",
       "    </tr>\n",
       "    <tr>\n",
       "      <th>9.4</th>\n",
       "      <td>0.0000</td>\n",
       "    </tr>\n",
       "    <tr>\n",
       "      <th>9.3</th>\n",
       "      <td>0.0003</td>\n",
       "    </tr>\n",
       "    <tr>\n",
       "      <th>9.2</th>\n",
       "      <td>0.0001</td>\n",
       "    </tr>\n",
       "    <tr>\n",
       "      <th>9.1</th>\n",
       "      <td>0.0000</td>\n",
       "    </tr>\n",
       "    <tr>\n",
       "      <th>9.0</th>\n",
       "      <td>0.0342</td>\n",
       "    </tr>\n",
       "    <tr>\n",
       "      <th>8.9</th>\n",
       "      <td>0.0000</td>\n",
       "    </tr>\n",
       "    <tr>\n",
       "      <th>8.8</th>\n",
       "      <td>0.0001</td>\n",
       "    </tr>\n",
       "    <tr>\n",
       "      <th>8.7</th>\n",
       "      <td>0.0004</td>\n",
       "    </tr>\n",
       "    <tr>\n",
       "      <th>8.6</th>\n",
       "      <td>0.0001</td>\n",
       "    </tr>\n",
       "    <tr>\n",
       "      <th>8.5</th>\n",
       "      <td>0.0032</td>\n",
       "    </tr>\n",
       "    <tr>\n",
       "      <th>8.4</th>\n",
       "      <td>0.0000</td>\n",
       "    </tr>\n",
       "    <tr>\n",
       "      <th>8.3</th>\n",
       "      <td>0.0005</td>\n",
       "    </tr>\n",
       "    <tr>\n",
       "      <th>8.2</th>\n",
       "      <td>0.0002</td>\n",
       "    </tr>\n",
       "    <tr>\n",
       "      <th>8.1</th>\n",
       "      <td>0.0000</td>\n",
       "    </tr>\n",
       "    <tr>\n",
       "      <th>8.0</th>\n",
       "      <td>0.0506</td>\n",
       "    </tr>\n",
       "    <tr>\n",
       "      <th>7.9</th>\n",
       "      <td>0.0000</td>\n",
       "    </tr>\n",
       "    <tr>\n",
       "      <th>7.8</th>\n",
       "      <td>0.0002</td>\n",
       "    </tr>\n",
       "    <tr>\n",
       "      <th>7.7</th>\n",
       "      <td>0.0005</td>\n",
       "    </tr>\n",
       "    <tr>\n",
       "      <th>7.6</th>\n",
       "      <td>0.0001</td>\n",
       "    </tr>\n",
       "    <tr>\n",
       "      <th>7.5</th>\n",
       "      <td>0.0039</td>\n",
       "    </tr>\n",
       "    <tr>\n",
       "      <th>7.4</th>\n",
       "      <td>0.0002</td>\n",
       "    </tr>\n",
       "    <tr>\n",
       "      <th>7.3</th>\n",
       "      <td>0.0006</td>\n",
       "    </tr>\n",
       "    <tr>\n",
       "      <th>7.2</th>\n",
       "      <td>0.0005</td>\n",
       "    </tr>\n",
       "    <tr>\n",
       "      <th>7.1</th>\n",
       "      <td>0.0001</td>\n",
       "    </tr>\n",
       "    <tr>\n",
       "      <th>7.0</th>\n",
       "      <td>0.0394</td>\n",
       "    </tr>\n",
       "    <tr>\n",
       "      <th>6.9</th>\n",
       "      <td>0.0001</td>\n",
       "    </tr>\n",
       "    <tr>\n",
       "      <th>6.8</th>\n",
       "      <td>0.0007</td>\n",
       "    </tr>\n",
       "    <tr>\n",
       "      <th>6.7</th>\n",
       "      <td>0.0015</td>\n",
       "    </tr>\n",
       "    <tr>\n",
       "      <th>6.6</th>\n",
       "      <td>0.0003</td>\n",
       "    </tr>\n",
       "    <tr>\n",
       "      <th>6.5</th>\n",
       "      <td>0.0029</td>\n",
       "    </tr>\n",
       "    <tr>\n",
       "      <th>6.4</th>\n",
       "      <td>0.0004</td>\n",
       "    </tr>\n",
       "    <tr>\n",
       "      <th>6.3</th>\n",
       "      <td>0.0014</td>\n",
       "    </tr>\n",
       "    <tr>\n",
       "      <th>6.2</th>\n",
       "      <td>0.0010</td>\n",
       "    </tr>\n",
       "    <tr>\n",
       "      <th>6.1</th>\n",
       "      <td>0.0002</td>\n",
       "    </tr>\n",
       "    <tr>\n",
       "      <th>6.0</th>\n",
       "      <td>0.0228</td>\n",
       "    </tr>\n",
       "    <tr>\n",
       "      <th>5.9</th>\n",
       "      <td>0.0003</td>\n",
       "    </tr>\n",
       "    <tr>\n",
       "      <th>5.8</th>\n",
       "      <td>0.0013</td>\n",
       "    </tr>\n",
       "    <tr>\n",
       "      <th>5.7</th>\n",
       "      <td>0.0029</td>\n",
       "    </tr>\n",
       "    <tr>\n",
       "      <th>5.6</th>\n",
       "      <td>0.0007</td>\n",
       "    </tr>\n",
       "    <tr>\n",
       "      <th>5.5</th>\n",
       "      <td>0.0020</td>\n",
       "    </tr>\n",
       "    <tr>\n",
       "      <th>5.4</th>\n",
       "      <td>0.0010</td>\n",
       "    </tr>\n",
       "    <tr>\n",
       "      <th>5.3</th>\n",
       "      <td>0.0033</td>\n",
       "    </tr>\n",
       "    <tr>\n",
       "      <th>5.2</th>\n",
       "      <td>0.0019</td>\n",
       "    </tr>\n",
       "    <tr>\n",
       "      <th>5.1</th>\n",
       "      <td>0.0007</td>\n",
       "    </tr>\n",
       "    <tr>\n",
       "      <th>5.0</th>\n",
       "      <td>0.0537</td>\n",
       "    </tr>\n",
       "    <tr>\n",
       "      <th>4.9</th>\n",
       "      <td>0.0008</td>\n",
       "    </tr>\n",
       "    <tr>\n",
       "      <th>4.8</th>\n",
       "      <td>0.0027</td>\n",
       "    </tr>\n",
       "    <tr>\n",
       "      <th>4.7</th>\n",
       "      <td>0.0033</td>\n",
       "    </tr>\n",
       "    <tr>\n",
       "      <th>4.6</th>\n",
       "      <td>0.0017</td>\n",
       "    </tr>\n",
       "    <tr>\n",
       "      <th>4.5</th>\n",
       "      <td>0.0132</td>\n",
       "    </tr>\n",
       "    <tr>\n",
       "      <th>4.4</th>\n",
       "      <td>0.0019</td>\n",
       "    </tr>\n",
       "    <tr>\n",
       "      <th>4.3</th>\n",
       "      <td>0.0034</td>\n",
       "    </tr>\n",
       "    <tr>\n",
       "      <th>4.2</th>\n",
       "      <td>0.0042</td>\n",
       "    </tr>\n",
       "    <tr>\n",
       "      <th>4.1</th>\n",
       "      <td>0.0017</td>\n",
       "    </tr>\n",
       "    <tr>\n",
       "      <th>4.0</th>\n",
       "      <td>0.0274</td>\n",
       "    </tr>\n",
       "    <tr>\n",
       "      <th>3.9</th>\n",
       "      <td>0.0020</td>\n",
       "    </tr>\n",
       "    <tr>\n",
       "      <th>3.8</th>\n",
       "      <td>0.0052</td>\n",
       "    </tr>\n",
       "    <tr>\n",
       "      <th>3.7</th>\n",
       "      <td>0.0031</td>\n",
       "    </tr>\n",
       "    <tr>\n",
       "      <th>3.6</th>\n",
       "      <td>0.0033</td>\n",
       "    </tr>\n",
       "    <tr>\n",
       "      <th>3.5</th>\n",
       "      <td>0.0170</td>\n",
       "    </tr>\n",
       "    <tr>\n",
       "      <th>3.4</th>\n",
       "      <td>0.0038</td>\n",
       "    </tr>\n",
       "    <tr>\n",
       "      <th>3.3</th>\n",
       "      <td>0.0088</td>\n",
       "    </tr>\n",
       "    <tr>\n",
       "      <th>3.2</th>\n",
       "      <td>0.0056</td>\n",
       "    </tr>\n",
       "    <tr>\n",
       "      <th>3.1</th>\n",
       "      <td>0.0029</td>\n",
       "    </tr>\n",
       "    <tr>\n",
       "      <th>3.0</th>\n",
       "      <td>0.0204</td>\n",
       "    </tr>\n",
       "    <tr>\n",
       "      <th>2.9</th>\n",
       "      <td>0.0030</td>\n",
       "    </tr>\n",
       "    <tr>\n",
       "      <th>2.8</th>\n",
       "      <td>0.0054</td>\n",
       "    </tr>\n",
       "    <tr>\n",
       "      <th>2.7</th>\n",
       "      <td>0.0111</td>\n",
       "    </tr>\n",
       "    <tr>\n",
       "      <th>2.6</th>\n",
       "      <td>0.0042</td>\n",
       "    </tr>\n",
       "    <tr>\n",
       "      <th>2.5</th>\n",
       "      <td>0.0169</td>\n",
       "    </tr>\n",
       "    <tr>\n",
       "      <th>2.4</th>\n",
       "      <td>0.0040</td>\n",
       "    </tr>\n",
       "    <tr>\n",
       "      <th>2.3</th>\n",
       "      <td>0.0100</td>\n",
       "    </tr>\n",
       "    <tr>\n",
       "      <th>2.2</th>\n",
       "      <td>0.0063</td>\n",
       "    </tr>\n",
       "    <tr>\n",
       "      <th>2.1</th>\n",
       "      <td>0.0033</td>\n",
       "    </tr>\n",
       "    <tr>\n",
       "      <th>2.0</th>\n",
       "      <td>0.0150</td>\n",
       "    </tr>\n",
       "    <tr>\n",
       "      <th>1.9</th>\n",
       "      <td>0.0028</td>\n",
       "    </tr>\n",
       "    <tr>\n",
       "      <th>1.8</th>\n",
       "      <td>0.0074</td>\n",
       "    </tr>\n",
       "    <tr>\n",
       "      <th>1.7</th>\n",
       "      <td>0.0079</td>\n",
       "    </tr>\n",
       "    <tr>\n",
       "      <th>1.6</th>\n",
       "      <td>0.0044</td>\n",
       "    </tr>\n",
       "    <tr>\n",
       "      <th>1.5</th>\n",
       "      <td>0.0053</td>\n",
       "    </tr>\n",
       "    <tr>\n",
       "      <th>1.4</th>\n",
       "      <td>0.0039</td>\n",
       "    </tr>\n",
       "    <tr>\n",
       "      <th>1.3</th>\n",
       "      <td>0.0038</td>\n",
       "    </tr>\n",
       "    <tr>\n",
       "      <th>1.2</th>\n",
       "      <td>0.0058</td>\n",
       "    </tr>\n",
       "    <tr>\n",
       "      <th>1.1</th>\n",
       "      <td>0.0021</td>\n",
       "    </tr>\n",
       "    <tr>\n",
       "      <th>1.0</th>\n",
       "      <td>0.0062</td>\n",
       "    </tr>\n",
       "    <tr>\n",
       "      <th>0.9</th>\n",
       "      <td>0.0015</td>\n",
       "    </tr>\n",
       "    <tr>\n",
       "      <th>0.8</th>\n",
       "      <td>0.0023</td>\n",
       "    </tr>\n",
       "    <tr>\n",
       "      <th>0.7</th>\n",
       "      <td>0.0016</td>\n",
       "    </tr>\n",
       "    <tr>\n",
       "      <th>0.6</th>\n",
       "      <td>0.0012</td>\n",
       "    </tr>\n",
       "    <tr>\n",
       "      <th>0.5</th>\n",
       "      <td>0.0011</td>\n",
       "    </tr>\n",
       "    <tr>\n",
       "      <th>0.4</th>\n",
       "      <td>0.0005</td>\n",
       "    </tr>\n",
       "    <tr>\n",
       "      <th>0.3</th>\n",
       "      <td>0.0004</td>\n",
       "    </tr>\n",
       "    <tr>\n",
       "      <th>0.2</th>\n",
       "      <td>0.0002</td>\n",
       "    </tr>\n",
       "    <tr>\n",
       "      <th>0.1</th>\n",
       "      <td>0.0000</td>\n",
       "    </tr>\n",
       "    <tr>\n",
       "      <th>0.0</th>\n",
       "      <td>0.4454</td>\n",
       "    </tr>\n",
       "  </tbody>\n",
       "</table>\n",
       "</div><br><label><b>dtype:</b> float64</label>"
      ]
     },
     "metadata": {},
     "execution_count": 256
    }
   ]
  },
  {
   "cell_type": "code",
   "source": [
    "# побудова графіку з середнім рейтингом\n",
    "import importlib\n",
    "import visualization.ratings_visualization as rv\n",
    "importlib.reload(rv)\n",
    "rv.plot_average_rating_distribution(ratings_sorted)"
   ],
   "metadata": {
    "colab": {
     "base_uri": "https://localhost:8080/",
     "height": 932
    },
    "id": "dCtanMsgJqLJ",
    "executionInfo": {
     "status": "ok",
     "timestamp": 1747047678669,
     "user_tz": -180,
     "elapsed": 1359,
     "user": {
      "displayName": "Daria Hrychyna",
      "userId": "00581352827663716373"
     }
    },
    "outputId": "487714fe-2731-490f-eebc-cec026530fc3"
   },
   "execution_count": null,
   "outputs": [
    {
     "output_type": "stream",
     "name": "stderr",
     "text": [
      "/content/drive/MyDrive/З КУРС/3.2./Coursework/book_recommender_project/visualization/ratings_visualization.py:9: FutureWarning: \n",
      "\n",
      "Passing `palette` without assigning `hue` is deprecated and will be removed in v0.14.0. Assign the `x` variable to `hue` and set `legend=False` for the same effect.\n",
      "\n",
      "  sns.barplot(x=ratings_sorted.index, y=ratings_sorted.values ,palette=cool)\n",
      "/content/drive/MyDrive/З КУРС/3.2./Coursework/book_recommender_project/visualization/ratings_visualization.py:9: UserWarning: The palette list has more values (100) than needed (99), which may not be intended.\n",
      "  sns.barplot(x=ratings_sorted.index, y=ratings_sorted.values ,palette=cool)\n"
     ]
    },
    {
     "output_type": "display_data",
     "data": {
      "text/plain": [
       "<Figure size 2500x2500 with 1 Axes>"
      ],
      "image/png": "[encoded data removed]"
     },
     "metadata": {}
    }
   ]
  },
  {
   "cell_type": "markdown",
   "source": [
    "# ----------------------------------------- ГРАФІКИ ДЛЯ ПРЕДСТАВЛЕННЯ ДАНИХ -----------------------------------------"
   ],
   "metadata": {
    "id": "vwDOXvSMJwLU"
   }
  },
  {
   "cell_type": "code",
   "source": [
    "# графіки\n",
    "\n",
    "\n",
    "sns.set(style=\"whitegrid\")\n",
    "plt.figure(figsize=(16, 20))\n",
    "\n",
    "# --- 1. найпопулярніші книги ---\n",
    "plt.subplot(4, 1, 1)\n",
    "top_books = bookRating['Book-Title'].value_counts().head(10)\n",
    "sns.barplot(x=top_books.values, y=top_books.index, hue=top_books.index, palette='viridis', legend=False)\n",
    "plt.title('Топ-10 найпопулярніших книг за кількістю оцінок')\n",
    "plt.xlabel('Кількість оцінок')\n",
    "plt.ylabel('Назва книги')\n",
    "\n",
    "# --- 2. найпопулярніші автори ---\n",
    "plt.subplot(4, 1, 2)\n",
    "top_authors_by_ratings = bookRating['Book-Author'].value_counts().head(10)\n",
    "sns.barplot(x=top_authors_by_ratings.values, y=top_authors_by_ratings.index, hue=top_authors_by_ratings.index, palette='magma', legend=False)\n",
    "plt.title('Топ-10 авторів за кількістю оцінок їхніх книг')\n",
    "plt.xlabel('Кількість оцінок')\n",
    "plt.ylabel('Автор')\n",
    "\n",
    "plt.tight_layout()\n",
    "plt.show()"
   ],
   "metadata": {
    "colab": {
     "base_uri": "https://localhost:8080/",
     "height": 1000
    },
    "id": "Wm8ULJYOptG9",
    "executionInfo": {
     "status": "ok",
     "timestamp": 1747040377971,
     "user_tz": -180,
     "elapsed": 1205,
     "user": {
      "displayName": "Daria Hrychyna",
      "userId": "00581352827663716373"
     }
    },
    "outputId": "3b5b4b94-32d0-4bb6-96e0-d69d40719398"
   },
   "execution_count": null,
   "outputs": [
    {
     "output_type": "display_data",
     "data": {
      "text/plain": [
       "<Figure size 1600x2000 with 2 Axes>"
      ],
      "image/png": "[encoded data removed]"
     },
     "metadata": {}
    }
   ]
  },
  {
   "cell_type": "markdown",
   "source": [
    "# ----------------------------------------- СТВОРЕННЯ І НАВЧАННЯ МОДЕЛІ ----------------------------------"
   ],
   "metadata": {
    "id": "vRYjI5W3uqQU"
   }
  },
  {
   "cell_type": "markdown",
   "source": [
    "## Підхід на основі спільної фільтрації\n",
    "для системи рекомендацій на основі користувачів створюється новий тип даних, наприклад:\n",
    "\n",
    "кожен користувач матиме оцінку для кожної книги, і будуть дотримуватися такі критерії, як:\n",
    "\n",
    "1. Цінність оцінок досвідчених користувачів: взяти оцінки користувачів, які оцінили понад 200 книг\n",
    "\n",
    "2. Цінність книг з високими оцінками: рекомендація книг, які мають понад 50 оцінок, тобто популярні та відомі книги"
   ],
   "metadata": {
    "id": "CsvEAxrcOjZJ"
   }
  },
  {
   "cell_type": "markdown",
   "source": [
    "# Робота моделі:\n",
    "\n",
    "кожна книга представлена як точка, утворена вектором, використовуючи користувачів. тобто кожна книга представлена як рейтинг юзера, який проголосував більше, ніж 200 разів. в цьому випадку це 816 юзерів\n",
    "\n",
    "після представлення їх як косинусних векторів можна далі прожовжувати використовувати косинусну подібність як міру подібност"
   ],
   "metadata": {
    "collapsed": false
   }
  },
  {
   "cell_type": "markdown",
   "source": [
    "# Створення функції"
   ],
   "metadata": {
    "id": "WjHTdQY2SgQ1"
   }
  },
  {
   "cell_type": "markdown",
   "source": [
    "створюю функцію, яка може рекомендувати книги на основі заданої схожості"
   ],
   "metadata": {
    "id": "WIQszZzQSnHy"
   }
  },
  {
   "cell_type": "code",
   "source": [
    "from web.rec_model import BookRecommender\n",
    "import pandas as pd\n",
    "\n",
    "# Завантаження змердженого датафрейму\n",
    "books_path = ('data/Books_fixed.csv')\n",
    "ratings_path = ('data/Ratings.csv')\n",
    "\n",
    "books = pd.read_csv(books_path)\n",
    "ratings = pd.read_csv(ratings_path)\n",
    "\n",
    "ratings_books_merged = ratings.merge(books, on='ISBN') \n",
    "\n",
    "# Створення моделі\n",
    "model = BookRecommender(ratings_books_merged)\n",
    "\n",
    "def print_recommendations(book_name):\n",
    "    recommendations = model.recommend(book_name)\n",
    "    if not recommendations:\n",
    "        print(f'Book \"{book_name}\" not found.\\n')\n",
    "        return\n",
    "    print(f'Recommendations for the book {book_name}:')\n",
    "    print('-----')\n",
    "    for book in recommendations:\n",
    "        print(book['title'])\n",
    "    print('\\n')\n",
    "\n",
    "# Приклади рекомендацій\n",
    "print_recommendations('Harry Potter and the Chamber of Secrets (Book 2)')\n",
    "print_recommendations('1984')\n",
    "print_recommendations('Message in a Bottle')\n",
    "print_recommendations('The Da Vinci Code')\n",
    "print_recommendations('The Return of the King (The Lord of the Rings, Part 3)')\n",
    "print_recommendations('The Hobbit')"
   ],
   "metadata": {
    "id": "cK08xn4YptXc",
    "ExecuteTime": {
     "end_time": "2025-05-17T19:40:40.612803600Z",
     "start_time": "2025-05-17T19:40:34.496393100Z"
    }
   },
   "execution_count": 64,
   "outputs": [
    {
     "name": "stdout",
     "output_type": "stream",
     "text": [
      "Recommendations for the book Harry Potter and the Chamber of Secrets (Book 2):\n",
      "-----\n",
      "Harry Potter and the Prisoner of Azkaban (Book 3)\n",
      "Harry Potter and the Goblet of Fire (Book 4)\n",
      "Harry Potter and the Sorcerer's Stone (Harry Potter (Paperback))\n",
      "Harry Potter and the Sorcerer's Stone (Book 1)\n",
      "Harry Potter and the Order of the Phoenix (Book 5)\n",
      "Charlotte's Web (Trophy Newbery)\n",
      "The Fellowship of the Ring (The Lord of the Rings, Part 1)\n",
      "The Shelters of Stone (Earth's Children Series, No 5)\n",
      "The Eye of the World (The Wheel of Time, Book 1)\n",
      "Stiff: The Curious Lives of Human Cadavers\n",
      "\n",
      "\n",
      "Recommendations for the book 1984:\n",
      "-----\n",
      "Lying Awake\n",
      "The Restaurant at the End of the Universe (Hitchhiker's Trilogy (Paperback))\n",
      "Waiting\n",
      "Animal Farm\n",
      "The Handmaid's Tale\n",
      "Roll of Thunder, Hear My Cry\n",
      "Awakening\n",
      "A Portrait of the Artist As a Young Man\n",
      "Slaughterhouse Five or the Children's Crusade: A Duty Dance With Death\n",
      "Brave New World\n",
      "\n",
      "\n",
      "Recommendations for the book Message in a Bottle:\n",
      "-----\n",
      "Nights in Rodanthe\n",
      "The Loop: A Novel\n",
      "The Mulberry Tree\n",
      "A Walk to Remember\n",
      "River's End\n",
      "Nightmares &amp; Dreamscapes\n",
      "Eye of the Beholder\n",
      "Gap Creek: The Story of a Marriage\n",
      "Sanctuary\n",
      "Out on a Limb\n",
      "\n",
      "\n",
      "Recommendations for the book The Da Vinci Code:\n",
      "-----\n",
      "Angels &amp; Demons\n",
      "Doing Good\n",
      "Touching Evil\n",
      "TickTock\n",
      "The Arraignment\n",
      "Saving Faith\n",
      "The Sweet Potato Queens' Book of Love\n",
      "Middlesex: A Novel\n",
      "The Blue Nowhere : A Novel\n",
      "On the Road (Penguin 20th Century Classics)\n",
      "\n",
      "\n",
      "Recommendations for the book The Return of the King (The Lord of the Rings, Part 3):\n",
      "-----\n",
      "The Two Towers (The Lord of the Rings, Part 2)\n",
      "The Fellowship of the Ring (The Lord of the Rings, Part 1)\n",
      "Hawaii\n",
      "Foundation (Foundation Novels (Paperback))\n",
      "Prelude to Foundation (Foundation Novels (Paperback))\n",
      "Fire Ice: A Novel from the Numa Files (Kurt Austin Adventures (Paperback))\n",
      "Asking for Trouble: A Novel\n",
      "Tom Clancy's Op-Center: Line of Control (Tom Clancy's Op Center (Paperback))\n",
      "The Magician's Nephew (rack) (Narnia)\n",
      "Friday\n",
      "\n",
      "\n",
      "Recommendations for the book The Hobbit:\n",
      "-----\n",
      "Memoirs of a Geisha Uk\n",
      "Foundation (Foundation Novels (Paperback))\n",
      "Girl With a Pearl Earring\n",
      "Hawaii\n",
      "The Return of the King (The Lord of the Rings, Part 3)\n",
      "Frankenstein (Changing Our World)\n",
      "Bell Jar\n",
      "Emma\n",
      "The Postman (Bantam Classics)\n",
      "Black Sunday\n"
     ]
    }
   ]
  }
 ]
}
